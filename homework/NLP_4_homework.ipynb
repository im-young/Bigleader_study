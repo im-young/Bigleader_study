{
  "cells": [
    {
      "cell_type": "markdown",
      "metadata": {
        "id": "view-in-github",
        "colab_type": "text"
      },
      "source": [
        "<a href=\"https://colab.research.google.com/github/im-young/Bigleader_study/blob/main/homework/NLP_4_homework.ipynb\" target=\"_parent\"><img src=\"https://colab.research.google.com/assets/colab-badge.svg\" alt=\"Open In Colab\"/></a>"
      ]
    },
    {
      "cell_type": "code",
      "execution_count": null,
      "metadata": {
        "id": "TFDcM4r7TqjV"
      },
      "outputs": [],
      "source": [
        "from tensorflow.keras.utils import to_categorical\n",
        "from tensorflow.keras.models import Sequential\n",
        "from tensorflow.keras.layers import Dense, Embedding, SimpleRNN, LSTM\n",
        "from tensorflow.keras.preprocessing.text import Tokenizer\n",
        "from tensorflow.keras.preprocessing.sequence import pad_sequences\n",
        "\n",
        "import pandas as pd\n",
        "import numpy as  np\n",
        "from string import punctuation"
      ]
    },
    {
      "cell_type": "code",
      "execution_count": null,
      "metadata": {
        "id": "60ufr_yST0My"
      },
      "outputs": [],
      "source": [
        "df = pd.read_csv('/content/drive/MyDrive/AI 빅리더/NLP/data/NYT_2018.csv')\n"
      ]
    },
    {
      "cell_type": "code",
      "execution_count": null,
      "metadata": {
        "colab": {
          "base_uri": "https://localhost:8080/"
        },
        "id": "k_1M41xoUADf",
        "outputId": "b8462c6a-2ba2-415f-99ae-b2ee7ff9ecc9"
      },
      "outputs": [
        {
          "name": "stdout",
          "output_type": "stream",
          "text": [
            "<class 'pandas.core.frame.DataFrame'>\n",
            "RangeIndex: 1324 entries, 0 to 1323\n",
            "Data columns (total 15 columns):\n",
            " #   Column            Non-Null Count  Dtype \n",
            "---  ------            --------------  ----- \n",
            " 0   articleID         1324 non-null   object\n",
            " 1   articleWordCount  1324 non-null   int64 \n",
            " 2   byline            1324 non-null   object\n",
            " 3   documentType      1324 non-null   object\n",
            " 4   headline          1324 non-null   object\n",
            " 5   keywords          1324 non-null   object\n",
            " 6   multimedia        1324 non-null   int64 \n",
            " 7   newDesk           1324 non-null   object\n",
            " 8   printPage         1324 non-null   int64 \n",
            " 9   pubDate           1324 non-null   object\n",
            " 10  sectionName       1324 non-null   object\n",
            " 11  snippet           1324 non-null   object\n",
            " 12  source            1324 non-null   object\n",
            " 13  typeOfMaterial    1324 non-null   object\n",
            " 14  webURL            1324 non-null   object\n",
            "dtypes: int64(3), object(12)\n",
            "memory usage: 155.3+ KB\n"
          ]
        }
      ],
      "source": [
        "df.info()"
      ]
    },
    {
      "cell_type": "code",
      "execution_count": null,
      "metadata": {
        "colab": {
          "base_uri": "https://localhost:8080/"
        },
        "id": "9TMzhxYOUCE8",
        "outputId": "6994df77-8e46-4c56-a6be-add0567c2dab"
      },
      "outputs": [
        {
          "data": {
            "text/plain": [
              "['Former N.F.L. Cheerleaders’ Settlement Offer: $1 and a Meeting With Goodell',\n",
              " 'E.P.A. to Unveil a New Rule. Its Effect: Less Science in Policymaking.',\n",
              " 'The New Noma, Explained',\n",
              " 'How a Bag of Texas Dirt  Became a Times Tradition',\n",
              " 'Is School a Place for Self-Expression?',\n",
              " 'Commuter Reprogramming',\n",
              " 'Ford Changed Leaders, Looking for a Lift. It’s Still Looking.',\n",
              " 'Romney Failed to Win at Utah Convention, But Few Believe He’s Doomed',\n",
              " 'Chain Reaction',\n",
              " 'He Forced the Vatican to Investigate Sex Abuse. Now He’s Meeting With Pope Francis.',\n",
              " 'In Berlin, artists find a home',\n",
              " 'The Right Stuff',\n",
              " 'Jimmy Carter Knows What North Korea Wants',\n",
              " 'The Truth Is Out There',\n",
              " 'New Jersey Ruling Could Reignite Battle Over Church-State Separation',\n",
              " 'Procrastinating',\n",
              " 'Word + Quiz: dilatory',\n",
              " 'My Life-Threatening Bout With E. Coli Food Poisoning',\n",
              " 'Choosing Brexit, a Town Yearned for Its Seafaring Past, and Muddied Its Future',\n",
              " 'A Quote Disproved',\n",
              " 'Hot Stuff Turns Cold',\n",
              " 'At the Top, The Pay Gap May Be Gone',\n",
              " 'Years of Bizarre Behavior, but He Got Guns Back',\n",
              " 'Will the Court Stand Up to Mr. Trump?',\n",
              " 'Hope in Arizona',\n",
              " 'How Human Rights Groups Failed on Economic Equality',\n",
              " 'An American Tragedy in Nashville',\n",
              " 'We Don’t Need No Education',\n",
              " 'Paul Relents, And Pompeo Is Approved By Panel',\n",
              " 'Making Change',\n",
              " 'Long Overlooked, City Buses Get Some Love in Turnaround Push',\n",
              " 'Trump’s First State Dinner Nods to Traditions and Bucks Them, Too',\n",
              " 'Money Pouring Into Wisconsin For a Key Race  ',\n",
              " 'For Trump and Kim, High Stakes and Mismatched Motives',\n",
              " 'On Sidewalk, Van Cuts Down 10 in Toronto',\n",
              " 'A Pope Given to Apologies Has Nothing for Indigenous Canada',\n",
              " 'Europe’s Leaders Will Urge Trump To Save Iran Deal',\n",
              " 'Craft Distillers, Facing Lower Taxes, Invest in Themselves',\n",
              " '‘Avengers,’ the Most Lucrative Movie Franchise Ever, Is Wrapping Up. Why?',\n",
              " 'Taking On Genital Reconstruction',\n",
              " 'What the Heck Is That?: UTNE',\n",
              " 'Frontier States',\n",
              " 'Mirror, Mirror in Denial',\n",
              " 'Patron Who Wrested Rifle Says He Was ‘Just Trying to Live’',\n",
              " 'Richard Carranza: ‘As the Chancellor, I Ultimately Own Everything’',\n",
              " 'Helping Kids With A.D.H.D., and Their Families, Thrive',\n",
              " 'The Debate Persists Over G.M.O. Foods',\n",
              " 'So Long to Music City’s Favorite Soap Opera',\n",
              " 'It’s Westworld. What’s Wrong With Cruelty to Robots?',\n",
              " 'What’s Going On in This Picture? | April 23, 2018',\n",
              " 'Against All Odds',\n",
              " 'Shopping for Multilevel Coffee Tables',\n",
              " 'The Whisky Chronicles',\n",
              " 'Officials’ New Plan to Fix Subway: Let’s Use Unproven Technology',\n",
              " 'Cancer Label On Coffee Has Its Own Risks',\n",
              " 'A Special Delivery In Britain: It’s a Prince',\n",
              " 'Setting Tone for Post-Presidency, Obama Will Share Message of Tolerance',\n",
              " 'For Politicians Scraping Bottom, a Scarce Resource: Impeachment Lawyers',\n",
              " 'The One Fight This Referee Won’t Stop',\n",
              " 'How Do You Feel About Being Told to Smile?',\n",
              " 'Sudan Blocks Migrants’ Path, Aiding Europe',\n",
              " '‘A Peaceful Mood’ as the 2 Koreas Meet',\n",
              " '‘Billions’ Season 3, Episode 5 Recap: The Family We Choose',\n",
              " '‘Westworld’ Season 2 Premiere: Truth and Consequences',\n",
              " 'His Majesty of Magic',\n",
              " 'Rhyme Gone Wild, in a 1738 Kind of Way',\n",
              " 'Public Servants Losing Foothold In Middle Class',\n",
              " 'A Time for  Big Economic  Ideas',\n",
              " 'Thank Trump, or You’ll Be Sorry',\n",
              " 'Mr. Mueller’s Swamp Guide',\n",
              " 'America  Abhors  Impeachment',\n",
              " 'Missing History at Columbia',\n",
              " 'Buried in the Gaza Graveyard Where He Played Dead',\n",
              " 'Lead Off',\n",
              " 'Sidewalk Rescue',\n",
              " 'Cuomo vs. de Blasio: One of the Country’s Ugliest Political Feuds',\n",
              " 'Dodging Tariffs With a Handy Detour',\n",
              " 'Steel Tariffs and Wages (Painfully Wonkish)',\n",
              " 'China Left Out As Kim Plans To Talk to Foes',\n",
              " 'A Tribute to Uwe Reinhardt',\n",
              " 'Revisiting the Open Era’s Forgotten Home, Still Cold and Wet',\n",
              " 'Pluses and Minuses',\n",
              " 'A Survival Bid  By Rosenstein  May Be Costly',\n",
              " 'The Opioid Crisis Foretold',\n",
              " 'The Business Deals That Could Imperil Trump',\n",
              " 'Adapting to American Decline',\n",
              " 'The Republicans’ Big Senate Mess',\n",
              " 'States Are Doing What Scott Pruitt Won’t',\n",
              " 'Fake Pearls, Real Heart',\n",
              " 'Fear Beyond Starbucks',\n",
              " 'Variety: Puns and Anagrams',\n",
              " 'E.P.A. Chief’s Ethics Woes Have Echoes in His Past',\n",
              " 'Democrats Push Some To Bow Out',\n",
              " 'Where Facebook Rumors Fuel Thirst for Revenge',\n",
              " 'The House Next Door Is an Airbnb. Here’s What You Can Do About It.',\n",
              " 'Punch the Air',\n",
              " 'Caution, Babies Voting',\n",
              " 'Childbirth’s Dangers for Black Women',\n",
              " 'A Man Set Himself on Fire. We Barely Noticed.',\n",
              " 'Why Men Quit and Women Don’t',\n",
              " 'Jewish Power At 70 Years',\n",
              " 'Here to Help; A Word on Phrasing: ‘Just Deserts’',\n",
              " 'It’s Curtains for ‘Gypsy’',\n",
              " 'Punching Bag  For President  Now Has Clout',\n",
              " 'A Provocateur in a Blood-Dripping Appearance',\n",
              " 'Democratic Party Files a Lawsuit Alleging a Trump-Russia Conspiracy',\n",
              " 'Justice Dept. Is Seen as Divided On Rights Case in Garner Killing',\n",
              " '‘They Were Never Going To Let Me Be President’',\n",
              " '‘Full-On Propaganda’ From Inside C.I.A. on Pick for Director',\n",
              " 'Two Twisting Towers Come to the Far West Side',\n",
              " 'With Deal, Wells Fargo Will Pay Big Penalty',\n",
              " 'Once Known for Mayhem, East New York Is a ‘Killing Fields’ No More',\n",
              " 'A Familiar Place Becomes Home',\n",
              " '‘RuPaul’s Drag Race’: Season 10, Episode 5: Getting to 50',\n",
              " 'Nobody Tells You How Long a Marriage Is',\n",
              " 'Big Egos, Politics And Lack Of Trust',\n",
              " 'Cynthia Nixon Can Save the Democrats (From Themselves)',\n",
              " 'The Repetitive Insanity Along the Gaza Fence',\n",
              " 'Can It Happen Here?',\n",
              " 'North Korean Promise to Hault  Nuclear Testing',\n",
              " 'Four Families, One Mission: Space',\n",
              " 'Candidates Are Embracing the ‘S’ Word',\n",
              " 'G.O.P. Support Shows Cracks as Scott Pruitt’s Ethics Inquiries Widen ',\n",
              " 'Can Sanctions Push the North Into Reforms?',\n",
              " 'Extra! Extra! He’s Still Selling',\n",
              " 'Stephen Colbert Doesn’t Want to Know More About Trump’s Sex Life',\n",
              " 'Turning to Marijuana for a Runners’ High and More',\n",
              " 'Tarot Card Reading',\n",
              " 'Is Your School’s Dress Code Too Strict?',\n",
              " 'Teaching Activities for: “Southwest Pilot of Flight 1380 Is Navy Veteran Hailed for Her ‘Nerves of Steel’”',\n",
              " 'Global Track-and-Field Ban on Russia Shows No Sign of Letting Up. Here’s Why.',\n",
              " '‘Atlanta’ Season 2, Episode 8 Recap: Is Al Finally Ready to be Paper Boi?',\n",
              " 'The Place of Today’s Puzzle',\n",
              " 'Redacted Comey Memos Delivered to Lawmakers',\n",
              " 'Eliza’s in Charge This Time',\n",
              " 'The Equal Rights Amendment Returns',\n",
              " 'The Great Snake Oil Slump',\n",
              " 'Is Russia Sponsoring Terrorism?',\n",
              " 'Dawn at the Fulton Fish Market',\n",
              " '‘Deceived and Betrayed’ Parents Of Slain Children Urge Résumé Law',\n",
              " 'Giuliani to Lend Legal Firepower As Trump’s Team Adds Lawyers',\n",
              " 'The Parallels in Jake Tapper’s New Novel',\n",
              " 'Olivia Pope’s Pantsuit Nation',\n",
              " 'Teaching With: ‘Fashion vs. Art’',\n",
              " 'Officials to Lay a $1 Billion Fine on Wells Fargo',\n",
              " 'Armstrong Agrees to Pay $5 Million In Fraud Case',\n",
              " 'When Is It Safe to Eat Salad Again?',\n",
              " 'Case of Ex-F.B.I. Deputy Chief Is Sent for Possible Prosecution',\n",
              " 'The Problem With Miracle Cancer Cures',\n",
              " 'At Ho Foods, a Noodle Soup That Nourishes and Transports',\n",
              " 'Pediatrician Who Gave Asperger Syndrome Its Name Is Tied to Nazi Killing of Children',\n",
              " 'Bodies Remodeled for a Life at Sea',\n",
              " 'A New Restaurant, Frenchette, Stands Up for Natural Wines',\n",
              " 'Men Arrested At Starbucks Hope to Spur Talk on Race',\n",
              " 'What #MeToo Means to Teenagers',\n",
              " 'Here’s $1 Million. Now Make Your Movie.',\n",
              " 'New York City Rent Slide',\n",
              " 'Cuba’s New Leader: Progressive, Hard-Liner, Enigma',\n",
              " 'In a Hot Global Economy, a Surplus of Frowns',\n",
              " 'An Olive Branch By North Korea Is Viewed Warily',\n",
              " 'Teaching Activities for: ‘San Francisco’s Big Seismic Gamble’',\n",
              " 'Standardized Tests',\n",
              " 'Should All Companies Require Anti-Bias Training for Employees?',\n",
              " 'The Goal? Sowing Literature',\n",
              " 'Imaginative Caregiving for the Cancer Patient',\n",
              " 'The Democrats’ Gentrification Problem',\n",
              " 'Lighting The Way For Others To Shine',\n",
              " 'Landscapes, Art and Aliens',\n",
              " 'For Better, for Worse and Things You Can’t Remember',\n",
              " 'Marriage, a Path to Citizenship, Becomes a Road to Deportation',\n",
              " '36 Hours in Lisbon',\n",
              " 'How Janelle Monáe Found Her Voice',\n",
              " '‘Crazy High’ Tolls Get a Closer Look',\n",
              " 'Damage to Great Barrier Reef From Global Warming Is Irreversible, Scientists Say',\n",
              " 'Dislike Comey,  Despise Trump',\n",
              " 'Democrats, the Real Fiscal Conservatives',\n",
              " 'New Tales of Old Persia Unfolding in New York',\n",
              " 'A Drug to End Addiction? Scientists Are Working on It.',\n",
              " 'Creative Start',\n",
              " 'Other End of the Leash',\n",
              " 'Choosing a Road Fit for Dr. King',\n",
              " 'Syrian Strike Attracts Talk, Not Changes',\n",
              " 'The Real Next War in Syria: Iran vs. Israel',\n",
              " 'Comey, in Interview, Launches All-Out War Against President',\n",
              " 'Barbara Bush, Gravely Ill,  Opts to Halt Treatment',\n",
              " 'Trump to Punish  Russia for Aiding  Attack by Syria',\n",
              " 'Trump Blasts Comey in Barrage of Tweets, Calling Him ‘Slippery’',\n",
              " 'Homes That Sold for Around $600,000',\n",
              " 'A YouTuber Brings Tarot to the People',\n",
              " 'Preposition Proposition',\n",
              " 'I Can’t Jump Ship From Facebook Yet',\n",
              " 'Mom Is Running for Office',\n",
              " 'The Warrior  At The Mall',\n",
              " 'Scrap Your To-Do List',\n",
              " 'Paul Ryan, Party Man',\n",
              " 'A ‘Black Tax’ on Housing',\n",
              " 'Don’t Call Me a Genius',\n",
              " 'We Need an Exorcist!',\n",
              " 'Strange Pension Math Leaves States in Pinch of Own Making',\n",
              " 'How Profiteers  Coax Women  Into Surgery',\n",
              " 'Variety: Acrostic',\n",
              " '‘Mission Accomplished!’ But What Is the Mission in Syria?',\n",
              " 'What to Do When a Window Ledge Becomes a Nest for Pigeons',\n",
              " 'U.S. Says Strikes Took Out ‘Heart’  Of Assad Threat',\n",
              " 'Salute the Signature. It’s Signing Off.',\n",
              " 'Expressions of Affection',\n",
              " 'The Republic, Republicans And Ryan',\n",
              " 'Trump Launches Strikes on Syrian Targets',\n",
              " 'Pull Yourself Together, Henry Higgins!',\n",
              " \"The Power of Pictures: Viewing History Through America's Library\",\n",
              " 'A Pregnancy, a Payment and a G.O.P. Resignation',\n",
              " 'A Step Ahead, Cuomo and Allies Spurn Party Before It Can Endorse Rival',\n",
              " 'On His Own, the Burgundy Iconoclast Laurent Ponsot Looks to Big Projects',\n",
              " 'Trading Snarl for Smile, Pompeo Makes Case to Lead State Dept.',\n",
              " 'Mitzi Shore, 87, Comedy Club Owner Who Fostered Rising Stars in Her ‘University’',\n",
              " 'Rice Balls, Subtle and Showy Alike, at Omusubi Gonbei',\n",
              " 'Washington Insider and Former Coal Lobbyist Becomes E.P.A. Deputy Chief',\n",
              " 'Addressing His ‘Problem Areas’',\n",
              " 'If Your House Punched the Clock',\n",
              " 'Privacy Issue Rises to Fore, Vindicating Data Experts',\n",
              " 'The Crossword Zoo: 10 Animals You Should Know',\n",
              " 'A Performer Who’s Not Just Body and Snarl',\n",
              " 'Staring Down on Syria',\n",
              " 'Pentagon Urges Greater Caution For Syria Strike',\n",
              " 'A Better Body in a Pill? Experts Urge Caution on SARMs',\n",
              " 'Signs of a Political Armageddon',\n",
              " 'Trump Wants America to Revert to the Queens of His Childhood',\n",
              " 'Where #MeToo Should Go Next',\n",
              " 'Appointing Yet Another White, Male Director Is a Missed Opportunity for the Met',\n",
              " 'Dissenting Against the Supreme Court’s Rightward Shift',\n",
              " 'Lots of Fish on the Screen',\n",
              " 'Saying So Long To ‘Scandal’',\n",
              " 'Brooklyn Stalwart Heads West and North',\n",
              " 'A Phoenix Transplant Wages an All-Out Battle Against Sticker Shock',\n",
              " 'Teacher Walkouts Threaten Republicans’ Grip on Red States',\n",
              " 'House (and a Party) Upended as Speaker Calmly Takes His Leave',\n",
              " '36 Hours in Victoria, British Columbia',\n",
              " 'Teaching Activities for: ‘Kidnapped as Schoolgirls by Boko Haram: Here They Are Now’',\n",
              " 'Portraits of Mestiza in Mexico, as They Wish to Be Seen',\n",
              " 'Fashion Comebacks',\n",
              " 'Is Now the Best Time in Human History to Be Alive?',\n",
              " 'Morning People May Live Longer Than Night Owls',\n",
              " '‘The Americans’ Season 6, Episode 3 Recap: Moscow Believes in Beef Stew',\n",
              " 'Overlooked No More: Lin Huiyin and Liang Sicheng, Chroniclers of Chinese Architecture',\n",
              " 'The Silent Partner',\n",
              " 'Headline a Tabloid Didn’t Run Catches the Investigators’ Eyes',\n",
              " 'Pompeo Begins Charm Offensive Before His Senate Questioning',\n",
              " 'America’s Lethal Export',\n",
              " 'In Tweets on Syria, Russia and China: Triumph of Contradiction',\n",
              " 'Good Riddance, Mr. Speaker',\n",
              " 'In Syrian Town, Objects Fell From Sky, Then Shouts of ‘Chemicals!’',\n",
              " 'Plan to Track Methane Leaks From Above',\n",
              " 'It’s Not Too Late, Mr. Ryan',\n",
              " 'The U.S. Will Pay if Trump Fires Mueller',\n",
              " 'Tugging on the Reins Of Facebook’s Power',\n",
              " 'She Has a Lot to Say (and Say and Say)',\n",
              " 'Alternative Health Plans, Fewer Rules',\n",
              " 'Putin, or the World? Sanctions May Force Russian Oligarchs to Choose',\n",
              " 'Brutal Rape And Murder Of Girl, 8, Divides India',\n",
              " 'Balaboosta to Close at End of May',\n",
              " 'If These Doors Could Talk: Selling Portals Into Chelsea Hotel’s Past',\n",
              " 'Police in France Begin Clearing Airport Protest Camp',\n",
              " '$2.3 Million Homes in New York, Florida and Colorado',\n",
              " 'A Treehouse That’s Off the Grid',\n",
              " 'For Ryan, Tax Cut Is Feather in His Cap, Trump an Albatross Around His Neck',\n",
              " 'Ryan Will Retire, Scattering Hopes Of G.O.P. for 2018',\n",
              " '‘Access Hollywood’ Tape Said to Be Focus of Raid',\n",
              " 'Former F.B.I. Deputy Director Is Faulted in Scathing Inspector General Report',\n",
              " 'Former Cheney Aide Is Pardoned by Trump In C.I.A. Leak Case',\n",
              " 'Billionaire’s Ambition Meets a City’s Dream',\n",
              " 'Riffing On One of the World’s Great Sandwiches',\n",
              " 'The Clinical Trial Is Open. The Elderly Need Not Apply.',\n",
              " 'Craving a Taste of Spring? Try This.',\n",
              " 'Sea Turtles Use Magnetic Fields to Find Their Birthplace Beach',\n",
              " 'A Punch Line  Feels Like A Gut Punch',\n",
              " 'A Chef’s Advice for Relaxation: Stir Some Risotto',\n",
              " 'Vision Loss? Simple Aids Can Help',\n",
              " 'Watching the Weekend House, During the Week',\n",
              " '‘Untruthful Slime Ball’: Trump and G.O.P. Lash Back at Comey',\n",
              " 'Lawyer’s Files  A Bigger Risk  Than Mueller',\n",
              " 'How Can Oats, Which Don’t Contain Gluten, Be Labeled ‘Gluten Free’?',\n",
              " 'Homeless in Seattle, and Wed Beneath an Overpass',\n",
              " 'He’s No Longer My Ex-Husband, He’s My Co-Grandparent',\n",
              " 'Will Democrats Win the House? Ask Texas',\n",
              " 'Tax Day Dilemma: Why Am I Paying Scott Pruitt to Nap?',\n",
              " 'Tethered to a raging buffoon',\n",
              " 'Trevor Noah Hammers Congress for Dependence on Facebook’s Cash',\n",
              " 'Betting on the Berkshires',\n",
              " 'Never Solved, a College Dorm Fire Has Become One Man’s Obsession',\n",
              " 'A Governor’s Affair, A Legal Battle and Political Uncertainty in Missouri',\n",
              " 'Collector Thriving in the Modern Maze',\n",
              " 'Officials Have Lost Count of How Many Thousands Have Died in Syria’s War',\n",
              " 'Sustainable Travel: It’s Not Just About the Environment',\n",
              " 'Why Your Bank Account Interest Is Still Paltry',\n",
              " 'In Alaska, It Could Be Your Neighbor Chasing That Car Thief',\n",
              " 'Spidey’s Creator In a Web Of Strife',\n",
              " 'Do You Trust Facebook?',\n",
              " 'Teaching Activities for: ‘Paul Ryan Upends Republican Hopes and Plans for Midterm Elections’',\n",
              " 'Flower Shop',\n",
              " 'Word + Quiz: ecclesiastic',\n",
              " 'Air Pollution May Pose Serious Risks to Young Children',\n",
              " '‘RuPaul’s Drag Race’ Season 10, Episode 4: RuPocalypse, Now?',\n",
              " '‘Atlanta’ Season 2, Episode 7 Recap: Drake Has Left the Building',\n",
              " 'High Points',\n",
              " 'Don’t Worry: Love Is Inevitable',\n",
              " 'Plan to Pardon Aide Convicted In C.I.A. Leak',\n",
              " 'Visceral Details, and Grim View Of President, in Comey Memoir',\n",
              " 'Mike Pompeo Works the Hill',\n",
              " 'Little to Cheer About',\n",
              " 'Ruling Favors California on Immigration',\n",
              " 'From Flimflam  To Fascism',\n",
              " 'A Renaissance On the Right',\n",
              " 'Too Much Perfume',\n",
              " 'Face to Face With President, Without Mincing Words',\n",
              " 'E.P.A. ‘Sheriff’ Indulged Pruitt As Security Spending Mounted',\n",
              " 'Plan to Make Overdose Drug Accessible Falters',\n",
              " 'Shifting Signals On Trade Baffle China’s Leaders',\n",
              " 'Boys to Men: Teaching and Learning About Masculinity in an Age of Change',\n",
              " 'World Press Photo of the Year: A Tale Told Twice',\n",
              " 'The 23 Women in the Lead',\n",
              " 'A Major Energy Move in New Jersey Lifts Renewable Sources',\n",
              " 'The Historians Versus the Genealogists',\n",
              " 'Trump Weighs Rejoining Accord With Pacific Rim in About-Face',\n",
              " 'In Brisbane, Gauge Stands Apart From the Imitators',\n",
              " 'More Pruitt, Less E.P.A., for Medallion',\n",
              " 'Built-In Advantage for the Majority Is Fast Receding',\n",
              " 'As Camden’s Schools Improve, a State-Appointed Superintendent Steps Aside',\n",
              " 'To Save Abortion Rights, We Have to Think Beyond Roe',\n",
              " 'Details of Unwanted Advances by Missouri’s Governor',\n",
              " 'Inside a Little Italy Kitchen',\n",
              " 'Remember Those Friends You Deleted Long Ago? Facebook Does',\n",
              " 'Musicians Aging in Concert',\n",
              " 'Trump Promises Strike on Syria and Warns Moscow About Assad',\n",
              " 'How N.F.L. Teams Use Social Media to Promote, and Control, Cheerleaders ',\n",
              " 'Why Exercise Alone May Not Be the Key to Weight Loss',\n",
              " 'How to Make a Crossword Puzzle',\n",
              " 'Why Teenagers Become ‘Allergic’ to Their Parents',\n",
              " 'Real Families and the Fictional Roseanne',\n",
              " 'Why Signatures Matter',\n",
              " 'Why Not Mike Pence?',\n",
              " 'Military Plane Crash Is Algeria’s Worst Air Disaster, With 257 Dead',\n",
              " 'How the Social Media Giant Collects and Uses Your Data',\n",
              " 'A Warm Embrace, Except if You’re a Pedestrian',\n",
              " 'In Reddest Rural Districts, Democratic Candidates Defying the N.R.A.',\n",
              " 'The Hidden Toll',\n",
              " 'Answering a Calling, Her Way',\n",
              " 'Seth Meyers Wonders if the Cohen Raid Spells Doom for the President',\n",
              " 'Is It Wrong to Focus on Animal Welfare When Humans Are Suffering?',\n",
              " 'Brassai: The ‘Eye of Paris’',\n",
              " 'Teaching Activities for: ‘That Python in the Pet Store? It May Have Been Snatched From the Wild’',\n",
              " 'Smells and Memories',\n",
              " 'Classic Work',\n",
              " 'The Subway Is on Time. For All Else, Just Wait.',\n",
              " 'A Legal Attack Dog’s Seized Files Could Bite His Client',\n",
              " 'The Civil Rights Law We Ignored',\n",
              " 'Clown Fish Need More Energy to Live in a Bleached Home',\n",
              " 'Trump, Angry About Reports of Subpoenas, Nearly Fired Mueller in December',\n",
              " 'Traumatic Brain Injuries Are Tied to Dementia',\n",
              " 'Salt and Pepper',\n",
              " 'The Law Is Coming, Mr. Trump',\n",
              " 'You’re Going to Die. Just Face It Already.',\n",
              " 'The Lavish, Gory Case Against El Chapo',\n",
              " 'It’s Mueller Who’s Draining the Swamp',\n",
              " 'He Was Out of the Game. Then a War Zone Called.',\n",
              " 'America’s Three Bad Options in Syria',\n",
              " '‘How Long Can We Last?’ Trump’s Steel Tariffs Hit Home',\n",
              " 'Justice Dept. Investigates Early College Admissions',\n",
              " 'A Tiki Bar for a Less-Than-Tropical Island',\n",
              " 'Target of Raids Was Money Paid to Hush Women',\n",
              " 'Trump Fumes; We Should  Be Trembling',\n",
              " 'Not Screaming for Ice Cream',\n",
              " 'Top Trump Homeland Security Adviser Is Forced Out as Bolton Settles In',\n",
              " 'Filipinos Find Their Home City in Tatters',\n",
              " 'President Calls Off  Trip to Latin America, Citing Crisis in Syria',\n",
              " 'Climate Skeptics Say Polar Bears Are Fine. Scientists Beg to Differ.',\n",
              " 'Should We Speak to Little Boys as We Do Little Dogs?',\n",
              " 'How to Make Facebook More Accountable',\n",
              " 'How Trump Misunderstands Trade',\n",
              " 'Stephen Colbert Imagines How the Michael Cohen F.B.I. Raid Went',\n",
              " 'Diving Into a Gut Renovation With Gusto',\n",
              " 'Rhodesia’s Dead — but White Supremacists Have Given It New Life Online',\n",
              " 'Cambridge Analytica and the Coming Data Bust',\n",
              " 'Crash Course',\n",
              " 'Escapes, Riots, Beatings: Behind Bars in Private Prisons',\n",
              " 'Soup’s On, With a Side of Art',\n",
              " 'Beautiful, Complicated Bogotá: A Traveler’s Starter Kit ',\n",
              " 'Groped by Fans, Pro Cheerleaders Say Bosses Have Advice: Smile',\n",
              " 'I Disapprove Of School Vouchers. Can I Still Apply For Them?',\n",
              " 'Mayor’s Dream of Streetcar Remains Just That, for Now',\n",
              " 'No Markdowns on Their Work',\n",
              " 'The Poem Cure',\n",
              " 'Dear Match Book: Funny Pages',\n",
              " 'Daughter of Ex-Spy Is Out of Hospital',\n",
              " 'College',\n",
              " 'What ‘Pop-Up’ Classes Do You Wish Your School Offered?',\n",
              " 'Two Reporters Recorded A Myanmar Massacre. Now They Are in Prison.',\n",
              " 'New York Housing Authority Chief, Under Fire for Months, Is Resigning',\n",
              " 'Big School Event',\n",
              " 'Turning Revulsion  Into Votes',\n",
              " 'Our Privacy Has Eroded. We’re O.K. With That.',\n",
              " 'Obamacare’s Very Stable Genius',\n",
              " 'The Failures of Anti-Trumpism',\n",
              " 'For Bannon, Tariffs Are Test of Trump’s Beliefs',\n",
              " 'Childhood Fears No Parent Can Allay',\n",
              " 'Did Outsiders Make 911 Calls? A Fear Born of Brooklyn Gentrification',\n",
              " '#MeToo  Can Help Close  The Gender Pay Gap',\n",
              " 'What Should They Ask Zuckerberg?',\n",
              " 'Left, Right and Center, Women of Arizona Reshape the Debate',\n",
              " 'Two Tokens, Please',\n",
              " 'Scrutiny for Trump’s Allies As Trail of Money Widens',\n",
              " 'Trump’s One-Night Stand Turns Into a Legal Nightmare',\n",
              " 'Lead Us Not Into Temptation',\n",
              " 'The Snake Handlers',\n",
              " 'Leeches as Species Trackers',\n",
              " 'Poised to Balloon to $1 Trillion,  U.S. Deficit Fuels Fear of Crisis',\n",
              " 'Warming Up for His Grilling In Jacket, Tie and Hair Shirt',\n",
              " 'The Mets Are 8-1. Get Excited. They Are.',\n",
              " 'Authentic Is Foreign To Him',\n",
              " 'President Talks Of Retaliation Beyond Syria',\n",
              " 'What the Heck Is That?: ABOU',\n",
              " 'The Sizzle  Of the Grill, Put to Music',\n",
              " '‘Here and Now’ Season 1, Episode 9: Future Tense',\n",
              " 'A Fossilized Finger Bone May Be From the Earliest Humans on the Arabian Peninsula',\n",
              " 'Can New Trump Advisers Head Off a Trade War?',\n",
              " 'Top Ethics Official Questions Actions by Pruitt',\n",
              " 'An ISIS Commander In the Afghan North Dies in a U.S. Strike',\n",
              " 'Governor Enters Senate Race, Returning Florida to a Battleground',\n",
              " 'How Our Journalism Is Like a Car Crash (Wait, That Didn’t Come Out Right)',\n",
              " '20 Years Later, a Death In China Is a Rallying Cry',\n",
              " 'Life-Threatening Allergic Reactions Rising in Children',\n",
              " 'The New Shingles Vaccine: Reasons to Get It',\n",
              " 'Who Was That Masked Man? A Wrestling Priest',\n",
              " 'Teaching Activities for: ‘Trump Vows “Big Price” for Syria Attack, Raising Prospect of Missile Strike’',\n",
              " 'A Hub of Contemplation, Challenge and Social Protest',\n",
              " 'How Much Power Do Books Have to Teach Young People Tolerance of Others?',\n",
              " '‘Trust’ Season 1, Episode 3 Recap: Change of Management',\n",
              " '‘Billions’ Season 3, Episode 3 Recap: Boss Moves',\n",
              " '‘The Walking Dead’ Season 8, Episode 15 Recap: Cleaning House',\n",
              " 'The Wit of Tina Fey, in Song',\n",
              " 'At Home on the Court, and Now in the Art Gallery',\n",
              " 'In Town That Lives for Hockey, A Crash Has Splintered Hearts',\n",
              " 'The Tragedy of James Comey',\n",
              " \"Horror of Being Governed by 'Fox &amp; Friends'\",\n",
              " 'Fiery National Security Adviser For a Powder-Keg Presidency',\n",
              " 'State Courts Under Attack',\n",
              " 'Art Collector and Bon Vivant Dies in Fire at the Trump Tower Home He Couldn’t Sell',\n",
              " 'Affected Users  Say Facebook Betrayed Them',\n",
              " 'Chemical Carnage Muddles Plans for a U.S. Exit',\n",
              " 'Sweeping Election Victory Gives Hungary’s Ruler Control Over Constitution',\n",
              " 'Before #MeToo, There Was Antioch',\n",
              " 'A Cut With Some Class',\n",
              " 'Given Their Initials',\n",
              " 'The Fox in the Stroller',\n",
              " 'No More Hasty Scrawls: The End of Credit Card Signatures',\n",
              " '‘No One Trusts Facebook,’ Its Viral Stars Complain',\n",
              " 'For G.O.P., Threat Of Impeachment May Spur Voters',\n",
              " 'Triple Spoonerisms',\n",
              " 'The Murky Perils of Quitting Antidepressants After Years of Use',\n",
              " 'A Season With the Arlee Warriors',\n",
              " 'Should a Landlord Refund a Fee For Amenities That Aren’t Available?',\n",
              " 'Renegades Once, Now the Mainstream',\n",
              " 'Risotto From Sri Lanka Is Just as Good',\n",
              " 'Mr. Trump’s Trade Bombast',\n",
              " 'Friday Night Music: Samantha Fish',\n",
              " 'The Germs That Love Diet Soda',\n",
              " 'Something Extra With Every DVD',\n",
              " 'Chief of Staff Advised a Resistant President to Fire the E.P.A.’s Chief',\n",
              " 'Current TB Treatment May Be Insufficient',\n",
              " 'Saudi Prince’s Tour: Murdoch, Gates, Oprah …',\n",
              " 'Buying Political Ad on Facebook?  The Anonymous Need Not Apply',\n",
              " 'Asparagus Has Earned Its Divine Status',\n",
              " 'Now Early for Work, Frustrated New Yorkers Blame the Subway',\n",
              " 'Catering to Fliers at 30,000 Feet',\n",
              " 'Democracy, The Enemy',\n",
              " 'Cecil Taylor, Bracing Pianist Who Defied Jazz Orthodoxy, Is Dead at 89',\n",
              " 'Pregnancy: Blood Pressure and Miscarriage',\n",
              " 'A Real Estate Dynasty Is Passing the Torch',\n",
              " 'Disappointing  Jobs Report Takes Shine Off Economy',\n",
              " 'Alarms Raised On Nominees’ Views on Islam',\n",
              " 'Back to the Early ’80s With Michael Kors',\n",
              " 'Don’t Let the G.O.P. Dismantle Obama’s Student Loan Reforms',\n",
              " 'Hate-Watching HGTV, Just Like Me',\n",
              " 'U.S. Puts New Sanctions On Putin’s Inner Circle',\n",
              " 'The Gendered Politics of New York’s Emasculator in Chief',\n",
              " 'We Were Ready to Give Up on a Second Baby Until a ‘Miracle’ Arrived',\n",
              " '‘Chappaquiddick’ Is Bad History',\n",
              " 'The Conspiracy Theory That Says Trump Is a Genius',\n",
              " 'Fascism on The March',\n",
              " 'The New Power Structure',\n",
              " 'Blast From the Past',\n",
              " 'Trump Denies Knowledge Of Payment To Porn Star',\n",
              " 'The Art  Of the Flail',\n",
              " 'Officials at E.P.A. Raised Concerns And Were Ousted',\n",
              " 'Trump, Off Script, Blasts Democrats on Immigration',\n",
              " 'Restaurateur Stephen Starr Teams With Keith McNally to Reopen Pastis',\n",
              " 'The Limits Of a Liberal Nirvana',\n",
              " 'Sometimes a Broken Glass Is Just a Broken Glass',\n",
              " 'In a Big Room, but Protecting the Small Moments',\n",
              " 'Painfully Sick From Marijuana',\n",
              " 'U.S. Forces in Syria: Building More Outposts, Pulling Up Lawn Chairs',\n",
              " 'Someone’s Prom Plans Don’t Include Sex',\n",
              " 'Tight Labor Market Squeezes Restaurants',\n",
              " 'Growing Crisis Threatens E.P.A. Chief as Top Aides Eye the Exits',\n",
              " 'Why China Is Confident It Can Beat Trump in a Trade War',\n",
              " 'Buzz Cuts: The Politics of (No) Hair',\n",
              " 'In One Battle After Another, It’s Trump v. California',\n",
              " 'Homes for Sale in Manhattan and Brooklyn',\n",
              " 'A Harder Death for People With Intellectual Disabilities',\n",
              " 'The Contract With Authoritarianism',\n",
              " 'Trump, Driven by Fear',\n",
              " 'A Tiny Elevator, Haunting Thoughts',\n",
              " '‘Oh, God, You, Too?’ More Women Accuse Architect of Misconduct',\n",
              " 'Finding a Place (and a Decent Kitchen) to Call Her Own',\n",
              " 'Pentagon Wades Deeper  Into Detainee Operations Run by Kurds in Syria',\n",
              " 'Recovery Plan',\n",
              " 'A Mueller Weakness Becomes a Strength',\n",
              " 'Life or Death',\n",
              " 'In Trade War, Usual Commerce Rules May Not Apply',\n",
              " 'How Lisa Murkowski Mastered Trump’s Washington',\n",
              " 'Mike Myers’s Dr. Evil Tells Jimmy Fallon He Was Fired From the White House',\n",
              " 'Do You Need a Homework Therapist?',\n",
              " 'Teaching Activities for: ‘Hot Springs Lower Stress in Japan’s Popular Bathing Monkeys’',\n",
              " 'Temple Elephants Find Friends and Care at This Retreat in India',\n",
              " 'Sheep',\n",
              " 'Dylan, St. Vincent And Others Sing  About Gay Love',\n",
              " 'Safety: Marijuana and Fatal Car Crashes',\n",
              " '‘The Americans’ Season 6, Episode 2 Recap: Our People',\n",
              " 'Overlooked No More: Bessie B. Stringfield, the ‘Motorcycle Queen of Miami’',\n",
              " 'Causing a Walk-off',\n",
              " 'YouTube Complaints From Attacker Echoed Fight Over Ad Dollars',\n",
              " 'Mr. Trump’s Flawed Border Plan',\n",
              " 'U.S. Risks Trapping Manufacturers in the Crossfire',\n",
              " 'U.S.-China Trade Tensions   Send Indexes Lower Again',\n",
              " 'Letting Go of a Family Homestead',\n",
              " 'Architecture’s Forensic Gaze',\n",
              " 'Indian Women’s American Dreams in Jeopardy',\n",
              " 'A Producer on His Role:  He Supplied ‘the Dough’',\n",
              " 'Souvenirs Mean More Than Just ‘I’ve Been There’',\n",
              " 'Forget the Logo. This Store Has the Quirks of Another Era.',\n",
              " 'Why Did Garry Winogrand Photograph That?',\n",
              " 'Teaching Activities for: ‘I Spy at New York’s Museum of Deception’',\n",
              " 'Campus',\n",
              " 'South Korea’s Ex-President Sentenced to 24 Years in Corruption Scandal',\n",
              " 'Macron’s Fight on Radical Islam May Lead to Exile of Vocal Imam',\n",
              " '‘RuPaul’s Drag Race’ Season 10, Episode 3: Fifty Shades of Mayhem',\n",
              " 'Small Slice of Pizza',\n",
              " 'Locals Knew He Was Mentally Ill. Officers Who Shot Him Didn’t.',\n",
              " 'Immigrants Keep Crossing Border, Undeterred by Washington’s Whims',\n",
              " 'White House Sees Hope for Agreement on Nafta',\n",
              " 'Gun Makers Must Do More',\n",
              " 'Guard Took $45,000 in Bribes For Luxuries, Prosecutors Say',\n",
              " 'Trump Escalates Fight With China In Tariff Threat',\n",
              " '‘All It Takes Is One Mistake’: Worries About Sending National Guard to Border',\n",
              " 'Police in Brooklyn Kill a Man Pointing a Pipe Believed to Be a Gun',\n",
              " 'Infrastructure Fund Is Slow To Equal Hype ',\n",
              " 'Shhhh. Silence Is Survival.',\n",
              " 'A Mostly Quiet Car',\n",
              " 'Mr. Trump’s War on the Truth',\n",
              " 'An Enchanted Home Inside a Library',\n",
              " 'Britain Aims to Close Pay Gap With Transparency and Shame  ',\n",
              " 'Can Ryan Be Defeated? Maybe Not, but His Race Is ‘a Circus’',\n",
              " 'Trump Will Work With Governors to Deploy National Guard to the Border',\n",
              " 'Why Is New York Condoning Illiteracy?',\n",
              " 'Big Footprints: On a Scottish Isle, Signs of a Playground For Dinosaurs',\n",
              " 'Ohio Is Lovely, But a Primary Tempts Kasich',\n",
              " 'Hearing From Readers Over Multiple Channels',\n",
              " 'Balancing the Chaos Of a Mighty Universe',\n",
              " 'Older? Yes. Wiser? Well ...',\n",
              " 'Beyond the City, Rents Rise and Homelessness Follows',\n",
              " 'Trump Is ‘Saving Us’: Minnesota Miners Warm to Tariffs and G.O.P.',\n",
              " '‘A Walking Miracle’ Making a Last Stand',\n",
              " 'Europe’s Houses of Worship in Astounding Detail',\n",
              " 'President Pulls Back From Call for a Total Withdrawal From Syria',\n",
              " 'A Google Military Project Fuels Internal Dissent',\n",
              " 'When Robert F. Kennedy Told an Indianapolis Crowd of King’s Assassination',\n",
              " 'Facebook Puts Profile Breach At 87 Million',\n",
              " 'White House Edges Back From Brink of Trade War',\n",
              " 'Officially a Good Guy, With Blood All Over',\n",
              " 'Right on Cue, Here Come The Jitters',\n",
              " 'Trade Wars, Stranded Assets, and the Stock Market (Wonkish)',\n",
              " 'Where Is Googoosha,  The Less Than Cherished Uzbek First Daughter?',\n",
              " 'Indexes Rise Even as Trade Fight Between U.S. and China Grows',\n",
              " 'An Estate With Stained Glass Fit for a Cathedral',\n",
              " '$700,000 Homes in Washington, Pennsylvania and Michigan',\n",
              " 'Top Court Rules Brazil Can Jail Former Leader',\n",
              " 'New York Democrats End Their 7-Year Schism',\n",
              " 'Bananas Outwork Sports Drinks',\n",
              " 'A Runner’s Mysterious Illness, With Her Dad at Her Side',\n",
              " 'The G.O.P. Can Avoid A Disaster',\n",
              " 'Old Boomers Never Die',\n",
              " 'Jimmy Kimmel Doesn’t Understand Trump’s Attacks on Amazon',\n",
              " 'Historic Homes and a Questionable Moniker',\n",
              " 'What the Arlee Warriors Were Playing For',\n",
              " '‘This Has to Be Remembered for the Rest of Our Lives’',\n",
              " 'Turning  Trauma  Into Good',\n",
              " 'What Season Is It? Some Plants and Animals Are Baffled',\n",
              " 'Guiding Hand For Algebra And Anxiety',\n",
              " 'Anne Wojcicki Wants to Be Healthy at 100',\n",
              " 'The ‘Endless War’ of Land Mines in the Balkans',\n",
              " 'Teaching Activities for: ‘At 12, He Had a Viral Science Video. At 14, He Fears He Was Too Rude.’',\n",
              " 'What Does Dr. King’s Legacy Mean to You?',\n",
              " 'Teacher Walkouts',\n",
              " 'Leader in Hungary Sees Economic Miracle. Is It a Mirage?',\n",
              " 'Cheesy Stuff',\n",
              " 'Crime, Punishment and Then What?',\n",
              " 'Firms Shudder as Trump’s Tweets Mean Business',\n",
              " 'On Foreign Policy, the President Reverts to Candidate Trump',\n",
              " 'For Pruitt, a Spotlight Shines on His Ethics, Not His E.P.A. Rollbacks',\n",
              " 'How to Win An Argument About Guns',\n",
              " 'Inclusion Riders Won’t Save Hollywood',\n",
              " 'Trump’s Perversion of Leadership',\n",
              " 'New Friends Upstairs',\n",
              " 'A Shooting at YouTube’s Offices Rattles Silicon Valley',\n",
              " 'As They Honor King, Churches Ask: How Far Have We Come?',\n",
              " 'Mourning the Loss of Another Beacon of Old Harlem',\n",
              " 'Hot Springs Lower Stress in Monkeys',\n",
              " 'Five Attorneys General, and Me',\n",
              " 'Met Lets in the Light',\n",
              " 'Is Putin a C.I.A. Agent?',\n",
              " 'Sisters Who Chose ISIS Over Norway',\n",
              " 'How King Lived Is Why He Died',\n",
              " 'Building a Smart City (Heated Sidewalks Included)',\n",
              " 'Turf Battle  Over Who Interprets Tax Rules',\n",
              " 'Women (and Men) Pushed to the Edge',\n",
              " 'Who Will Lead California as Trump Leads a Battle Against It?',\n",
              " 'Johnny Cash’s Poems Get a Second Life as Songs',\n",
              " 'Oaxaca on the Gowanus',\n",
              " 'The Art of the Beef Stew',\n",
              " 'The Last Year of Martin Luther King Jr.’s Life, According to The Times',\n",
              " 'The Politically Progressive Faith of Martin Luther King',\n",
              " 'Saudi Prince  Says Israelis  Have Right  To ‘Own Land’',\n",
              " 'Matter Over Mind',\n",
              " 'The Lone Journalist on the Scene  When Dr. King Was Shot',\n",
              " 'Trial Uncovers Casual Horrors At Private Jail',\n",
              " 'Trump Foresees  National Guard  Securing Border',\n",
              " 'Championship Game',\n",
              " 'Older Americans Are ‘Hooked’ on Vitamins',\n",
              " 'From Stand-In to Standout for Villanova',\n",
              " 'Trump Proclaims Sexual Assault Awareness Month, and Late Night Thinks It’s a Joke',\n",
              " '‘A Bedford Tale’ by a Son of the Bronx',\n",
              " 'Pairs Well With a Trade War',\n",
              " 'Mixing Work With Pleasure on Hurricane-Damaged Islands',\n",
              " 'Into the Ancient Land of the Cloud Warriors',\n",
              " 'Should the New Girlfriend Of an Awful Ex-Husband Be Warned?',\n",
              " 'The Case of The Missing Booksellers',\n",
              " 'Necessary Evil',\n",
              " 'How Can a Doctor Grapple With the Epidemic of Cost?',\n",
              " 'Bracing for the Siege of Lower Manhattan',\n",
              " 'Dear Match Book: In Search of Comfort Reading',\n",
              " 'What It Was Like to Finally Write My Will',\n",
              " 'Do You Vape?',\n",
              " 'Superman’s Alien Name',\n",
              " 'The Most Influential Man on Earth',\n",
              " 'Voter Suppression’s Legacy Lives On',\n",
              " 'Reliving Those Arabian Nights',\n",
              " 'A Button Facebook Could Use: ‘Why Me?’',\n",
              " 'Industry Giants Register Dissent On Trade Action',\n",
              " 'The Autocrats’ Playbook',\n",
              " 'What’s the Matter With Trumpland?',\n",
              " 'G.O.P. Leaders Fear Toll From Bruising Primary Battles',\n",
              " 'A Lobbyist, A Condo Deal, A Green Light',\n",
              " 'The Wrong Way to Unclog Streets',\n",
              " 'What ‘2001’ Got Right',\n",
              " 'Border Patrol Agent Has Trump’s Ear',\n",
              " 'Matzo for the Birds',\n",
              " 'Just Super, Nova',\n",
              " 'Family: Antibiotics, Antacids, Allergies',\n",
              " 'Escort and Her ‘Coach,’ Held in Thailand Jail, Offer Secrets on Russia',\n",
              " 'Divisive Oratory Daily Has a Nation Spellbound',\n",
              " 'California Vows to Fight U.S. Efforts to Reduce Car Pollution Standards',\n",
              " 'A Year Of Peak Picasso',\n",
              " 'Stocks Sink As a Bump Gives Way To a Bear',\n",
              " 'Like to Go Out in Sweatpants?  Don’t Be an N.F.L. Cheerleader',\n",
              " 'Russia Sends Hasty R.S.V.P. to Trump Invitation',\n",
              " 'In a Changing South Bronx, Residents See a New Jail as a Step Backward',\n",
              " 'Life After Disgrace?',\n",
              " 'Teachers Walk Out in 2 States as Fervor Spreads',\n",
              " 'What the Heck Is That?: NIOBE',\n",
              " 'A Tradition of Treats',\n",
              " '‘Here and Now’ Season 1, Episode 8: The Absurdist Hero',\n",
              " 'Winnie Madikizela-Mandela Is Dead at 81; Fought South African Apartheid',\n",
              " 'A Dolphin Die-Off in Brazil ‘Is Only the Tip of the Iceberg’',\n",
              " 'Trump Returns To a Hard Line On Immigrants',\n",
              " 'What Are Your Thoughts on Sports Betting?',\n",
              " '‘Glee, Satisfaction and Weeping’: How America Reacted When Martin Luther King Died',\n",
              " 'The Value and Limitations of a Calcium Scan',\n",
              " 'When Your Baby Is Your Roommate',\n",
              " 'There Is a Middle Ground on Guns',\n",
              " 'How to Serve a Deranged Tyrant, Stoically',\n",
              " 'Cracking a Cold Case',\n",
              " 'An Aspiring Developer Chooses a Construction Zone',\n",
              " 'In Iraq, I Found Checkpoints as Endless as the Whims of Armed Men',\n",
              " 'At the Crossroads',\n",
              " 'Reality TV’s Hopeless Romantic',\n",
              " 'Charities Face #MeToo Fallout',\n",
              " 'Student Loan Showdown:  Where Do Borrowers Have It Best?',\n",
              " 'Fighting Over Chores? Spend Some Money, Save the Marriage',\n",
              " 'Telling the Stories of Defectors From North Korea',\n",
              " 'With Barely A Puff, Vaping Floods Schools',\n",
              " 'From Day One, the New Schools Chancellor Has a Long To-Do List',\n",
              " '‘Trust’ Season 1, Episode 2 Recap: Don’t Mess With Texas',\n",
              " '‘Billions’ Season 3, Episode 2 Recap: That Feeling in Your Stomach',\n",
              " 'China Makes Good on Threat of Tariffs, Raising Its Duties on 128 U.S. Products',\n",
              " '‘The Walking Dead’ Season 8, Episode 14: Resurrection',\n",
              " 'Eager Refugees Courted for Jobs In Tight Market',\n",
              " 'Rhythms  Of Tragedy',\n",
              " '‘The Ice Is Melting’: Dismantling a Police State',\n",
              " 'Last-Second Nature',\n",
              " 'America Needs Better Privacy Rules',\n",
              " 'When a Subject Refuses to Pose',\n",
              " 'Poisoned Door Knob Hints at High-Level Plot to Kill Spy, U.K. Officials Say',\n",
              " 'A New Black American Dream',\n",
              " 'Will Trump Start a Farm Crisis?',\n",
              " 'Tech’s Answer For Security: Blockchain',\n",
              " 'Intertwined Tech Services Blunt Boycotts',\n",
              " 'Dog With a Secret',\n",
              " 'George Wallace Tapped Into Racial Fear. Decades Later, Its Force Remains Potent.',\n",
              " 'World Capital',\n",
              " 'Hollywood’s Envoy, Schooled In Diplomacy (and Muppets)',\n",
              " 'Who is a Turk? It’s complicated',\n",
              " 'Intellectual Caught Up In a Furor',\n",
              " 'Gun Control and Fall Elections: Moment or Movement?',\n",
              " 'Political Power Has Backfired For Kushners',\n",
              " '1 + 1 = 5',\n",
              " 'Spiro Agnew, Father Of Today’s G.O.P.',\n",
              " 'Fear and Disdain Grip Trump’s E.P.A.',\n",
              " 'Javanka vs.  The Klossy  Posse',\n",
              " 'God and Men and Jordan Peterson',\n",
              " 'The Rise of God’s Spokeswomen',\n",
              " 'Years of Claims  Of Harassment  In Justice Dept.',\n",
              " 'Variety: Acrostic',\n",
              " 'Saving a Fussy Eater In Europe, With Help From 50,000 Rabbits',\n",
              " 'Friday Night Music on Saturday: The Lone Bellow',\n",
              " 'Extortion, or the Price of Freedom?',\n",
              " 'Church Leaders Propelled the Civil Rights Movement. Now They’re Looking to Rekindle Dr. King’s Activist Spirit',\n",
              " 'The Outrage  Over Kevin  Williamson',\n",
              " 'A Pale Smoke',\n",
              " 'Beware the Former Trumpers',\n",
              " 'Are Today’s Teenagers Smarter and Better Than We Think?',\n",
              " 'Bologna Blamed in Vast Listeria Outbreak',\n",
              " '8 Bullets Struck Sacramento Man As He Faced Away',\n",
              " 'The Simple Cake That Helped Create a Legend',\n",
              " '22 Female Senators Say, Enough',\n",
              " 'Hallowed Be Thy Teams',\n",
              " 'The Americans Our Government Won’t Count',\n",
              " 'Lambs Shanks, Sweetly Spiced for Spring',\n",
              " 'Orlando Gunman’s Wife Is Acquitted in Shootings',\n",
              " 'The End of South Vietnam',\n",
              " '‘RuPaul’s Drag Race’ Season 10, Episode 2: Conflama Is Abuse',\n",
              " 'While Their Guitars Gently Weep',\n",
              " 'The Self-Driving Car Industry’s Biggest Turning Point Yet',\n",
              " 'A Student Loan Fix, With Catches',\n",
              " 'Confrontations At Gaza Fence Leave 15 Dead',\n",
              " 'When Mega-Mansions Have Mega-Problems',\n",
              " 'Story Hour, Off the Army Base',\n",
              " 'Some reflections on journalism',\n",
              " 'Actually, You Can Fix Stupid',\n",
              " 'How Memphis Gave Up on Dr. King’s Dream',\n",
              " 'Affirmative Action for Reactionaries',\n",
              " 'Trevor Noah Detects a Whiff of Cronyism in V.A. Appointment',\n",
              " 'After Hurricane’s Ruin, the Return to Puerto Rico',\n",
              " 'Is That  Contractor A Good Fit?',\n",
              " 'When Retirement Doesn’t Quite Work Out',\n",
              " 'Broad Spending Bills Here to Stay as Long as Congressional Dysfunction Reigns',\n",
              " 'Pitting Girls Against Girls to a New Tune',\n",
              " 'Anatomy of a Los Angeles Police Shooting: A Black Teenager, a Missing Gun, Protests, Grief',\n",
              " 'How Do You Get Your Nature Fix?',\n",
              " 'Silicon Valley,  Wary of Trump,  Warms to Him',\n",
              " 'When a Good Night’s Sleep Needs Some Help',\n",
              " 'Innocents Behind Bars',\n",
              " 'A Prodigy Redeemed',\n",
              " 'Dr. King’s Complex Relationship With the Camera',\n",
              " 'Teaching Activities for: ‘Right Now, Baseball Loves the Long Ball. But for How Long?’',\n",
              " 'Movie-Themed Vacation',\n",
              " 'Greece’s Island of Despair',\n",
              " 'Won’t Be Back Till Late',\n",
              " 'Queen Lear  Moments',\n",
              " 'Tabloid Mogul Visited Trump To Woo Saudis',\n",
              " 'A Longtime Trump Whisperer Packs Up, Leaving a Void in the White House',\n",
              " 'Integration Now and Forever',\n",
              " 'Network Rediscovers Trump Country With Reboot of ‘Roseanne’',\n",
              " 'V.A. Shake-Up Gives Rise to New Fears of Privatized Care',\n",
              " 'Tesla in Need Of Recharge After a Series Of Setbacks',\n",
              " 'Was the Vietnam War Necessary?',\n",
              " 'Is It Real Policy, or Is It Just Reality TV?',\n",
              " '‘Roseanne’ Is Funny. And Scary.',\n",
              " 'Ronny Jackson’s Disturbing Lack of Independence',\n",
              " 'Praise for Trade Deal, Then Trump Suggests That He Might Delay It',\n",
              " 'Out of the Storm',\n",
              " 'A Coup at Veterans Affairs',\n",
              " 'For the Love of ‘George and Martha’',\n",
              " 'U.S. Set to Blunt Pollution Rules For Automakers',\n",
              " 'Heart: Hockey Fans Beware',\n",
              " 'Gen X Activism: An Oral History',\n",
              " 'The Young and the Streaming',\n",
              " 'Frog Species on the Rebound',\n",
              " 'A Haunting Southern Exposure',\n",
              " 'A Quick Online Divorce for $60? Not So Fast, Denmark Says',\n",
              " 'Crisis Deepens As the Kremlin Bucks the West',\n",
              " 'Caribbean Savor, Australian Bounty',\n",
              " '‘Ideal’ Is an Opinion',\n",
              " 'A White Like No Other',\n",
              " '68 Die in Jail Fire. Then Police Attack Bereaved.',\n",
              " 'What Topics Should the ‘Tech We’re Using’ Column Tackle Next?',\n",
              " 'With an Eye on Russia, Britain Edges Toward Dirty Money Crackdown',\n",
              " 'Teaching With: ‘My Grandfather’s Memory Book’',\n",
              " 'Utah Passes ‘Free-Range’ Parenting Law',\n",
              " 'As Facebook Loses Luster, Tech Stocks Await Fallout',\n",
              " 'In Britain, the Labour Party Wrestles With Claims of Anti-Semitism',\n",
              " 'How to Prevent a Racist Hoodie',\n",
              " 'A Kitchen Duo for Decades, Now With Their Own Place',\n",
              " 'Women on Stage, Sweating It Out',\n",
              " '‘The Americans’ Season 6, Episode 4 Recap: The Birth of a Honey Pot',\n",
              " 'This Many',\n",
              " 'Bueller? Bueller? No, Satan',\n",
              " 'Cynthia Nixon Gets Mr. Cuomo to Play to Type',\n",
              " 'White Power Never Disappeared',\n",
              " 'Statues Banished But Not Attitudes',\n",
              " 'Fury in Germany as Rap Duo With Anti-Jewish Lyrics Gets Award',\n",
              " 'Farmers’ Anger at Trump Tariffs Puts G.O.P. at Risk in Midterms',\n",
              " 'Our Gold-Leaf Presidency',\n",
              " 'Macron’s Defense of Democracy',\n",
              " '‘Full Metal Jacket’ Seduced My Generation and Sent Us to War',\n",
              " 'A Coat to Remember',\n",
              " 'Quiet Flight, Then a Blast and a Sudden Plunge',\n",
              " 'Former Playboy Model Is Free to Discuss Alleged Affair',\n",
              " 'Embrace the Bowie in You',\n",
              " 'Scam I Amn’t: Voters and the Tax Cut',\n",
              " 'Safety: Brain Injury and Parkinson’s',\n",
              " 'For Parkland Students,  Broadway’s Regards',\n",
              " 'Love: Being Married, Beating Cancer',\n",
              " 'Cuba Prepares For Generation With No Castro',\n",
              " 'Watch Out: He Messes With Texas',\n",
              " 'Puerto Rico, Entire Island, Loses Power',\n",
              " 'Cuomo Plans to Help Paroled Felons Regain Vote',\n",
              " 'Hero Pilot Is Navy Veteran With ‘Nerves of Steel’',\n",
              " 'Reader Idea | FON, FAIIN, FIIM? A Classroom Game About Literary Genre',\n",
              " 'Fixing the ‘Involuntary Housewife Visa’',\n",
              " 'President Warns He Could Depart Pyongyang Talks',\n",
              " 'Seoul Confirms Talks on Treaty to End War',\n",
              " 'Fishing for Stories via Instagram',\n",
              " '$2.7 Million Homes in Massachusetts, Idaho and New Mexico',\n",
              " 'How Many Breeds in That Doggie in the Survey?',\n",
              " 'Japan Fears Being Sidelined as Trump Moves on Trade and North Korea',\n",
              " 'Who Made My Puzzle?: Sam Trabucco',\n",
              " 'Before Modernism Came Along',\n",
              " 'Want to Slash Heart Risks? Move It',\n",
              " 'The Forrest Trump Presidency',\n",
              " 'Mrs. No-Nonsense',\n",
              " 'James Comey Tells Colbert Why Trump’s Presidency Is ‘Not O.K.’',\n",
              " 'That Suburban Feel, With Some Urban Touches',\n",
              " 'A Disrupter Takes Over',\n",
              " 'Hero Worship',\n",
              " 'Why Wouldn’t the Lump Under the Patient’s Jaw Go Away?',\n",
              " 'He Inhaled Mustard Agent in Iraq, but the Navy Denied Him a Purple Heart',\n",
              " 'Reinterpreted Rule Limits Young Immigrants',\n",
              " 'From ‘How to Break Up With Your Phone’',\n",
              " 'Still Standing, and Planning the Next Act',\n",
              " 'Can Dirt Save the Earth?',\n",
              " 'The Baby Mogul',\n",
              " 'What Musical Piece Would You Nominate for a Pulitzer Prize?',\n",
              " 'Jonathan Van Ness Never Tried to Hide Who He Was',\n",
              " 'Teaching Activities for: ‘“Men Treat Us Like We Aren’t Human.” Indian Girls Learn to Fight Back.’',\n",
              " 'An Army Veteran Confronts His Own Trauma With a Camera',\n",
              " 'Man at Desk',\n",
              " 'Much Covered Song',\n",
              " 'Director of C.I.A.  Met With Leader  Of North Korea',\n",
              " 'Outrage for Some, for Others It’s Just Everyday Life',\n",
              " 'Where’s the Tea Party of the Left?',\n",
              " 'Barbara Bush, First Lady and First Mother, Dies at 92',\n",
              " 'Scott Pruitt, Man of Little Shame',\n",
              " 'A Celebration of 70 Years, Complete With Rancor and Bickering',\n",
              " 'This Old Case',\n",
              " 'Eat: Lower Expectations for Nuts',\n",
              " 'Nurse Enters Boston Marathon For Fun. Finishes Second.',\n",
              " 'Readers Respond to Our Call for Help With a Diagnosis',\n",
              " 'Airplane Engine Explodes, Killing Passenger in Midair',\n",
              " 'A Peace Plan for the Ages',\n",
              " 'Hangover',\n",
              " 'Diamonds and Lies',\n",
              " 'After Obtaining Real Personal Data, A Political Firm Explores Virtual Currency',\n",
              " 'Starbucks  Will Close 8,000 Stores For Training',\n",
              " 'Law on Deportation of Criminals Is Struck Down',\n",
              " 'Confused? No,  Haley Retorts  To Trump Aide ',\n",
              " 'Dawdling Filers Turn Disgruntled as I.R.S. Website Crashes on the Final Day',\n",
              " 'That’s Right, No. 1 With A Pulitzer',\n",
              " 'A Journalist’s Fiery Death, And a Muted Hunt for Truth',\n",
              " 'The Calm Amid the Storm',\n",
              " 'Protesting Artists Step Off the Streets and Into the Gallery',\n",
              " 'Amateur Sleuths Bring A Missing ‘Grunt’ Home',\n",
              " 'Teaching Activities for: ‘Holocaust Is Fading From Memory, Survey Finds’',\n",
              " 'Vegetables Crash the Dessert Menu',\n",
              " 'When a Politician and a Lawman Try to Play the Hero, the Lawman Usually Wins',\n",
              " 'Introducing Form 1040-EL (Emotional Labor)',\n",
              " 'China Moves To Open Itself To Carmakers From Abroad',\n",
              " 'A ‘Frozen’ Star Just Needed to Chill',\n",
              " '14 Death Sentences in 2 Hours: Iraq Shows No Mercy to ISIS Suspects',\n",
              " 'In La Paz, Where Empowerment Is Also Inspiring',\n",
              " 'The #MeToo Era Means More Options for Women',\n",
              " 'Group Think',\n",
              " 'Billion-Dollar Blessings',\n",
              " 'Dear Match Book: Black Genre Fiction',\n",
              " 'Was It O.K. to Let an Aging Relative Believe My Mother Was Still Alive?',\n",
              " 'We’re Bad at Evaluating Risk. How Doctors Can Help.',\n",
              " 'Does Your School Need More Money?',\n",
              " 'Black Cops on Both Sides of the Badge',\n",
              " 'Pashtuns Defying Pakistani Army Wonder How Far They Can Push',\n",
              " 'Marathon',\n",
              " 'A Beginner’s Guide to Taking Great Video on Your Phone',\n",
              " 'Every Other Letter',\n",
              " 'Trump Declines To Add Sanctions Against Russians',\n",
              " ' Comey’s Star Turn May Spoil His Carefully Cultivated Image',\n",
              " 'Earth, Wind And Liars',\n",
              " 'Opening Public Lands to Oil and Gas. Just Not at Home.',\n",
              " 'We Chose Our Child',\n",
              " 'Lordy, Is There a Tape?',\n",
              " 'Sims Statue in Central Park to Be Moved',\n",
              " 'The Blindness Of Social Wealth',\n",
              " 'It Was Unspeakably Miserable. I Can’t Wait to Tell You About It.',\n",
              " 'Saturday Night Out, 1978',\n",
              " 'James Comey’s Debasement',\n",
              " 'U.S. and U.K. Forewarn  Of Russian Cyberthreat',\n",
              " 'Gasps in Courtroom as Hannity Is Named as Cohen’s Secret Client',\n",
              " 'The Times and The New Yorker Share Prize for Abuse Coverage',\n",
              " 'Feral Bully Unleashes  Comic Storm',\n",
              " 'Inch by Inch, an Operatic Jewel Is Polished',\n",
              " 'Standing Watch With Wary Words',\n",
              " 'Cousin of the Martini, the Alaska Strikes Gold',\n",
              " 'On Rubles, Renminbi And Trump',\n",
              " 'Peru’s Love Affair With the Potato',\n",
              " 'What the Heck Is That?: BABAS',\n",
              " 'A Pair of Breakthroughs in a Slow, Slippery Marathon',\n",
              " 'Chemical Weapons Experts Blocked From Site of Syria Attack, Officials Say',\n",
              " 'Memorial to War Dead  Shows Divide in Israel Over Complicated Past',\n",
              " '‘Here and Now’ Season 1 Finale: Baby’s on Fire',\n",
              " 'New Lung Cancer Study Shows the Power of Immune Therapy',\n",
              " '‘The Walking Dead’ Season 8 Finale: War Is Over, if You Want It',\n",
              " 'Trove Seized,  But Who Gets  First Glimpse?',\n",
              " 'Guards Waited for Support To Stop Deadly Prison Riot',\n",
              " 'The Currency Was Virtual. The Hunger Was Real.',\n",
              " 'Pros and Cons of Statin Therapy',\n",
              " 'Reading Aloud to Young Children Has Benefits for Behavior and Attention',\n",
              " 'They Made It Here',\n",
              " 'Going to Church With Jimmy Carter',\n",
              " 'Should I Give Up on White People?',\n",
              " 'What’s Going On in This Picture? | April 16, 2018',\n",
              " 'The Medieval Derby',\n",
              " 'Terror Plot or Idle Talk? Kansas Trial Hinges on the Answer',\n",
              " 'Wired to Be Besties',\n",
              " 'Wartime Internment Of Japanese Looms Over Travel Ban Case',\n",
              " 'Leaky Roofs, Broken Laptops, Mobile Classrooms: Snapshots From Public Schools',\n",
              " 'Would Americans Accept Putting Health Care on a Budget? ',\n",
              " 'Secretary of Offense',\n",
              " 'Photos of Gynecological Tools From Centuries Past',\n",
              " 'Teaching Activities for: ‘Is British English Conquering America, or Vice Versa?’',\n",
              " '‘They Eat Money’: How Graft Enriches Mandela’s Political Heirs',\n",
              " 'On the Catwalk In Saudi Arabia',\n",
              " '‘Trust’ Season 1, Episode 4 Recap: Business, as Usual',\n",
              " '‘Billions’ Season 3, Episode 4 Recap: Sealed With a Kiss',\n",
              " ' Notable Moments In ABC’s Interview  With Ex-F.B.I. Chief',\n",
              " 'Tusks of Ivory,  Stalking the World',\n",
              " 'He Called Out Sick, Then Apologized for Dying',\n",
              " 'From Trump’s Hometown, a New Legal Threat With Long Arms',\n",
              " 'Doctors Fight Drug-Resistant Typhoid Outbreak',\n",
              " 'As It Turns Out, Baseball Really Is Brain Science',\n",
              " 'Our Monologues, Ourselves',\n",
              " 'Teaching Activities for: ‘Hundreds of Immigrant Children Have Been Taken From Parents at U.S. Border’',\n",
              " 'The Candidate Who Wouldn’t Talk',\n",
              " 'Beaches and Generosity Abound in Los Cabos',\n",
              " 'College’s First Test: How to Pay for It',\n",
              " 'Still Fraying at the Seams',\n",
              " 'U.S. Warplanes Shift Tactics to Target Last ISIS Pockets in Eastern Syria',\n",
              " 'A Child Is Killed, and Empathy Goes Missing',\n",
              " 'Brushing Off Trump Scandals, Christian Right Marshals Forces for Midterms',\n",
              " 'Report Concludes Misconduct Was Not ‘Systemic’ at WNYC',\n",
              " 'Polar Bears of Hudson Bay',\n",
              " ' Longing for a Baby With a Trans Partner',\n",
              " 'Flattery Got  Ronny Jackson  Only So Far',\n",
              " 'Tammy Duckworth and Working Moms Like Mine',\n",
              " 'In Real Life, SPF 100 Sunscreens May Work Better Than SPF 50',\n",
              " 'An Overdue Thanks',\n",
              " 'Another Day in Marvel’s Universe',\n",
              " 'Locals Bristle as Outsiders Grab Spaces',\n",
              " 'Migrant Caravan Reaches U.S. Border. Journey Isn’t Over.',\n",
              " 'For Trump and Macron, A Presidential Bromance',\n",
              " 'Israel’s Got Its Own Refugee Dilemma: African ‘Dreamers’',\n",
              " 'In Britain, an Immigration Crackdown Breaks a Postwar Promise',\n",
              " 'The Way It Was (or How He Recalls It)',\n",
              " 'When Suspect Said ‘Kill Me,’ Officer Put Away His Gun',\n",
              " 'Doubtful Limits on Presidential Power',\n",
              " 'Judge Tells U.S. to Accept New DACA Applications, Breathing Life Into Program',\n",
              " 'Democrats Take Numerical Edge in Senate',\n",
              " 'Republican Wins Race In Arizona Stronghold, Buoying Nervous Party',\n",
              " 'Panel Tells N.C.A.A.To End 1 and Done',\n",
              " 'Furniture-Building Robots',\n",
              " 'Teaching Activities for: ‘How Windmills as Wide as Jumbo Jets Are Making Clean Energy Mainstream’',\n",
              " 'Are You Conforming to or Rebelling Against Your Parents’ Wishes for You?',\n",
              " 'From Tracy K. Smith’s ‘Wade in the Water’',\n",
              " 'I’m a 73-Year-Old Cancer Survivor. Can I Accept A Kidney?',\n",
              " 'Workers In Tech, Use The Force',\n",
              " ...]"
            ]
          },
          "execution_count": 4,
          "metadata": {},
          "output_type": "execute_result"
        }
      ],
      "source": [
        "headline = list(df.headline.values)\n",
        "headline = [w for w in headline if w != 'Unknown']\n",
        "headline"
      ]
    },
    {
      "cell_type": "code",
      "execution_count": null,
      "metadata": {
        "colab": {
          "base_uri": "https://localhost:8080/"
        },
        "id": "4YMznS-vVP6M",
        "outputId": "58039e9b-c183-4952-eab5-c57190379f2d"
      },
      "outputs": [
        {
          "name": "stderr",
          "output_type": "stream",
          "text": [
            "[nltk_data] Downloading package stopwords to /root/nltk_data...\n",
            "[nltk_data]   Unzipping corpora/stopwords.zip.\n"
          ]
        }
      ],
      "source": [
        "# 불용어 사전\n",
        "import nltk\n",
        "from nltk.corpus import stopwords\n",
        "nltk.download('stopwords')\n",
        "d = stopwords.words('english') #list"
      ]
    },
    {
      "cell_type": "code",
      "execution_count": null,
      "metadata": {
        "id": "6K5C5P7OVsd0"
      },
      "outputs": [],
      "source": [
        "from string import punctuation"
      ]
    },
    {
      "cell_type": "code",
      "execution_count": null,
      "metadata": {
        "colab": {
          "base_uri": "https://localhost:8080/",
          "height": 35
        },
        "id": "JihqxhV9WMv6",
        "outputId": "0c0e8c87-ff3c-449b-d81e-41179135805c"
      },
      "outputs": [
        {
          "data": {
            "application/vnd.google.colaboratory.intrinsic+json": {
              "type": "string"
            },
            "text/plain": [
              "'!\"#$%&\\'()*+,-./:;<=>?@[\\\\]^_`{|}~'"
            ]
          },
          "execution_count": 7,
          "metadata": {},
          "output_type": "execute_result"
        }
      ],
      "source": [
        "punctuation"
      ]
    },
    {
      "cell_type": "code",
      "execution_count": null,
      "metadata": {
        "id": "HJhwGuQMWSnj"
      },
      "outputs": [],
      "source": [
        "def pre_func(title):\n",
        "  # 소문자 변환, 구두점, 특수 문자 제거\n",
        "  res=''.join(w.lower() for w in title if w not in punctuation+'’‘') # '’‘' 이것도 제거\n",
        "  # 불용어 제거\n",
        "  res=' '.join(w for w in res.split() if w not in d)\n",
        "  return res\n"
      ]
    },
    {
      "cell_type": "code",
      "execution_count": null,
      "metadata": {
        "id": "mqLv_fnScEV0"
      },
      "outputs": [],
      "source": []
    },
    {
      "cell_type": "code",
      "execution_count": null,
      "metadata": {
        "colab": {
          "base_uri": "https://localhost:8080/"
        },
        "id": "jEfGpPg1XiQH",
        "outputId": "964d6aed-2093-4eb0-cecd-782e6bede138"
      },
      "outputs": [
        {
          "data": {
            "text/plain": [
              "['former nfl cheerleaders settlement offer 1 meeting goodell',\n",
              " 'epa unveil new rule effect less science policymaking',\n",
              " 'new noma explained',\n",
              " 'bag texas dirt became times tradition',\n",
              " 'school place selfexpression',\n",
              " 'commuter reprogramming',\n",
              " 'ford changed leaders looking lift still looking',\n",
              " 'romney failed win utah convention believe hes doomed',\n",
              " 'chain reaction',\n",
              " 'forced vatican investigate sex abuse hes meeting pope francis',\n",
              " 'berlin artists find home',\n",
              " 'right stuff',\n",
              " 'jimmy carter knows north korea wants',\n",
              " 'truth',\n",
              " 'new jersey ruling could reignite battle churchstate separation',\n",
              " 'procrastinating',\n",
              " 'word quiz dilatory',\n",
              " 'lifethreatening bout e coli food poisoning',\n",
              " 'choosing brexit town yearned seafaring past muddied future',\n",
              " 'quote disproved',\n",
              " 'hot stuff turns cold',\n",
              " 'top pay gap may gone',\n",
              " 'years bizarre behavior got guns back',\n",
              " 'court stand mr trump',\n",
              " 'hope arizona',\n",
              " 'human rights groups failed economic equality',\n",
              " 'american tragedy nashville',\n",
              " 'dont need education',\n",
              " 'paul relents pompeo approved panel',\n",
              " 'making change',\n",
              " 'long overlooked city buses get love turnaround push',\n",
              " 'trumps first state dinner nods traditions bucks',\n",
              " 'money pouring wisconsin key race',\n",
              " 'trump kim high stakes mismatched motives',\n",
              " 'sidewalk van cuts 10 toronto',\n",
              " 'pope given apologies nothing indigenous canada',\n",
              " 'europes leaders urge trump save iran deal',\n",
              " 'craft distillers facing lower taxes invest',\n",
              " 'avengers lucrative movie franchise ever wrapping',\n",
              " 'taking genital reconstruction',\n",
              " 'heck utne',\n",
              " 'frontier states',\n",
              " 'mirror mirror denial',\n",
              " 'patron wrested rifle says trying live',\n",
              " 'richard carranza chancellor ultimately everything',\n",
              " 'helping kids adhd families thrive',\n",
              " 'debate persists gmo foods',\n",
              " 'long music citys favorite soap opera',\n",
              " 'westworld whats wrong cruelty robots',\n",
              " 'whats going picture april 23 2018',\n",
              " 'odds',\n",
              " 'shopping multilevel coffee tables',\n",
              " 'whisky chronicles',\n",
              " 'officials new plan fix subway lets use unproven technology',\n",
              " 'cancer label coffee risks',\n",
              " 'special delivery britain prince',\n",
              " 'setting tone postpresidency obama share message tolerance',\n",
              " 'politicians scraping bottom scarce resource impeachment lawyers',\n",
              " 'one fight referee wont stop',\n",
              " 'feel told smile',\n",
              " 'sudan blocks migrants path aiding europe',\n",
              " 'peaceful mood 2 koreas meet',\n",
              " 'billions season 3 episode 5 recap family choose',\n",
              " 'westworld season 2 premiere truth consequences',\n",
              " 'majesty magic',\n",
              " 'rhyme gone wild 1738 kind way',\n",
              " 'public servants losing foothold middle class',\n",
              " 'time big economic ideas',\n",
              " 'thank trump youll sorry',\n",
              " 'mr muellers swamp guide',\n",
              " 'america abhors impeachment',\n",
              " 'missing history columbia',\n",
              " 'buried gaza graveyard played dead',\n",
              " 'lead',\n",
              " 'sidewalk rescue',\n",
              " 'cuomo vs de blasio one countrys ugliest political feuds',\n",
              " 'dodging tariffs handy detour',\n",
              " 'steel tariffs wages painfully wonkish',\n",
              " 'china left kim plans talk foes',\n",
              " 'tribute uwe reinhardt',\n",
              " 'revisiting open eras forgotten home still cold wet',\n",
              " 'pluses minuses',\n",
              " 'survival bid rosenstein may costly',\n",
              " 'opioid crisis foretold',\n",
              " 'business deals could imperil trump',\n",
              " 'adapting american decline',\n",
              " 'republicans big senate mess',\n",
              " 'states scott pruitt wont',\n",
              " 'fake pearls real heart',\n",
              " 'fear beyond starbucks',\n",
              " 'variety puns anagrams',\n",
              " 'epa chiefs ethics woes echoes past',\n",
              " 'democrats push bow',\n",
              " 'facebook rumors fuel thirst revenge',\n",
              " 'house next door airbnb heres',\n",
              " 'punch air',\n",
              " 'caution babies voting',\n",
              " 'childbirths dangers black women',\n",
              " 'man set fire barely noticed',\n",
              " 'men quit women dont',\n",
              " 'jewish power 70 years',\n",
              " 'help word phrasing deserts',\n",
              " 'curtains gypsy',\n",
              " 'punching bag president clout',\n",
              " 'provocateur blooddripping appearance',\n",
              " 'democratic party files lawsuit alleging trumprussia conspiracy',\n",
              " 'justice dept seen divided rights case garner killing',\n",
              " 'never going let president',\n",
              " 'fullon propaganda inside cia pick director',\n",
              " 'two twisting towers come far west side',\n",
              " 'deal wells fargo pay big penalty',\n",
              " 'known mayhem east new york killing fields',\n",
              " 'familiar place becomes home',\n",
              " 'rupauls drag race season 10 episode 5 getting 50',\n",
              " 'nobody tells long marriage',\n",
              " 'big egos politics lack trust',\n",
              " 'cynthia nixon save democrats',\n",
              " 'repetitive insanity along gaza fence',\n",
              " 'happen',\n",
              " 'north korean promise hault nuclear testing',\n",
              " 'four families one mission space',\n",
              " 'candidates embracing word',\n",
              " 'gop support shows cracks scott pruitts ethics inquiries widen',\n",
              " 'sanctions push north reforms',\n",
              " 'extra extra hes still selling',\n",
              " 'stephen colbert doesnt want know trumps sex life',\n",
              " 'turning marijuana runners high',\n",
              " 'tarot card reading',\n",
              " 'schools dress code strict',\n",
              " 'teaching activities “southwest pilot flight 1380 navy veteran hailed nerves steel”',\n",
              " 'global trackandfield ban russia shows sign letting heres',\n",
              " 'atlanta season 2 episode 8 recap al finally ready paper boi',\n",
              " 'place todays puzzle',\n",
              " 'redacted comey memos delivered lawmakers',\n",
              " 'elizas charge time',\n",
              " 'equal rights amendment returns',\n",
              " 'great snake oil slump',\n",
              " 'russia sponsoring terrorism',\n",
              " 'dawn fulton fish market',\n",
              " 'deceived betrayed parents slain children urge résumé law',\n",
              " 'giuliani lend legal firepower trumps team adds lawyers',\n",
              " 'parallels jake tappers new novel',\n",
              " 'olivia popes pantsuit nation',\n",
              " 'teaching fashion vs art',\n",
              " 'officials lay 1 billion fine wells fargo',\n",
              " 'armstrong agrees pay 5 million fraud case',\n",
              " 'safe eat salad',\n",
              " 'case exfbi deputy chief sent possible prosecution',\n",
              " 'problem miracle cancer cures',\n",
              " 'ho foods noodle soup nourishes transports',\n",
              " 'pediatrician gave asperger syndrome name tied nazi killing children',\n",
              " 'bodies remodeled life sea',\n",
              " 'new restaurant frenchette stands natural wines',\n",
              " 'men arrested starbucks hope spur talk race',\n",
              " 'metoo means teenagers',\n",
              " 'heres 1 million make movie',\n",
              " 'new york city rent slide',\n",
              " 'cubas new leader progressive hardliner enigma',\n",
              " 'hot global economy surplus frowns',\n",
              " 'olive branch north korea viewed warily',\n",
              " 'teaching activities san franciscos big seismic gamble',\n",
              " 'standardized tests',\n",
              " 'companies require antibias training employees',\n",
              " 'goal sowing literature',\n",
              " 'imaginative caregiving cancer patient',\n",
              " 'democrats gentrification problem',\n",
              " 'lighting way others shine',\n",
              " 'landscapes art aliens',\n",
              " 'better worse things cant remember',\n",
              " 'marriage path citizenship becomes road deportation',\n",
              " '36 hours lisbon',\n",
              " 'janelle monáe found voice',\n",
              " 'crazy high tolls get closer look',\n",
              " 'damage great barrier reef global warming irreversible scientists say',\n",
              " 'dislike comey despise trump',\n",
              " 'democrats real fiscal conservatives',\n",
              " 'new tales old persia unfolding new york',\n",
              " 'drug end addiction scientists working',\n",
              " 'creative start',\n",
              " 'end leash',\n",
              " 'choosing road fit dr king',\n",
              " 'syrian strike attracts talk changes',\n",
              " 'real next war syria iran vs israel',\n",
              " 'comey interview launches allout war president',\n",
              " 'barbara bush gravely ill opts halt treatment',\n",
              " 'trump punish russia aiding attack syria',\n",
              " 'trump blasts comey barrage tweets calling slippery',\n",
              " 'homes sold around 600000',\n",
              " 'youtuber brings tarot people',\n",
              " 'preposition proposition',\n",
              " 'cant jump ship facebook yet',\n",
              " 'mom running office',\n",
              " 'warrior mall',\n",
              " 'scrap todo list',\n",
              " 'paul ryan party man',\n",
              " 'black tax housing',\n",
              " 'dont call genius',\n",
              " 'need exorcist',\n",
              " 'strange pension math leaves states pinch making',\n",
              " 'profiteers coax women surgery',\n",
              " 'variety acrostic',\n",
              " 'mission accomplished mission syria',\n",
              " 'window ledge becomes nest pigeons',\n",
              " 'us says strikes took heart assad threat',\n",
              " 'salute signature signing',\n",
              " 'expressions affection',\n",
              " 'republic republicans ryan',\n",
              " 'trump launches strikes syrian targets',\n",
              " 'pull together henry higgins',\n",
              " 'power pictures viewing history americas library',\n",
              " 'pregnancy payment gop resignation',\n",
              " 'step ahead cuomo allies spurn party endorse rival',\n",
              " 'burgundy iconoclast laurent ponsot looks big projects',\n",
              " 'trading snarl smile pompeo makes case lead state dept',\n",
              " 'mitzi shore 87 comedy club owner fostered rising stars university',\n",
              " 'rice balls subtle showy alike omusubi gonbei',\n",
              " 'washington insider former coal lobbyist becomes epa deputy chief',\n",
              " 'addressing problem areas',\n",
              " 'house punched clock',\n",
              " 'privacy issue rises fore vindicating data experts',\n",
              " 'crossword zoo 10 animals know',\n",
              " 'performer whos body snarl',\n",
              " 'staring syria',\n",
              " 'pentagon urges greater caution syria strike',\n",
              " 'better body pill experts urge caution sarms',\n",
              " 'signs political armageddon',\n",
              " 'trump wants america revert queens childhood',\n",
              " 'metoo go next',\n",
              " 'appointing yet another white male director missed opportunity met',\n",
              " 'dissenting supreme courts rightward shift',\n",
              " 'lots fish screen',\n",
              " 'saying long scandal',\n",
              " 'brooklyn stalwart heads west north',\n",
              " 'phoenix transplant wages allout battle sticker shock',\n",
              " 'teacher walkouts threaten republicans grip red states',\n",
              " 'house party upended speaker calmly takes leave',\n",
              " '36 hours victoria british columbia',\n",
              " 'teaching activities kidnapped schoolgirls boko haram',\n",
              " 'portraits mestiza mexico wish seen',\n",
              " 'fashion comebacks',\n",
              " 'best time human history alive',\n",
              " 'morning people may live longer night owls',\n",
              " 'americans season 6 episode 3 recap moscow believes beef stew',\n",
              " 'overlooked lin huiyin liang sicheng chroniclers chinese architecture',\n",
              " 'silent partner',\n",
              " 'headline tabloid didnt run catches investigators eyes',\n",
              " 'pompeo begins charm offensive senate questioning',\n",
              " 'americas lethal export',\n",
              " 'tweets syria russia china triumph contradiction',\n",
              " 'good riddance mr speaker',\n",
              " 'syrian town objects fell sky shouts chemicals',\n",
              " 'plan track methane leaks',\n",
              " 'late mr ryan',\n",
              " 'us pay trump fires mueller',\n",
              " 'tugging reins facebooks power',\n",
              " 'lot say say say',\n",
              " 'alternative health plans fewer rules',\n",
              " 'putin world sanctions may force russian oligarchs choose',\n",
              " 'brutal rape murder girl 8 divides india',\n",
              " 'balaboosta close end may',\n",
              " 'doors could talk selling portals chelsea hotels past',\n",
              " 'police france begin clearing airport protest camp',\n",
              " '23 million homes new york florida colorado',\n",
              " 'treehouse thats grid',\n",
              " 'ryan tax cut feather cap trump albatross around neck',\n",
              " 'ryan retire scattering hopes gop 2018',\n",
              " 'access hollywood tape said focus raid',\n",
              " 'former fbi deputy director faulted scathing inspector general report',\n",
              " 'former cheney aide pardoned trump cia leak case',\n",
              " 'billionaires ambition meets citys dream',\n",
              " 'riffing one worlds great sandwiches',\n",
              " 'clinical trial open elderly need apply',\n",
              " 'craving taste spring try',\n",
              " 'sea turtles use magnetic fields find birthplace beach',\n",
              " 'punch line feels like gut punch',\n",
              " 'chefs advice relaxation stir risotto',\n",
              " 'vision loss simple aids help',\n",
              " 'watching weekend house week',\n",
              " 'untruthful slime ball trump gop lash back comey',\n",
              " 'lawyers files bigger risk mueller',\n",
              " 'oats dont contain gluten labeled gluten free',\n",
              " 'homeless seattle wed beneath overpass',\n",
              " 'hes longer exhusband hes cograndparent',\n",
              " 'democrats win house ask texas',\n",
              " 'tax day dilemma paying scott pruitt nap',\n",
              " 'tethered raging buffoon',\n",
              " 'trevor noah hammers congress dependence facebooks cash',\n",
              " 'betting berkshires',\n",
              " 'never solved college dorm fire become one mans obsession',\n",
              " 'governors affair legal battle political uncertainty missouri',\n",
              " 'collector thriving modern maze',\n",
              " 'officials lost count many thousands died syrias war',\n",
              " 'sustainable travel environment',\n",
              " 'bank account interest still paltry',\n",
              " 'alaska could neighbor chasing car thief',\n",
              " 'spideys creator web strife',\n",
              " 'trust facebook',\n",
              " 'teaching activities paul ryan upends republican hopes plans midterm elections',\n",
              " 'flower shop',\n",
              " 'word quiz ecclesiastic',\n",
              " 'air pollution may pose serious risks young children',\n",
              " 'rupauls drag race season 10 episode 4 rupocalypse',\n",
              " 'atlanta season 2 episode 7 recap drake left building',\n",
              " 'high points',\n",
              " 'dont worry love inevitable',\n",
              " 'plan pardon aide convicted cia leak',\n",
              " 'visceral details grim view president comey memoir',\n",
              " 'mike pompeo works hill',\n",
              " 'little cheer',\n",
              " 'ruling favors california immigration',\n",
              " 'flimflam fascism',\n",
              " 'renaissance right',\n",
              " 'much perfume',\n",
              " 'face face president without mincing words',\n",
              " 'epa sheriff indulged pruitt security spending mounted',\n",
              " 'plan make overdose drug accessible falters',\n",
              " 'shifting signals trade baffle chinas leaders',\n",
              " 'boys men teaching learning masculinity age change',\n",
              " 'world press photo year tale told twice',\n",
              " '23 women lead',\n",
              " 'major energy move new jersey lifts renewable sources',\n",
              " 'historians versus genealogists',\n",
              " 'trump weighs rejoining accord pacific rim aboutface',\n",
              " 'brisbane gauge stands apart imitators',\n",
              " 'pruitt less epa medallion',\n",
              " 'builtin advantage majority fast receding',\n",
              " 'camdens schools improve stateappointed superintendent steps aside',\n",
              " 'save abortion rights think beyond roe',\n",
              " 'details unwanted advances missouris governor',\n",
              " 'inside little italy kitchen',\n",
              " 'remember friends deleted long ago facebook',\n",
              " 'musicians aging concert',\n",
              " 'trump promises strike syria warns moscow assad',\n",
              " 'nfl teams use social media promote control cheerleaders',\n",
              " 'exercise alone may key weight loss',\n",
              " 'make crossword puzzle',\n",
              " 'teenagers become allergic parents',\n",
              " 'real families fictional roseanne',\n",
              " 'signatures matter',\n",
              " 'mike pence',\n",
              " 'military plane crash algerias worst air disaster 257 dead',\n",
              " 'social media giant collects uses data',\n",
              " 'warm embrace except youre pedestrian',\n",
              " 'reddest rural districts democratic candidates defying nra',\n",
              " 'hidden toll',\n",
              " 'answering calling way',\n",
              " 'seth meyers wonders cohen raid spells doom president',\n",
              " 'wrong focus animal welfare humans suffering',\n",
              " 'brassai eye paris',\n",
              " 'teaching activities python pet store may snatched wild',\n",
              " 'smells memories',\n",
              " 'classic work',\n",
              " 'subway time else wait',\n",
              " 'legal attack dogs seized files could bite client',\n",
              " 'civil rights law ignored',\n",
              " 'clown fish need energy live bleached home',\n",
              " 'trump angry reports subpoenas nearly fired mueller december',\n",
              " 'traumatic brain injuries tied dementia',\n",
              " 'salt pepper',\n",
              " 'law coming mr trump',\n",
              " 'youre going die face already',\n",
              " 'lavish gory case el chapo',\n",
              " 'mueller whos draining swamp',\n",
              " 'game war zone called',\n",
              " 'americas three bad options syria',\n",
              " 'long last trumps steel tariffs hit home',\n",
              " 'justice dept investigates early college admissions',\n",
              " 'tiki bar lessthantropical island',\n",
              " 'target raids money paid hush women',\n",
              " 'trump fumes trembling',\n",
              " 'screaming ice cream',\n",
              " 'top trump homeland security adviser forced bolton settles',\n",
              " 'filipinos find home city tatters',\n",
              " 'president calls trip latin america citing crisis syria',\n",
              " 'climate skeptics say polar bears fine scientists beg differ',\n",
              " 'speak little boys little dogs',\n",
              " 'make facebook accountable',\n",
              " 'trump misunderstands trade',\n",
              " 'stephen colbert imagines michael cohen fbi raid went',\n",
              " 'diving gut renovation gusto',\n",
              " 'rhodesias dead — white supremacists given new life online',\n",
              " 'cambridge analytica coming data bust',\n",
              " 'crash course',\n",
              " 'escapes riots beatings behind bars private prisons',\n",
              " 'soups side art',\n",
              " 'beautiful complicated bogotá travelers starter kit',\n",
              " 'groped fans pro cheerleaders say bosses advice smile',\n",
              " 'disapprove school vouchers still apply',\n",
              " 'mayors dream streetcar remains',\n",
              " 'markdowns work',\n",
              " 'poem cure',\n",
              " 'dear match book funny pages',\n",
              " 'daughter exspy hospital',\n",
              " 'college',\n",
              " 'popup classes wish school offered',\n",
              " 'two reporters recorded myanmar massacre prison',\n",
              " 'new york housing authority chief fire months resigning',\n",
              " 'big school event',\n",
              " 'turning revulsion votes',\n",
              " 'privacy eroded ok',\n",
              " 'obamacares stable genius',\n",
              " 'failures antitrumpism',\n",
              " 'bannon tariffs test trumps beliefs',\n",
              " 'childhood fears parent allay',\n",
              " 'outsiders make 911 calls fear born brooklyn gentrification',\n",
              " 'metoo help close gender pay gap',\n",
              " 'ask zuckerberg',\n",
              " 'left right center women arizona reshape debate',\n",
              " 'two tokens please',\n",
              " 'scrutiny trumps allies trail money widens',\n",
              " 'trumps onenight stand turns legal nightmare',\n",
              " 'lead us temptation',\n",
              " 'snake handlers',\n",
              " 'leeches species trackers',\n",
              " 'poised balloon 1 trillion us deficit fuels fear crisis',\n",
              " 'warming grilling jacket tie hair shirt',\n",
              " 'mets 81 get excited',\n",
              " 'authentic foreign',\n",
              " 'president talks retaliation beyond syria',\n",
              " 'heck abou',\n",
              " 'sizzle grill put music',\n",
              " 'season 1 episode 9 future tense',\n",
              " 'fossilized finger bone may earliest humans arabian peninsula',\n",
              " 'new trump advisers head trade war',\n",
              " 'top ethics official questions actions pruitt',\n",
              " 'isis commander afghan north dies us strike',\n",
              " 'governor enters senate race returning florida battleground',\n",
              " 'journalism like car crash wait didnt come right',\n",
              " '20 years later death china rallying cry',\n",
              " 'lifethreatening allergic reactions rising children',\n",
              " 'new shingles vaccine reasons get',\n",
              " 'masked man wrestling priest',\n",
              " 'teaching activities trump vows “big price” syria attack raising prospect missile strike',\n",
              " 'hub contemplation challenge social protest',\n",
              " 'much power books teach young people tolerance others',\n",
              " 'trust season 1 episode 3 recap change management',\n",
              " 'billions season 3 episode 3 recap boss moves',\n",
              " 'walking dead season 8 episode 15 recap cleaning house',\n",
              " 'wit tina fey song',\n",
              " 'home court art gallery',\n",
              " 'town lives hockey crash splintered hearts',\n",
              " 'tragedy james comey',\n",
              " 'horror governed fox amp friends',\n",
              " 'fiery national security adviser powderkeg presidency',\n",
              " 'state courts attack',\n",
              " 'art collector bon vivant dies fire trump tower home couldnt sell',\n",
              " 'affected users say facebook betrayed',\n",
              " 'chemical carnage muddles plans us exit',\n",
              " 'sweeping election victory gives hungarys ruler control constitution',\n",
              " 'metoo antioch',\n",
              " 'cut class',\n",
              " 'given initials',\n",
              " 'fox stroller',\n",
              " 'hasty scrawls end credit card signatures',\n",
              " 'one trusts facebook viral stars complain',\n",
              " 'gop threat impeachment may spur voters',\n",
              " 'triple spoonerisms',\n",
              " 'murky perils quitting antidepressants years use',\n",
              " 'season arlee warriors',\n",
              " 'landlord refund fee amenities arent available',\n",
              " 'renegades mainstream',\n",
              " 'risotto sri lanka good',\n",
              " 'mr trumps trade bombast',\n",
              " 'friday night music samantha fish',\n",
              " 'germs love diet soda',\n",
              " 'something extra every dvd',\n",
              " 'chief staff advised resistant president fire epas chief',\n",
              " 'current tb treatment may insufficient',\n",
              " 'saudi princes tour murdoch gates oprah …',\n",
              " 'buying political ad facebook anonymous need apply',\n",
              " 'asparagus earned divine status',\n",
              " 'early work frustrated new yorkers blame subway',\n",
              " 'catering fliers 30000 feet',\n",
              " 'democracy enemy',\n",
              " 'cecil taylor bracing pianist defied jazz orthodoxy dead 89',\n",
              " 'pregnancy blood pressure miscarriage',\n",
              " 'real estate dynasty passing torch',\n",
              " 'disappointing jobs report takes shine economy',\n",
              " 'alarms raised nominees views islam',\n",
              " 'back early 80s michael kors',\n",
              " 'dont let gop dismantle obamas student loan reforms',\n",
              " 'hatewatching hgtv like',\n",
              " 'us puts new sanctions putins inner circle',\n",
              " 'gendered politics new yorks emasculator chief',\n",
              " 'ready give second baby miracle arrived',\n",
              " 'chappaquiddick bad history',\n",
              " 'conspiracy theory says trump genius',\n",
              " 'fascism march',\n",
              " 'new power structure',\n",
              " 'blast past',\n",
              " 'trump denies knowledge payment porn star',\n",
              " 'art flail',\n",
              " 'officials epa raised concerns ousted',\n",
              " 'trump script blasts democrats immigration',\n",
              " 'restaurateur stephen starr teams keith mcnally reopen pastis',\n",
              " 'limits liberal nirvana',\n",
              " 'sometimes broken glass broken glass',\n",
              " 'big room protecting small moments',\n",
              " 'painfully sick marijuana',\n",
              " 'us forces syria building outposts pulling lawn chairs',\n",
              " 'someones prom plans dont include sex',\n",
              " 'tight labor market squeezes restaurants',\n",
              " 'growing crisis threatens epa chief top aides eye exits',\n",
              " 'china confident beat trump trade war',\n",
              " 'buzz cuts politics hair',\n",
              " 'one battle another trump v california',\n",
              " 'homes sale manhattan brooklyn',\n",
              " 'harder death people intellectual disabilities',\n",
              " 'contract authoritarianism',\n",
              " 'trump driven fear',\n",
              " 'tiny elevator haunting thoughts',\n",
              " 'oh god women accuse architect misconduct',\n",
              " 'finding place decent kitchen call',\n",
              " 'pentagon wades deeper detainee operations run kurds syria',\n",
              " 'recovery plan',\n",
              " 'mueller weakness becomes strength',\n",
              " 'life death',\n",
              " 'trade war usual commerce rules may apply',\n",
              " 'lisa murkowski mastered trumps washington',\n",
              " 'mike myerss dr evil tells jimmy fallon fired white house',\n",
              " 'need homework therapist',\n",
              " 'teaching activities hot springs lower stress japans popular bathing monkeys',\n",
              " 'temple elephants find friends care retreat india',\n",
              " 'sheep',\n",
              " 'dylan st vincent others sing gay love',\n",
              " 'safety marijuana fatal car crashes',\n",
              " 'americans season 6 episode 2 recap people',\n",
              " 'overlooked bessie b stringfield motorcycle queen miami',\n",
              " 'causing walkoff',\n",
              " 'youtube complaints attacker echoed fight ad dollars',\n",
              " 'mr trumps flawed border plan',\n",
              " 'us risks trapping manufacturers crossfire',\n",
              " 'uschina trade tensions send indexes lower',\n",
              " 'letting go family homestead',\n",
              " 'architectures forensic gaze',\n",
              " 'indian womens american dreams jeopardy',\n",
              " 'producer role supplied dough',\n",
              " 'souvenirs mean ive',\n",
              " 'forget logo store quirks another era',\n",
              " 'garry winogrand photograph',\n",
              " 'teaching activities spy new yorks museum deception',\n",
              " 'campus',\n",
              " 'south koreas expresident sentenced 24 years corruption scandal',\n",
              " 'macrons fight radical islam may lead exile vocal imam',\n",
              " 'rupauls drag race season 10 episode 3 fifty shades mayhem',\n",
              " 'small slice pizza',\n",
              " 'locals knew mentally ill officers shot didnt',\n",
              " 'immigrants keep crossing border undeterred washingtons whims',\n",
              " 'white house sees hope agreement nafta',\n",
              " 'gun makers must',\n",
              " 'guard took 45000 bribes luxuries prosecutors say',\n",
              " 'trump escalates fight china tariff threat',\n",
              " 'takes one mistake worries sending national guard border',\n",
              " 'police brooklyn kill man pointing pipe believed gun',\n",
              " 'infrastructure fund slow equal hype',\n",
              " 'shhhh silence survival',\n",
              " 'mostly quiet car',\n",
              " 'mr trumps war truth',\n",
              " 'enchanted home inside library',\n",
              " 'britain aims close pay gap transparency shame',\n",
              " 'ryan defeated maybe race circus',\n",
              " 'trump work governors deploy national guard border',\n",
              " 'new york condoning illiteracy',\n",
              " 'big footprints scottish isle signs playground dinosaurs',\n",
              " 'ohio lovely primary tempts kasich',\n",
              " 'hearing readers multiple channels',\n",
              " 'balancing chaos mighty universe',\n",
              " 'older yes wiser well',\n",
              " 'beyond city rents rise homelessness follows',\n",
              " 'trump saving us minnesota miners warm tariffs gop',\n",
              " 'walking miracle making last stand',\n",
              " 'europes houses worship astounding detail',\n",
              " 'president pulls back call total withdrawal syria',\n",
              " 'google military project fuels internal dissent',\n",
              " 'robert f kennedy told indianapolis crowd kings assassination',\n",
              " 'facebook puts profile breach 87 million',\n",
              " 'white house edges back brink trade war',\n",
              " 'officially good guy blood',\n",
              " 'right cue come jitters',\n",
              " 'trade wars stranded assets stock market wonkish',\n",
              " 'googoosha less cherished uzbek first daughter',\n",
              " 'indexes rise even trade fight us china grows',\n",
              " 'estate stained glass fit cathedral',\n",
              " '700000 homes washington pennsylvania michigan',\n",
              " 'top court rules brazil jail former leader',\n",
              " 'new york democrats end 7year schism',\n",
              " 'bananas outwork sports drinks',\n",
              " 'runners mysterious illness dad side',\n",
              " 'gop avoid disaster',\n",
              " 'old boomers never die',\n",
              " 'jimmy kimmel doesnt understand trumps attacks amazon',\n",
              " 'historic homes questionable moniker',\n",
              " 'arlee warriors playing',\n",
              " 'remembered rest lives',\n",
              " 'turning trauma good',\n",
              " 'season plants animals baffled',\n",
              " 'guiding hand algebra anxiety',\n",
              " 'anne wojcicki wants healthy 100',\n",
              " 'endless war land mines balkans',\n",
              " 'teaching activities 12 viral science video 14 fears rude',\n",
              " 'dr kings legacy mean',\n",
              " 'teacher walkouts',\n",
              " 'leader hungary sees economic miracle mirage',\n",
              " 'cheesy stuff',\n",
              " 'crime punishment',\n",
              " 'firms shudder trumps tweets mean business',\n",
              " 'foreign policy president reverts candidate trump',\n",
              " 'pruitt spotlight shines ethics epa rollbacks',\n",
              " 'win argument guns',\n",
              " 'inclusion riders wont save hollywood',\n",
              " 'trumps perversion leadership',\n",
              " 'new friends upstairs',\n",
              " 'shooting youtubes offices rattles silicon valley',\n",
              " 'honor king churches ask far come',\n",
              " 'mourning loss another beacon old harlem',\n",
              " 'hot springs lower stress monkeys',\n",
              " 'five attorneys general',\n",
              " 'met lets light',\n",
              " 'putin cia agent',\n",
              " 'sisters chose isis norway',\n",
              " 'king lived died',\n",
              " 'building smart city heated sidewalks included',\n",
              " 'turf battle interprets tax rules',\n",
              " 'women men pushed edge',\n",
              " 'lead california trump leads battle',\n",
              " 'johnny cashs poems get second life songs',\n",
              " 'oaxaca gowanus',\n",
              " 'art beef stew',\n",
              " 'last year martin luther king jrs life according times',\n",
              " 'politically progressive faith martin luther king',\n",
              " 'saudi prince says israelis right land',\n",
              " 'matter mind',\n",
              " 'lone journalist scene dr king shot',\n",
              " 'trial uncovers casual horrors private jail',\n",
              " 'trump foresees national guard securing border',\n",
              " 'championship game',\n",
              " 'older americans hooked vitamins',\n",
              " 'standin standout villanova',\n",
              " 'trump proclaims sexual assault awareness month late night thinks joke',\n",
              " 'bedford tale son bronx',\n",
              " 'pairs well trade war',\n",
              " 'mixing work pleasure hurricanedamaged islands',\n",
              " 'ancient land cloud warriors',\n",
              " 'new girlfriend awful exhusband warned',\n",
              " 'case missing booksellers',\n",
              " 'necessary evil',\n",
              " 'doctor grapple epidemic cost',\n",
              " 'bracing siege lower manhattan',\n",
              " 'dear match book search comfort reading',\n",
              " 'like finally write',\n",
              " 'vape',\n",
              " 'supermans alien name',\n",
              " 'influential man earth',\n",
              " 'voter suppressions legacy lives',\n",
              " 'reliving arabian nights',\n",
              " 'button facebook could use',\n",
              " 'industry giants register dissent trade action',\n",
              " 'autocrats playbook',\n",
              " 'whats matter trumpland',\n",
              " 'gop leaders fear toll bruising primary battles',\n",
              " 'lobbyist condo deal green light',\n",
              " 'wrong way unclog streets',\n",
              " '2001 got right',\n",
              " 'border patrol agent trumps ear',\n",
              " 'matzo birds',\n",
              " 'super nova',\n",
              " 'family antibiotics antacids allergies',\n",
              " 'escort coach held thailand jail offer secrets russia',\n",
              " 'divisive oratory daily nation spellbound',\n",
              " 'california vows fight us efforts reduce car pollution standards',\n",
              " 'year peak picasso',\n",
              " 'stocks sink bump gives way bear',\n",
              " 'like go sweatpants dont nfl cheerleader',\n",
              " 'russia sends hasty rsvp trump invitation',\n",
              " 'changing south bronx residents see new jail step backward',\n",
              " 'life disgrace',\n",
              " 'teachers walk 2 states fervor spreads',\n",
              " 'heck niobe',\n",
              " 'tradition treats',\n",
              " 'season 1 episode 8 absurdist hero',\n",
              " 'winnie madikizelamandela dead 81 fought south african apartheid',\n",
              " 'dolphin dieoff brazil tip iceberg',\n",
              " 'trump returns hard line immigrants',\n",
              " 'thoughts sports betting',\n",
              " 'glee satisfaction weeping america reacted martin luther king died',\n",
              " 'value limitations calcium scan',\n",
              " 'baby roommate',\n",
              " 'middle ground guns',\n",
              " 'serve deranged tyrant stoically',\n",
              " 'cracking cold case',\n",
              " 'aspiring developer chooses construction zone',\n",
              " 'iraq found checkpoints endless whims armed men',\n",
              " 'crossroads',\n",
              " 'reality tvs hopeless romantic',\n",
              " 'charities face metoo fallout',\n",
              " 'student loan showdown borrowers best',\n",
              " 'fighting chores spend money save marriage',\n",
              " 'telling stories defectors north korea',\n",
              " 'barely puff vaping floods schools',\n",
              " 'day one new schools chancellor long todo list',\n",
              " 'trust season 1 episode 2 recap dont mess texas',\n",
              " 'billions season 3 episode 2 recap feeling stomach',\n",
              " 'china makes good threat tariffs raising duties 128 us products',\n",
              " 'walking dead season 8 episode 14 resurrection',\n",
              " 'eager refugees courted jobs tight market',\n",
              " 'rhythms tragedy',\n",
              " 'ice melting dismantling police state',\n",
              " 'lastsecond nature',\n",
              " 'america needs better privacy rules',\n",
              " 'subject refuses pose',\n",
              " 'poisoned door knob hints highlevel plot kill spy uk officials say',\n",
              " 'new black american dream',\n",
              " 'trump start farm crisis',\n",
              " 'techs answer security blockchain',\n",
              " 'intertwined tech services blunt boycotts',\n",
              " 'dog secret',\n",
              " 'george wallace tapped racial fear decades later force remains potent',\n",
              " 'world capital',\n",
              " 'hollywoods envoy schooled diplomacy muppets',\n",
              " 'turk complicated',\n",
              " 'intellectual caught furor',\n",
              " 'gun control fall elections moment movement',\n",
              " 'political power backfired kushners',\n",
              " '1 1 5',\n",
              " 'spiro agnew father todays gop',\n",
              " 'fear disdain grip trumps epa',\n",
              " 'javanka vs klossy posse',\n",
              " 'god men jordan peterson',\n",
              " 'rise gods spokeswomen',\n",
              " 'years claims harassment justice dept',\n",
              " 'variety acrostic',\n",
              " 'saving fussy eater europe help 50000 rabbits',\n",
              " 'friday night music saturday lone bellow',\n",
              " 'extortion price freedom',\n",
              " 'church leaders propelled civil rights movement theyre looking rekindle dr kings activist spirit',\n",
              " 'outrage kevin williamson',\n",
              " 'pale smoke',\n",
              " 'beware former trumpers',\n",
              " 'todays teenagers smarter better think',\n",
              " 'bologna blamed vast listeria outbreak',\n",
              " '8 bullets struck sacramento man faced away',\n",
              " 'simple cake helped create legend',\n",
              " '22 female senators say enough',\n",
              " 'hallowed thy teams',\n",
              " 'americans government wont count',\n",
              " 'lambs shanks sweetly spiced spring',\n",
              " 'orlando gunmans wife acquitted shootings',\n",
              " 'end south vietnam',\n",
              " 'rupauls drag race season 10 episode 2 conflama abuse',\n",
              " 'guitars gently weep',\n",
              " 'selfdriving car industrys biggest turning point yet',\n",
              " 'student loan fix catches',\n",
              " 'confrontations gaza fence leave 15 dead',\n",
              " 'megamansions megaproblems',\n",
              " 'story hour army base',\n",
              " 'reflections journalism',\n",
              " 'actually fix stupid',\n",
              " 'memphis gave dr kings dream',\n",
              " 'affirmative action reactionaries',\n",
              " 'trevor noah detects whiff cronyism va appointment',\n",
              " 'hurricanes ruin return puerto rico',\n",
              " 'contractor good fit',\n",
              " 'retirement doesnt quite work',\n",
              " 'broad spending bills stay long congressional dysfunction reigns',\n",
              " 'pitting girls girls new tune',\n",
              " 'anatomy los angeles police shooting black teenager missing gun protests grief',\n",
              " 'get nature fix',\n",
              " 'silicon valley wary trump warms',\n",
              " 'good nights sleep needs help',\n",
              " 'innocents behind bars',\n",
              " 'prodigy redeemed',\n",
              " 'dr kings complex relationship camera',\n",
              " 'teaching activities right baseball loves long ball long',\n",
              " 'moviethemed vacation',\n",
              " 'greeces island despair',\n",
              " 'wont back till late',\n",
              " 'queen lear moments',\n",
              " 'tabloid mogul visited trump woo saudis',\n",
              " 'longtime trump whisperer packs leaving void white house',\n",
              " 'integration forever',\n",
              " 'network rediscovers trump country reboot roseanne',\n",
              " 'va shakeup gives rise new fears privatized care',\n",
              " 'tesla need recharge series setbacks',\n",
              " 'vietnam war necessary',\n",
              " 'real policy reality tv',\n",
              " 'roseanne funny scary',\n",
              " 'ronny jacksons disturbing lack independence',\n",
              " 'praise trade deal trump suggests might delay',\n",
              " 'storm',\n",
              " 'coup veterans affairs',\n",
              " 'love george martha',\n",
              " 'us set blunt pollution rules automakers',\n",
              " 'heart hockey fans beware',\n",
              " 'gen x activism oral history',\n",
              " 'young streaming',\n",
              " 'frog species rebound',\n",
              " 'haunting southern exposure',\n",
              " 'quick online divorce 60 fast denmark says',\n",
              " 'crisis deepens kremlin bucks west',\n",
              " 'caribbean savor australian bounty',\n",
              " 'ideal opinion',\n",
              " 'white like',\n",
              " '68 die jail fire police attack bereaved',\n",
              " 'topics tech using column tackle next',\n",
              " 'eye russia britain edges toward dirty money crackdown',\n",
              " 'teaching grandfathers memory book',\n",
              " 'utah passes freerange parenting law',\n",
              " 'facebook loses luster tech stocks await fallout',\n",
              " 'britain labour party wrestles claims antisemitism',\n",
              " 'prevent racist hoodie',\n",
              " 'kitchen duo decades place',\n",
              " 'women stage sweating',\n",
              " 'americans season 6 episode 4 recap birth honey pot',\n",
              " 'many',\n",
              " 'bueller bueller satan',\n",
              " 'cynthia nixon gets mr cuomo play type',\n",
              " 'white power never disappeared',\n",
              " 'statues banished attitudes',\n",
              " 'fury germany rap duo antijewish lyrics gets award',\n",
              " 'farmers anger trump tariffs puts gop risk midterms',\n",
              " 'goldleaf presidency',\n",
              " 'macrons defense democracy',\n",
              " 'full metal jacket seduced generation sent us war',\n",
              " 'coat remember',\n",
              " 'quiet flight blast sudden plunge',\n",
              " 'former playboy model free discuss alleged affair',\n",
              " 'embrace bowie',\n",
              " 'scam amnt voters tax cut',\n",
              " 'safety brain injury parkinsons',\n",
              " 'parkland students broadways regards',\n",
              " 'love married beating cancer',\n",
              " 'cuba prepares generation castro',\n",
              " 'watch messes texas',\n",
              " 'puerto rico entire island loses power',\n",
              " 'cuomo plans help paroled felons regain vote',\n",
              " 'hero pilot navy veteran nerves steel',\n",
              " 'reader idea fon faiin fiim classroom game literary genre',\n",
              " 'fixing involuntary housewife visa',\n",
              " 'president warns could depart pyongyang talks',\n",
              " 'seoul confirms talks treaty end war',\n",
              " 'fishing stories via instagram',\n",
              " '27 million homes massachusetts idaho new mexico',\n",
              " 'many breeds doggie survey',\n",
              " 'japan fears sidelined trump moves trade north korea',\n",
              " 'made puzzle sam trabucco',\n",
              " 'modernism came along',\n",
              " 'want slash heart risks move',\n",
              " 'forrest trump presidency',\n",
              " 'mrs nononsense',\n",
              " 'james comey tells colbert trumps presidency ok',\n",
              " 'suburban feel urban touches',\n",
              " 'disrupter takes',\n",
              " 'hero worship',\n",
              " 'wouldnt lump patients jaw go away',\n",
              " 'inhaled mustard agent iraq navy denied purple heart',\n",
              " 'reinterpreted rule limits young immigrants',\n",
              " 'break phone',\n",
              " 'still standing planning next act',\n",
              " 'dirt save earth',\n",
              " 'baby mogul',\n",
              " 'musical piece would nominate pulitzer prize',\n",
              " 'jonathan van ness never tried hide',\n",
              " 'teaching activities “men treat us like arent human” indian girls learn fight back',\n",
              " 'army veteran confronts trauma camera',\n",
              " 'man desk',\n",
              " 'much covered song',\n",
              " 'director cia met leader north korea',\n",
              " 'outrage others everyday life',\n",
              " 'wheres tea party left',\n",
              " 'barbara bush first lady first mother dies 92',\n",
              " 'scott pruitt man little shame',\n",
              " 'celebration 70 years complete rancor bickering',\n",
              " 'old case',\n",
              " 'eat lower expectations nuts',\n",
              " 'nurse enters boston marathon fun finishes second',\n",
              " 'readers respond call help diagnosis',\n",
              " 'airplane engine explodes killing passenger midair',\n",
              " 'peace plan ages',\n",
              " 'hangover',\n",
              " 'diamonds lies',\n",
              " 'obtaining real personal data political firm explores virtual currency',\n",
              " 'starbucks close 8000 stores training',\n",
              " 'law deportation criminals struck',\n",
              " 'confused haley retorts trump aide',\n",
              " 'dawdling filers turn disgruntled irs website crashes final day',\n",
              " 'thats right 1 pulitzer',\n",
              " 'journalists fiery death muted hunt truth',\n",
              " 'calm amid storm',\n",
              " 'protesting artists step streets gallery',\n",
              " 'amateur sleuths bring missing grunt home',\n",
              " 'teaching activities holocaust fading memory survey finds',\n",
              " 'vegetables crash dessert menu',\n",
              " 'politician lawman try play hero lawman usually wins',\n",
              " 'introducing form 1040el emotional labor',\n",
              " 'china moves open carmakers abroad',\n",
              " 'frozen star needed chill',\n",
              " '14 death sentences 2 hours iraq shows mercy isis suspects',\n",
              " 'la paz empowerment also inspiring',\n",
              " 'metoo era means options women',\n",
              " 'group think',\n",
              " 'billiondollar blessings',\n",
              " 'dear match book black genre fiction',\n",
              " 'ok let aging relative believe mother still alive',\n",
              " 'bad evaluating risk doctors help',\n",
              " 'school need money',\n",
              " 'black cops sides badge',\n",
              " 'pashtuns defying pakistani army wonder far push',\n",
              " 'marathon',\n",
              " 'beginners guide taking great video phone',\n",
              " 'every letter',\n",
              " 'trump declines add sanctions russians',\n",
              " 'comeys star turn may spoil carefully cultivated image',\n",
              " 'earth wind liars',\n",
              " 'opening public lands oil gas home',\n",
              " 'chose child',\n",
              " 'lordy tape',\n",
              " 'sims statue central park moved',\n",
              " 'blindness social wealth',\n",
              " 'unspeakably miserable cant wait tell',\n",
              " 'saturday night 1978',\n",
              " 'james comeys debasement',\n",
              " 'us uk forewarn russian cyberthreat',\n",
              " 'gasps courtroom hannity named cohens secret client',\n",
              " 'times new yorker share prize abuse coverage',\n",
              " 'feral bully unleashes comic storm',\n",
              " 'inch inch operatic jewel polished',\n",
              " 'standing watch wary words',\n",
              " 'cousin martini alaska strikes gold',\n",
              " 'rubles renminbi trump',\n",
              " 'perus love affair potato',\n",
              " 'heck babas',\n",
              " 'pair breakthroughs slow slippery marathon',\n",
              " 'chemical weapons experts blocked site syria attack officials say',\n",
              " 'memorial war dead shows divide israel complicated past',\n",
              " 'season 1 finale babys fire',\n",
              " 'new lung cancer study shows power immune therapy',\n",
              " 'walking dead season 8 finale war want',\n",
              " 'trove seized gets first glimpse',\n",
              " 'guards waited support stop deadly prison riot',\n",
              " 'currency virtual hunger real',\n",
              " 'pros cons statin therapy',\n",
              " 'reading aloud young children benefits behavior attention',\n",
              " 'made',\n",
              " 'going church jimmy carter',\n",
              " 'give white people',\n",
              " 'whats going picture april 16 2018',\n",
              " 'medieval derby',\n",
              " 'terror plot idle talk kansas trial hinges answer',\n",
              " 'wired besties',\n",
              " 'wartime internment japanese looms travel ban case',\n",
              " 'leaky roofs broken laptops mobile classrooms snapshots public schools',\n",
              " 'would americans accept putting health care budget',\n",
              " 'secretary offense',\n",
              " 'photos gynecological tools centuries past',\n",
              " 'teaching activities british english conquering america vice versa',\n",
              " 'eat money graft enriches mandelas political heirs',\n",
              " 'catwalk saudi arabia',\n",
              " 'trust season 1 episode 4 recap business usual',\n",
              " 'billions season 3 episode 4 recap sealed kiss',\n",
              " 'notable moments abcs interview exfbi chief',\n",
              " 'tusks ivory stalking world',\n",
              " 'called sick apologized dying',\n",
              " 'trumps hometown new legal threat long arms',\n",
              " 'doctors fight drugresistant typhoid outbreak',\n",
              " 'turns baseball really brain science',\n",
              " 'monologues',\n",
              " 'teaching activities hundreds immigrant children taken parents us border',\n",
              " 'candidate wouldnt talk',\n",
              " 'beaches generosity abound los cabos',\n",
              " 'colleges first test pay',\n",
              " 'still fraying seams',\n",
              " 'us warplanes shift tactics target last isis pockets eastern syria',\n",
              " 'child killed empathy goes missing',\n",
              " 'brushing trump scandals christian right marshals forces midterms',\n",
              " 'report concludes misconduct systemic wnyc',\n",
              " 'polar bears hudson bay',\n",
              " 'longing baby trans partner',\n",
              " 'flattery got ronny jackson far',\n",
              " 'tammy duckworth working moms like mine',\n",
              " 'real life spf 100 sunscreens may work better spf 50',\n",
              " 'overdue thanks',\n",
              " 'another day marvels universe',\n",
              " 'locals bristle outsiders grab spaces',\n",
              " 'migrant caravan reaches us border journey isnt',\n",
              " 'trump macron presidential bromance',\n",
              " 'israels got refugee dilemma african dreamers',\n",
              " 'britain immigration crackdown breaks postwar promise',\n",
              " 'way recalls',\n",
              " 'suspect said kill officer put away gun',\n",
              " 'doubtful limits presidential power',\n",
              " 'judge tells us accept new daca applications breathing life program',\n",
              " 'democrats take numerical edge senate',\n",
              " 'republican wins race arizona stronghold buoying nervous party',\n",
              " 'panel tells ncaato end 1 done',\n",
              " 'furniturebuilding robots',\n",
              " 'teaching activities windmills wide jumbo jets making clean energy mainstream',\n",
              " 'conforming rebelling parents wishes',\n",
              " 'tracy k smiths wade water',\n",
              " 'im 73yearold cancer survivor accept kidney',\n",
              " 'workers tech use force',\n",
              " ...]"
            ]
          },
          "execution_count": 9,
          "metadata": {},
          "output_type": "execute_result"
        }
      ],
      "source": [
        "pre_headline = [pre_func(x) for x  in headline]\n",
        "pre_headline"
      ]
    },
    {
      "cell_type": "code",
      "execution_count": null,
      "metadata": {
        "id": "_GRLDBEabWfS"
      },
      "outputs": [],
      "source": [
        "# 토큰화"
      ]
    },
    {
      "cell_type": "code",
      "execution_count": null,
      "metadata": {
        "id": "wCVPBAEieJDi"
      },
      "outputs": [],
      "source": [
        "tok = Tokenizer()\n",
        "tok.fit_on_texts(pre_headline)"
      ]
    },
    {
      "cell_type": "code",
      "execution_count": null,
      "metadata": {
        "id": "b7w1Lhi0eJre"
      },
      "outputs": [],
      "source": [
        "vocab_size = len(tok.index_word)+1"
      ]
    },
    {
      "cell_type": "code",
      "execution_count": null,
      "metadata": {
        "id": "Kx3N_fJ0eamF"
      },
      "outputs": [],
      "source": [
        "tok.word_index # 자료구조 : dict, 빈도수 별로 나\n",
        "idx2word={}\n",
        "for k, v in tok.word_index.items():\n",
        "  idx2word[v] = k # key 와 value 의 위치 바꾸기"
      ]
    },
    {
      "cell_type": "code",
      "execution_count": null,
      "metadata": {
        "colab": {
          "base_uri": "https://localhost:8080/"
        },
        "id": "rLXhBOvLgnS8",
        "outputId": "44ca3817-48fc-4934-c545-813b3720d1c6"
      },
      "outputs": [
        {
          "data": {
            "text/plain": [
              "3390"
            ]
          },
          "execution_count": 14,
          "metadata": {},
          "output_type": "execute_result"
        }
      ],
      "source": [
        "len(tok.word_index)"
      ]
    },
    {
      "cell_type": "code",
      "execution_count": null,
      "metadata": {
        "colab": {
          "base_uri": "https://localhost:8080/"
        },
        "id": "3mDaZmmEfDjk",
        "outputId": "4c1854cc-4b7d-43d9-e862-80c97f4a7e89"
      },
      "outputs": [
        {
          "data": {
            "text/plain": [
              "[('nothin', 3390),\n",
              " ('regret', 3389),\n",
              " ('hayden', 3388),\n",
              " ('llama', 3387),\n",
              " ('anna', 3386),\n",
              " ('reinforces', 3385),\n",
              " ('question', 3384),\n",
              " ('classics', 3383),\n",
              " ('reimaginedjurassic', 3382),\n",
              " ('historyancient', 3381),\n",
              " ('steeped', 3380),\n",
              " ('naturenovels', 3379),\n",
              " ('rooted', 3378),\n",
              " ('historical', 3377),\n",
              " ('rootslush', 3376),\n",
              " ('sport', 3375),\n",
              " ('competitive', 3374),\n",
              " ('obstacles', 3373),\n",
              " ('depth', 3372),\n",
              " ('show', 3371),\n",
              " ('context', 3370),\n",
              " ('charges', 3369),\n",
              " ('faces', 3368),\n",
              " ('cardinal', 3367),\n",
              " ('blow', 3366),\n",
              " ('dealt', 3365),\n",
              " ('gig', 3364),\n",
              " ('revisits', 3363),\n",
              " ('retrial', 3362),\n",
              " ('silver', 3361),\n",
              " ('sheldon', 3360),\n",
              " ('researchers', 3359),\n",
              " ('limit', 3358),\n",
              " ('delaying', 3357),\n",
              " ('dividing', 3356),\n",
              " ('couple', 3355),\n",
              " ('investigation', 3354),\n",
              " ('app', 3353),\n",
              " ('tightens', 3352),\n",
              " ('megamerger', 3351),\n",
              " ('beauty', 3350),\n",
              " ('assumes', 3349),\n",
              " ('asylum', 3348),\n",
              " ('seek', 3347),\n",
              " ('eight', 3346),\n",
              " ('allow', 3345),\n",
              " ('eases', 3344),\n",
              " ('standoff', 3343),\n",
              " ('hows', 3342),\n",
              " ('q', 3341),\n",
              " ('steady', 3340),\n",
              " ('holds', 3339),\n",
              " ('investment', 3338),\n",
              " ('subterfuge', 3337),\n",
              " ('atomic', 3336),\n",
              " ('irans', 3335),\n",
              " ('documents', 3334),\n",
              " ('mexicos', 3333),\n",
              " ('militarys', 3332),\n",
              " ('highlight', 3331),\n",
              " ('disappearances', 3330),\n",
              " ('pays', 3329),\n",
              " ('philosophy', 3328),\n",
              " ('addict', 3327),\n",
              " ('fortnite', 3326),\n",
              " ('documenter', 3325),\n",
              " ('infinity', 3324),\n",
              " ('ending', 3323),\n",
              " ('gardens', 3322),\n",
              " ('crew', 3321),\n",
              " ('austin', 3320),\n",
              " ('distinctive', 3319),\n",
              " ('tokyo', 3318),\n",
              " ('wheelchair', 3317),\n",
              " ('ditch', 3316),\n",
              " ('demands', 3315),\n",
              " ('invade', 3314),\n",
              " ('pledges', 3313),\n",
              " ('cede', 3312),\n",
              " ('prepared', 3311),\n",
              " ('gamify', 3310),\n",
              " ('supports', 3309),\n",
              " ('frequently', 3308),\n",
              " ('orphan', 3307),\n",
              " ('jihadists', 3306),\n",
              " ('incels', 3305),\n",
              " ('marx', 3304),\n",
              " ('karl', 3303),\n",
              " ('happy', 3302),\n",
              " ('30', 3301),\n",
              " ('started', 3300),\n",
              " ('survived', 3299),\n",
              " ('tougher', 3298),\n",
              " ('teenage', 3297),\n",
              " ('risky', 3296),\n",
              " ('worried', 3295),\n",
              " ('llc', 3294),\n",
              " ('ownership', 3293),\n",
              " ('opaque', 3292),\n",
              " ('hate', 3291),\n",
              " ('emails', 3290),\n",
              " ('surround', 3289),\n",
              " ('rituals', 3288),\n",
              " ('photographing', 3287),\n",
              " ('fearing', 3286),\n",
              " ('2002', 3285),\n",
              " ('since', 3284),\n",
              " ('afghanistan', 3283),\n",
              " ('deadliest', 3282),\n",
              " ('minutes', 3281),\n",
              " ('jfk', 3280),\n",
              " ('flights', 3279),\n",
              " ('snowladen', 3278),\n",
              " ('focuses', 3277),\n",
              " ('eaten', 3276),\n",
              " ('judgment', 3275),\n",
              " ('passed', 3274),\n",
              " ('laws', 3273),\n",
              " ('uphill', 3272),\n",
              " ('always', 3271),\n",
              " ('libya', 3270),\n",
              " ('deterrents', 3269),\n",
              " ('disarmament', 3268),\n",
              " ('apu', 3267),\n",
              " ('facts', 3266),\n",
              " ('bans', 3265),\n",
              " ('transgender', 3264),\n",
              " ('sense', 3263),\n",
              " ('thing', 3262),\n",
              " ('living', 3261),\n",
              " ('gazan', 3260),\n",
              " ('tennessee', 3259),\n",
              " ('jones', 3258),\n",
              " ('doug', 3257),\n",
              " ('potatoes', 3256),\n",
              " ('underwear', 3255),\n",
              " ('proxy', 3254),\n",
              " ('2020', 3253),\n",
              " ('liberals', 3252),\n",
              " ('trueblue', 3251),\n",
              " ('lessons', 3250),\n",
              " ('draws', 3249),\n",
              " ('deadline', 3248),\n",
              " ('brace', 3247),\n",
              " ('reach', 3246),\n",
              " ('150', 3245),\n",
              " ('porgies', 3244),\n",
              " ('fluke', 3243),\n",
              " ('among', 3242),\n",
              " ('zee', 3241),\n",
              " ('tappan', 3240),\n",
              " ('merging', 3239),\n",
              " ('dinners', 3238),\n",
              " ('truce', 3237),\n",
              " ('pursuit', 3236),\n",
              " ('hed', 3235),\n",
              " ('misunabbreviated', 3234),\n",
              " ('intelligence', 3233),\n",
              " ('identity', 3232),\n",
              " ('extinction', 3231),\n",
              " ('rich', 3230),\n",
              " ('evans', 3229),\n",
              " ('alfie', 3228),\n",
              " ('laureate', 3227),\n",
              " ('nobel', 3226),\n",
              " ('cartoon', 3225),\n",
              " ('supporters', 3224),\n",
              " ('remaking', 3223),\n",
              " ('tide', 3222),\n",
              " ('populist', 3221),\n",
              " ('forcing', 3220),\n",
              " ('nike', 3219),\n",
              " ('serial', 3218),\n",
              " ('placed', 3217),\n",
              " ('clues', 3216),\n",
              " ('scoffs', 3215),\n",
              " ('chaplain', 3214),\n",
              " ('canned', 3213),\n",
              " ('yipes', 3212),\n",
              " ('bridge', 3211),\n",
              " ('sells', 3210),\n",
              " ('mayor', 3209),\n",
              " ('bootlegger', 3208),\n",
              " ('tracking', 3207),\n",
              " ('task', 3206),\n",
              " ('daunting', 3205),\n",
              " ('nicaraguan', 3204),\n",
              " ('youtoo', 3203),\n",
              " ('bosss', 3202),\n",
              " ('popcorn', 3201),\n",
              " ('sprint', 3200),\n",
              " ('tmobile', 3199),\n",
              " ('merger', 3198),\n",
              " ('burrata', 3197),\n",
              " ('topped', 3196),\n",
              " ('frittata', 3195),\n",
              " ('deluxe', 3194),\n",
              " ('preview', 3193),\n",
              " ('bloody', 3192),\n",
              " ('happening', 3191),\n",
              " ('stirfry', 3190),\n",
              " ('bright', 3189),\n",
              " ('fresh', 3188),\n",
              " ('financial', 3187),\n",
              " ('verdict', 3186),\n",
              " ('debates', 3185),\n",
              " ('certain', 3184),\n",
              " ('winner', 3183),\n",
              " ('surefire', 3182),\n",
              " ('clinton', 3181),\n",
              " ('lawyer', 3180),\n",
              " ('disease', 3179),\n",
              " ('biden', 3178),\n",
              " ('build', 3177),\n",
              " ('owes', 3176),\n",
              " ('alkaline', 3175),\n",
              " ('dollhouse', 3174),\n",
              " ('outside', 3173),\n",
              " ('stepping', 3172),\n",
              " ('hart', 3171),\n",
              " ('cliff', 3170),\n",
              " ('driving', 3169),\n",
              " ('blip', 3168),\n",
              " ('growth', 3167),\n",
              " ('slowed', 3166),\n",
              " ('coop', 3165),\n",
              " ('diary', 3164),\n",
              " ('corporate', 3163),\n",
              " ('learned', 3162),\n",
              " ('airconditioning', 3161),\n",
              " ('members', 3160),\n",
              " ('gift', 3159),\n",
              " ('melania', 3158),\n",
              " ('jabs', 3157),\n",
              " ('banish', 3156),\n",
              " ('unite', 3155),\n",
              " ('square', 3154),\n",
              " ('theater', 3153),\n",
              " ('short', 3152),\n",
              " ('mona', 3151),\n",
              " ('comics', 3150),\n",
              " ('ends', 3149),\n",
              " ('clinging', 3148),\n",
              " ('barflies', 3147),\n",
              " ('killers', 3146),\n",
              " ('wrongdoing', 3145),\n",
              " ('poor', 3144),\n",
              " ('smarts', 3143),\n",
              " ('seeking', 3142),\n",
              " ('prosecutor', 3141),\n",
              " ('shares', 3140),\n",
              " ('verge', 3139),\n",
              " ('myth', 3138),\n",
              " ('modernday', 3137),\n",
              " ('offspring', 3136),\n",
              " ('overweight', 3135),\n",
              " ('caffeine', 3134),\n",
              " ('abby', 3133),\n",
              " ('terrorists', 3132),\n",
              " ('misogynists', 3131),\n",
              " ('searches', 3130),\n",
              " ('review', 3129),\n",
              " ('braindamaged', 3128),\n",
              " ('rift', 3127),\n",
              " ('comments', 3126),\n",
              " ('smiles', 3125),\n",
              " ('codes', 3124),\n",
              " ('webs', 3123),\n",
              " ('evolution', 3122),\n",
              " ('untangle', 3121),\n",
              " ('tries', 3120),\n",
              " ('tree', 3119),\n",
              " ('spider', 3118),\n",
              " ('ceiling', 3117),\n",
              " ('squash', 3116),\n",
              " ('games', 3115),\n",
              " ('australia', 3114),\n",
              " ('subs', 3113),\n",
              " ('italian', 3112),\n",
              " ('spare', 3111),\n",
              " ('diplomat', 3110),\n",
              " ('confirmed', 3109),\n",
              " ('hawk', 3108),\n",
              " ('unreserved', 3107),\n",
              " ('weights', 3106),\n",
              " ('heavy', 3105),\n",
              " ('tots', 3104),\n",
              " ('greenpeace', 3103),\n",
              " ('unlikely', 3102),\n",
              " ('siberia', 3101),\n",
              " ('rebellion', 3100),\n",
              " ('pop', 3099),\n",
              " ('front', 3098),\n",
              " ('genealogy', 3097),\n",
              " ('signal', 3096),\n",
              " ('nod', 3095),\n",
              " ('dumplings', 3094),\n",
              " ('fiano', 3093),\n",
              " ('lesson', 3092),\n",
              " ('sicily', 3091),\n",
              " ('carricantes', 3090),\n",
              " ('salty', 3089),\n",
              " ('savory', 3088),\n",
              " ('distances', 3087),\n",
              " ('mat', 3086),\n",
              " ('welcome', 3085),\n",
              " ('visit', 3084),\n",
              " ('merkel', 3083),\n",
              " ('linger', 3082),\n",
              " ('terraces', 3081),\n",
              " ('buyers', 3080),\n",
              " ('hid', 3079),\n",
              " ('isolated', 3078),\n",
              " ('daddy', 3077),\n",
              " ('mommy', 3076),\n",
              " ('names', 3075),\n",
              " ('reject', 3074),\n",
              " ('lgbt', 3073),\n",
              " ('41', 3072),\n",
              " ('different', 3071),\n",
              " ('uprising', 3070),\n",
              " ('revolution', 3069),\n",
              " ('chance', 3068),\n",
              " ('lifes', 3067),\n",
              " ('rematch', 3066),\n",
              " ('grudge', 3065),\n",
              " ('kid', 3064),\n",
              " ('karate', 3063),\n",
              " ('fed', 3062),\n",
              " ('surges', 3061),\n",
              " ('copenhagen', 3060),\n",
              " ('rates', 3059),\n",
              " ('inflation', 3058),\n",
              " ('low', 3057),\n",
              " ('classical', 3056),\n",
              " ('intimidated', 3055),\n",
              " ('artist', 3054),\n",
              " ('breakdancing', 3053),\n",
              " ('wwi', 3052),\n",
              " ('bochkareva', 3051),\n",
              " ('maria', 3050),\n",
              " ('location', 3049),\n",
              " ('answers', 3048),\n",
              " ('respect', 3047),\n",
              " ('sensible', 3046),\n",
              " ('sane', 3045),\n",
              " ('martyr', 3044),\n",
              " ('weenie', 3043),\n",
              " ('mitt', 3042),\n",
              " ('intrigue', 3041),\n",
              " ('israelipalestinian', 3040),\n",
              " ('malaysia', 3039),\n",
              " ('cruelly', 3038),\n",
              " ('mink', 3037),\n",
              " ('motherinlaws', 3036),\n",
              " ('episodes', 3035),\n",
              " ('handmaids', 3034),\n",
              " ('sheryls', 3033),\n",
              " ('marks', 3032),\n",
              " ('swindled', 3031),\n",
              " ('relief', 3030),\n",
              " ('dental', 3029),\n",
              " ('opioids', 3028),\n",
              " ('relievers', 3027),\n",
              " ('citizens', 3026),\n",
              " ('dignity', 3025),\n",
              " ('deny', 3024),\n",
              " ('hurdle', 3023),\n",
              " ('hormone', 3022),\n",
              " ('tracks', 3021),\n",
              " ('policies', 3020),\n",
              " ('critiques', 3019),\n",
              " ('french', 3018),\n",
              " ('kisses', 3017),\n",
              " ('higher', 3016),\n",
              " ('hello', 3015),\n",
              " ('inheritance', 3014),\n",
              " ('disappearing', 3013),\n",
              " ('rapidly', 3012),\n",
              " ('audio', 3011),\n",
              " ('candid', 3010),\n",
              " ('souths', 3009),\n",
              " ('adults', 3008),\n",
              " ('theres', 3007),\n",
              " ('jokes', 3006),\n",
              " ('trusting', 3005),\n",
              " ('seems', 3004),\n",
              " ('lucia', 3003),\n",
              " ('hunting', 3002),\n",
              " ('georgia', 3001),\n",
              " ('25', 3000),\n",
              " ('gruesome', 2999),\n",
              " ('inventor', 2998),\n",
              " ('danish', 2997),\n",
              " ('courses', 2996),\n",
              " ('selfcare', 2995),\n",
              " ('diabetes', 2994),\n",
              " ('system', 2993),\n",
              " ('affects', 2992),\n",
              " ('strenuous', 2991),\n",
              " ('mornings', 2990),\n",
              " ('woman', 2989),\n",
              " ('stressed', 2988),\n",
              " ('strong', 2987),\n",
              " ('liberalisms', 2986),\n",
              " ('giving', 2985),\n",
              " ('provoked', 2984),\n",
              " ('ticket', 2983),\n",
              " ('buy', 2982),\n",
              " ('shadow', 2981),\n",
              " ('lynchings', 2980),\n",
              " ('pr0bl3m', 2979),\n",
              " ('exp3r13nc3', 2978),\n",
              " ('kidney', 2977),\n",
              " ('survivor', 2976),\n",
              " ('73yearold', 2975),\n",
              " ('wade', 2974),\n",
              " ('smiths', 2973),\n",
              " ('k', 2972),\n",
              " ('tracy', 2971),\n",
              " ('wishes', 2970),\n",
              " ('rebelling', 2969),\n",
              " ('conforming', 2968),\n",
              " ('clean', 2967),\n",
              " ('jets', 2966),\n",
              " ('jumbo', 2965),\n",
              " ('wide', 2964),\n",
              " ('windmills', 2963),\n",
              " ('furniturebuilding', 2962),\n",
              " ('done', 2961),\n",
              " ('ncaato', 2960),\n",
              " ('nervous', 2959),\n",
              " ('buoying', 2958),\n",
              " ('stronghold', 2957),\n",
              " ('numerical', 2956),\n",
              " ('take', 2955),\n",
              " ('program', 2954),\n",
              " ('breathing', 2953),\n",
              " ('applications', 2952),\n",
              " ('daca', 2951),\n",
              " ('doubtful', 2950),\n",
              " ('suspect', 2949),\n",
              " ('recalls', 2948),\n",
              " ('postwar', 2947),\n",
              " ('breaks', 2946),\n",
              " ('refugee', 2945),\n",
              " ('israels', 2944),\n",
              " ('bromance', 2943),\n",
              " ('macron', 2942),\n",
              " ('isnt', 2941),\n",
              " ('journey', 2940),\n",
              " ('reaches', 2939),\n",
              " ('caravan', 2938),\n",
              " ('migrant', 2937),\n",
              " ('spaces', 2936),\n",
              " ('grab', 2935),\n",
              " ('bristle', 2934),\n",
              " ('marvels', 2933),\n",
              " ('thanks', 2932),\n",
              " ('sunscreens', 2931),\n",
              " ('mine', 2930),\n",
              " ('moms', 2929),\n",
              " ('duckworth', 2928),\n",
              " ('tammy', 2927),\n",
              " ('jackson', 2926),\n",
              " ('flattery', 2925),\n",
              " ('trans', 2924),\n",
              " ('longing', 2923),\n",
              " ('bay', 2922),\n",
              " ('hudson', 2921),\n",
              " ('wnyc', 2920),\n",
              " ('systemic', 2919),\n",
              " ('concludes', 2918),\n",
              " ('marshals', 2917),\n",
              " ('christian', 2916),\n",
              " ('scandals', 2915),\n",
              " ('brushing', 2914),\n",
              " ('goes', 2913),\n",
              " ('empathy', 2912),\n",
              " ('killed', 2911),\n",
              " ('eastern', 2910),\n",
              " ('pockets', 2909),\n",
              " ('tactics', 2908),\n",
              " ('warplanes', 2907),\n",
              " ('seams', 2906),\n",
              " ('fraying', 2905),\n",
              " ('colleges', 2904),\n",
              " ('cabos', 2903),\n",
              " ('abound', 2902),\n",
              " ('generosity', 2901),\n",
              " ('beaches', 2900),\n",
              " ('taken', 2899),\n",
              " ('hundreds', 2898),\n",
              " ('monologues', 2897),\n",
              " ('typhoid', 2896),\n",
              " ('drugresistant', 2895),\n",
              " ('arms', 2894),\n",
              " ('hometown', 2893),\n",
              " ('apologized', 2892),\n",
              " ('stalking', 2891),\n",
              " ('ivory', 2890),\n",
              " ('tusks', 2889),\n",
              " ('abcs', 2888),\n",
              " ('notable', 2887),\n",
              " ('kiss', 2886),\n",
              " ('sealed', 2885),\n",
              " ('arabia', 2884),\n",
              " ('catwalk', 2883),\n",
              " ('heirs', 2882),\n",
              " ('mandelas', 2881),\n",
              " ('enriches', 2880),\n",
              " ('versa', 2879),\n",
              " ('vice', 2878),\n",
              " ('english', 2877),\n",
              " ('centuries', 2876),\n",
              " ('tools', 2875),\n",
              " ('gynecological', 2874),\n",
              " ('photos', 2873),\n",
              " ('offense', 2872),\n",
              " ('secretary', 2871),\n",
              " ('budget', 2870),\n",
              " ('putting', 2869),\n",
              " ('snapshots', 2868),\n",
              " ('classrooms', 2867),\n",
              " ('mobile', 2866),\n",
              " ('laptops', 2865),\n",
              " ('roofs', 2864),\n",
              " ('leaky', 2863),\n",
              " ('looms', 2862),\n",
              " ('internment', 2861),\n",
              " ('wartime', 2860),\n",
              " ('besties', 2859),\n",
              " ('wired', 2858),\n",
              " ('hinges', 2857),\n",
              " ('kansas', 2856),\n",
              " ('idle', 2855),\n",
              " ('derby', 2854),\n",
              " ('medieval', 2853),\n",
              " ('16', 2852),\n",
              " ('attention', 2851),\n",
              " ('benefits', 2850),\n",
              " ('aloud', 2849),\n",
              " ('statin', 2848),\n",
              " ('cons', 2847),\n",
              " ('pros', 2846),\n",
              " ('hunger', 2845),\n",
              " ('riot', 2844),\n",
              " ('deadly', 2843),\n",
              " ('waited', 2842),\n",
              " ('guards', 2841),\n",
              " ('glimpse', 2840),\n",
              " ('trove', 2839),\n",
              " ('study', 2838),\n",
              " ('lung', 2837),\n",
              " ('babys', 2836),\n",
              " ('divide', 2835),\n",
              " ('memorial', 2834),\n",
              " ('blocked', 2833),\n",
              " ('breakthroughs', 2832),\n",
              " ('pair', 2831),\n",
              " ('babas', 2830),\n",
              " ('potato', 2829),\n",
              " ('perus', 2828),\n",
              " ('renminbi', 2827),\n",
              " ('rubles', 2826),\n",
              " ('gold', 2825),\n",
              " ('martini', 2824),\n",
              " ('cousin', 2823),\n",
              " ('polished', 2822),\n",
              " ('jewel', 2821),\n",
              " ('operatic', 2820),\n",
              " ('comic', 2819),\n",
              " ('unleashes', 2818),\n",
              " ('bully', 2817),\n",
              " ('feral', 2816),\n",
              " ('coverage', 2815),\n",
              " ('yorker', 2814),\n",
              " ('cohens', 2813),\n",
              " ('named', 2812),\n",
              " ('hannity', 2811),\n",
              " ('courtroom', 2810),\n",
              " ('gasps', 2809),\n",
              " ('cyberthreat', 2808),\n",
              " ('forewarn', 2807),\n",
              " ('debasement', 2806),\n",
              " ('1978', 2805),\n",
              " ('tell', 2804),\n",
              " ('miserable', 2803),\n",
              " ('unspeakably', 2802),\n",
              " ('wealth', 2801),\n",
              " ('blindness', 2800),\n",
              " ('moved', 2799),\n",
              " ('park', 2798),\n",
              " ('central', 2797),\n",
              " ('statue', 2796),\n",
              " ('sims', 2795),\n",
              " ('lordy', 2794),\n",
              " ('gas', 2793),\n",
              " ('lands', 2792),\n",
              " ('opening', 2791),\n",
              " ('liars', 2790),\n",
              " ('wind', 2789),\n",
              " ('image', 2788),\n",
              " ('cultivated', 2787),\n",
              " ('carefully', 2786),\n",
              " ('russians', 2785),\n",
              " ('add', 2784),\n",
              " ('declines', 2783),\n",
              " ('beginners', 2782),\n",
              " ('wonder', 2781),\n",
              " ('pakistani', 2780),\n",
              " ('pashtuns', 2779),\n",
              " ('badge', 2778),\n",
              " ('sides', 2777),\n",
              " ('cops', 2776),\n",
              " ('evaluating', 2775),\n",
              " ('relative', 2774),\n",
              " ('blessings', 2773),\n",
              " ('billiondollar', 2772),\n",
              " ('group', 2771),\n",
              " ('inspiring', 2770),\n",
              " ('also', 2769),\n",
              " ('empowerment', 2768),\n",
              " ('paz', 2767),\n",
              " ('la', 2766),\n",
              " ('sentences', 2765),\n",
              " ('chill', 2764),\n",
              " ('needed', 2763),\n",
              " ('frozen', 2762),\n",
              " ('carmakers', 2761),\n",
              " ('emotional', 2760),\n",
              " ('1040el', 2759),\n",
              " ('form', 2758),\n",
              " ('introducing', 2757),\n",
              " ('usually', 2756),\n",
              " ('politician', 2755),\n",
              " ('menu', 2754),\n",
              " ('dessert', 2753),\n",
              " ('vegetables', 2752),\n",
              " ('fading', 2751),\n",
              " ('holocaust', 2750),\n",
              " ('grunt', 2749),\n",
              " ('bring', 2748),\n",
              " ('sleuths', 2747),\n",
              " ('amateur', 2746),\n",
              " ('protesting', 2745),\n",
              " ('amid', 2744),\n",
              " ('calm', 2743),\n",
              " ('hunt', 2742),\n",
              " ('muted', 2741),\n",
              " ('final', 2740),\n",
              " ('website', 2739),\n",
              " ('irs', 2738),\n",
              " ('disgruntled', 2737),\n",
              " ('filers', 2736),\n",
              " ('dawdling', 2735),\n",
              " ('retorts', 2734),\n",
              " ('haley', 2733),\n",
              " ('confused', 2732),\n",
              " ('criminals', 2731),\n",
              " ('stores', 2730),\n",
              " ('8000', 2729),\n",
              " ('explores', 2728),\n",
              " ('firm', 2727),\n",
              " ('personal', 2726),\n",
              " ('obtaining', 2725),\n",
              " ('diamonds', 2724),\n",
              " ('hangover', 2723),\n",
              " ('ages', 2722),\n",
              " ('midair', 2721),\n",
              " ('passenger', 2720),\n",
              " ('explodes', 2719),\n",
              " ('engine', 2718),\n",
              " ('airplane', 2717),\n",
              " ('diagnosis', 2716),\n",
              " ('respond', 2715),\n",
              " ('finishes', 2714),\n",
              " ('fun', 2713),\n",
              " ('boston', 2712),\n",
              " ('nurse', 2711),\n",
              " ('nuts', 2710),\n",
              " ('expectations', 2709),\n",
              " ('bickering', 2708),\n",
              " ('rancor', 2707),\n",
              " ('complete', 2706),\n",
              " ('celebration', 2705),\n",
              " ('92', 2704),\n",
              " ('lady', 2703),\n",
              " ('wheres', 2702),\n",
              " ('everyday', 2701),\n",
              " ('covered', 2700),\n",
              " ('desk', 2699),\n",
              " ('confronts', 2698),\n",
              " ('learn', 2697),\n",
              " ('human”', 2696),\n",
              " ('“men', 2695),\n",
              " ('hide', 2694),\n",
              " ('tried', 2693),\n",
              " ('ness', 2692),\n",
              " ('jonathan', 2691),\n",
              " ('nominate', 2690),\n",
              " ('piece', 2689),\n",
              " ('musical', 2688),\n",
              " ('planning', 2687),\n",
              " ('break', 2686),\n",
              " ('reinterpreted', 2685),\n",
              " ('purple', 2684),\n",
              " ('denied', 2683),\n",
              " ('mustard', 2682),\n",
              " ('inhaled', 2681),\n",
              " ('jaw', 2680),\n",
              " ('patients', 2679),\n",
              " ('lump', 2678),\n",
              " ('disrupter', 2677),\n",
              " ('touches', 2676),\n",
              " ('urban', 2675),\n",
              " ('suburban', 2674),\n",
              " ('nononsense', 2673),\n",
              " ('mrs', 2672),\n",
              " ('forrest', 2671),\n",
              " ('slash', 2670),\n",
              " ('came', 2669),\n",
              " ('modernism', 2668),\n",
              " ('trabucco', 2667),\n",
              " ('sam', 2666),\n",
              " ('sidelined', 2665),\n",
              " ('japan', 2664),\n",
              " ('doggie', 2663),\n",
              " ('breeds', 2662),\n",
              " ('idaho', 2661),\n",
              " ('massachusetts', 2660),\n",
              " ('27', 2659),\n",
              " ('via', 2658),\n",
              " ('fishing', 2657),\n",
              " ('treaty', 2656),\n",
              " ('confirms', 2655),\n",
              " ('seoul', 2654),\n",
              " ('pyongyang', 2653),\n",
              " ('depart', 2652),\n",
              " ('visa', 2651),\n",
              " ('housewife', 2650),\n",
              " ('involuntary', 2649),\n",
              " ('fixing', 2648),\n",
              " ('literary', 2647),\n",
              " ('classroom', 2646),\n",
              " ('fiim', 2645),\n",
              " ('faiin', 2644),\n",
              " ('fon', 2643),\n",
              " ('idea', 2642),\n",
              " ('reader', 2641),\n",
              " ('vote', 2640),\n",
              " ('regain', 2639),\n",
              " ('felons', 2638),\n",
              " ('paroled', 2637),\n",
              " ('entire', 2636),\n",
              " ('messes', 2635),\n",
              " ('castro', 2634),\n",
              " ('prepares', 2633),\n",
              " ('cuba', 2632),\n",
              " ('beating', 2631),\n",
              " ('married', 2630),\n",
              " ('regards', 2629),\n",
              " ('broadways', 2628),\n",
              " ('parkland', 2627),\n",
              " ('parkinsons', 2626),\n",
              " ('injury', 2625),\n",
              " ('amnt', 2624),\n",
              " ('scam', 2623),\n",
              " ('bowie', 2622),\n",
              " ('alleged', 2621),\n",
              " ('discuss', 2620),\n",
              " ('model', 2619),\n",
              " ('playboy', 2618),\n",
              " ('plunge', 2617),\n",
              " ('sudden', 2616),\n",
              " ('coat', 2615),\n",
              " ('seduced', 2614),\n",
              " ('metal', 2613),\n",
              " ('full', 2612),\n",
              " ('goldleaf', 2611),\n",
              " ('anger', 2610),\n",
              " ('farmers', 2609),\n",
              " ('award', 2608),\n",
              " ('lyrics', 2607),\n",
              " ('antijewish', 2606),\n",
              " ('rap', 2605),\n",
              " ('germany', 2604),\n",
              " ('fury', 2603),\n",
              " ('attitudes', 2602),\n",
              " ('banished', 2601),\n",
              " ('statues', 2600),\n",
              " ('disappeared', 2599),\n",
              " ('type', 2598),\n",
              " ('satan', 2597),\n",
              " ('pot', 2596),\n",
              " ('honey', 2595),\n",
              " ('birth', 2594),\n",
              " ('sweating', 2593),\n",
              " ('stage', 2592),\n",
              " ('hoodie', 2591),\n",
              " ('prevent', 2590),\n",
              " ('antisemitism', 2589),\n",
              " ('wrestles', 2588),\n",
              " ('labour', 2587),\n",
              " ('await', 2586),\n",
              " ('luster', 2585),\n",
              " ('freerange', 2584),\n",
              " ('passes', 2583),\n",
              " ('grandfathers', 2582),\n",
              " ('dirty', 2581),\n",
              " ('toward', 2580),\n",
              " ('tackle', 2579),\n",
              " ('column', 2578),\n",
              " ('using', 2577),\n",
              " ('topics', 2576),\n",
              " ('bereaved', 2575),\n",
              " ('68', 2574),\n",
              " ('opinion', 2573),\n",
              " ('ideal', 2572),\n",
              " ('bounty', 2571),\n",
              " ('australian', 2570),\n",
              " ('savor', 2569),\n",
              " ('caribbean', 2568),\n",
              " ('deepens', 2567),\n",
              " ('denmark', 2566),\n",
              " ('60', 2565),\n",
              " ('divorce', 2564),\n",
              " ('quick', 2563),\n",
              " ('exposure', 2562),\n",
              " ('southern', 2561),\n",
              " ('rebound', 2560),\n",
              " ('frog', 2559),\n",
              " ('streaming', 2558),\n",
              " ('oral', 2557),\n",
              " ('activism', 2556),\n",
              " ('x', 2555),\n",
              " ('automakers', 2554),\n",
              " ('martha', 2553),\n",
              " ('affairs', 2552),\n",
              " ('veterans', 2551),\n",
              " ('coup', 2550),\n",
              " ('delay', 2549),\n",
              " ('might', 2548),\n",
              " ('suggests', 2547),\n",
              " ('praise', 2546),\n",
              " ('independence', 2545),\n",
              " ('disturbing', 2544),\n",
              " ('jacksons', 2543),\n",
              " ('scary', 2542),\n",
              " ('setbacks', 2541),\n",
              " ('series', 2540),\n",
              " ('recharge', 2539),\n",
              " ('tesla', 2538),\n",
              " ('privatized', 2537),\n",
              " ('shakeup', 2536),\n",
              " ('reboot', 2535),\n",
              " ('rediscovers', 2534),\n",
              " ('network', 2533),\n",
              " ('forever', 2532),\n",
              " ('integration', 2531),\n",
              " ('void', 2530),\n",
              " ('leaving', 2529),\n",
              " ('packs', 2528),\n",
              " ('whisperer', 2527),\n",
              " ('longtime', 2526),\n",
              " ('saudis', 2525),\n",
              " ('woo', 2524),\n",
              " ('visited', 2523),\n",
              " ('lear', 2522),\n",
              " ('till', 2521),\n",
              " ('despair', 2520),\n",
              " ('greeces', 2519),\n",
              " ('vacation', 2518),\n",
              " ('moviethemed', 2517),\n",
              " ('loves', 2516),\n",
              " ('relationship', 2515),\n",
              " ('complex', 2514),\n",
              " ('redeemed', 2513),\n",
              " ('prodigy', 2512),\n",
              " ('innocents', 2511),\n",
              " ('sleep', 2510),\n",
              " ('warms', 2509),\n",
              " ('grief', 2508),\n",
              " ('teenager', 2507),\n",
              " ('angeles', 2506),\n",
              " ('anatomy', 2505),\n",
              " ('pitting', 2504),\n",
              " ('reigns', 2503),\n",
              " ('dysfunction', 2502),\n",
              " ('congressional', 2501),\n",
              " ('stay', 2500),\n",
              " ('bills', 2499),\n",
              " ('broad', 2498),\n",
              " ('retirement', 2497),\n",
              " ('contractor', 2496),\n",
              " ('return', 2495),\n",
              " ('ruin', 2494),\n",
              " ('hurricanes', 2493),\n",
              " ('appointment', 2492),\n",
              " ('cronyism', 2491),\n",
              " ('whiff', 2490),\n",
              " ('detects', 2489),\n",
              " ('reactionaries', 2488),\n",
              " ('affirmative', 2487),\n",
              " ('memphis', 2486),\n",
              " ('stupid', 2485),\n",
              " ('reflections', 2484),\n",
              " ('base', 2483),\n",
              " ('hour', 2482),\n",
              " ('story', 2481),\n",
              " ('megaproblems', 2480),\n",
              " ('megamansions', 2479),\n",
              " ('confrontations', 2478),\n",
              " ('biggest', 2477),\n",
              " ('industrys', 2476),\n",
              " ('selfdriving', 2475),\n",
              " ('weep', 2474),\n",
              " ('gently', 2473),\n",
              " ('guitars', 2472),\n",
              " ('conflama', 2471),\n",
              " ('shootings', 2470),\n",
              " ('acquitted', 2469),\n",
              " ('wife', 2468),\n",
              " ('gunmans', 2467),\n",
              " ('orlando', 2466),\n",
              " ('spiced', 2465),\n",
              " ('sweetly', 2464),\n",
              " ('shanks', 2463),\n",
              " ('lambs', 2462),\n",
              " ('government', 2461),\n",
              " ('thy', 2460),\n",
              " ('hallowed', 2459),\n",
              " ('enough', 2458),\n",
              " ('senators', 2457),\n",
              " ('female', 2456),\n",
              " ('22', 2455),\n",
              " ('legend', 2454),\n",
              " ('create', 2453),\n",
              " ('helped', 2452),\n",
              " ('cake', 2451),\n",
              " ('faced', 2450),\n",
              " ('sacramento', 2449),\n",
              " ('bullets', 2448),\n",
              " ('listeria', 2447),\n",
              " ('vast', 2446),\n",
              " ('blamed', 2445),\n",
              " ('bologna', 2444),\n",
              " ('smarter', 2443),\n",
              " ('trumpers', 2442),\n",
              " ('smoke', 2441),\n",
              " ('pale', 2440),\n",
              " ('williamson', 2439),\n",
              " ('kevin', 2438),\n",
              " ('spirit', 2437),\n",
              " ('activist', 2436),\n",
              " ('rekindle', 2435),\n",
              " ('theyre', 2434),\n",
              " ('propelled', 2433),\n",
              " ('freedom', 2432),\n",
              " ('price', 2431),\n",
              " ('extortion', 2430),\n",
              " ('bellow', 2429),\n",
              " ('rabbits', 2428),\n",
              " ('50000', 2427),\n",
              " ('eater', 2426),\n",
              " ('fussy', 2425),\n",
              " ('harassment', 2424),\n",
              " ('spokeswomen', 2423),\n",
              " ('gods', 2422),\n",
              " ('peterson', 2421),\n",
              " ('jordan', 2420),\n",
              " ('posse', 2419),\n",
              " ('klossy', 2418),\n",
              " ('javanka', 2417),\n",
              " ('disdain', 2416),\n",
              " ('father', 2415),\n",
              " ('agnew', 2414),\n",
              " ('spiro', 2413),\n",
              " ('kushners', 2412),\n",
              " ('backfired', 2411),\n",
              " ('moment', 2410),\n",
              " ('caught', 2409),\n",
              " ('turk', 2408),\n",
              " ('muppets', 2407),\n",
              " ('diplomacy', 2406),\n",
              " ('schooled', 2405),\n",
              " ('envoy', 2404),\n",
              " ('hollywoods', 2403),\n",
              " ('capital', 2402),\n",
              " ('potent', 2401),\n",
              " ('racial', 2400),\n",
              " ('tapped', 2399),\n",
              " ('wallace', 2398),\n",
              " ('boycotts', 2397),\n",
              " ('services', 2396),\n",
              " ('intertwined', 2395),\n",
              " ('blockchain', 2394),\n",
              " ('techs', 2393),\n",
              " ('farm', 2392),\n",
              " ('highlevel', 2391),\n",
              " ...]"
            ]
          },
          "execution_count": 15,
          "metadata": {},
          "output_type": "execute_result"
        }
      ],
      "source": [
        "vs = sorted(tok.word_index.items(), key = lambda x : x[1], reverse=True)\n",
        "vs"
      ]
    },
    {
      "cell_type": "code",
      "execution_count": null,
      "metadata": {
        "id": "9aFE-DB3eMW6"
      },
      "outputs": [],
      "source": [
        "# 인코딩(정수 변환)\n",
        "sequences=[]\n",
        "for s in pre_headline:\n",
        "    enc=tok.texts_to_sequences([s])[0]  #사전에 [s]에 저장된 단어가 있는지 확인 후 각 문장별 인코딩# [0]) : 바깥쪽 대괄호를 없애주려고\n",
        "    for i in range(1, len(enc)):\n",
        "      seq=enc[:i+1]\n",
        "      sequences.append(seq)"
      ]
    },
    {
      "cell_type": "code",
      "execution_count": null,
      "metadata": {
        "colab": {
          "base_uri": "https://localhost:8080/"
        },
        "id": "J1otLGsfeZmJ",
        "outputId": "bf8a17db-2517-48e5-d0d3-285a9441595c"
      },
      "outputs": [
        {
          "data": {
            "text/plain": [
              "[[39, 193],\n",
              " [39, 193, 293],\n",
              " [39, 193, 293, 1021],\n",
              " [39, 193, 293, 1021, 499],\n",
              " [39, 193, 293, 1021, 499, 12],\n",
              " [39, 193, 293, 1021, 499, 12, 294],\n",
              " [39, 193, 293, 1021, 499, 12, 294, 1022],\n",
              " [40, 1023],\n",
              " [40, 1023, 2],\n",
              " [40, 1023, 2, 500],\n",
              " [40, 1023, 2, 500, 1024],\n",
              " [40, 1023, 2, 500, 1024, 295],\n",
              " [40, 1023, 2, 500, 1024, 295, 296],\n",
              " [40, 1023, 2, 500, 1024, 295, 296, 1025],\n",
              " [2, 1026]]"
            ]
          },
          "execution_count": 17,
          "metadata": {},
          "output_type": "execute_result"
        }
      ],
      "source": [
        "sequences[:15]"
      ]
    },
    {
      "cell_type": "code",
      "execution_count": null,
      "metadata": {
        "id": "ERyq0jjwhJk9"
      },
      "outputs": [],
      "source": [
        "# sequences.shape"
      ]
    },
    {
      "cell_type": "code",
      "execution_count": null,
      "metadata": {
        "colab": {
          "base_uri": "https://localhost:8080/"
        },
        "id": "xFpCxyH4fTGv",
        "outputId": "4959e0ee-d973-4ccb-e587-391a812113d4"
      },
      "outputs": [
        {
          "name": "stdout",
          "output_type": "stream",
          "text": [
            "18\n"
          ]
        }
      ],
      "source": [
        "# 패딩\n",
        "# 가장 길이가 긴 문장 찾기\n",
        "sequences\n",
        "ml = max(len(i)for i in sequences)\n",
        "print(ml) # 24단어 문장이 가장 길다."
      ]
    },
    {
      "cell_type": "code",
      "execution_count": null,
      "metadata": {
        "colab": {
          "base_uri": "https://localhost:8080/"
        },
        "id": "00a1mGJ-gqxW",
        "outputId": "10433ec0-143f-4908-d74d-1b682bbbb71f"
      },
      "outputs": [
        {
          "data": {
            "text/plain": [
              "array([  0,   0,   0,   0,   0,   0,   0,   0,   0,   0,   0,   0,   0,\n",
              "         0,   0,  39, 193, 293], dtype=int32)"
            ]
          },
          "execution_count": 20,
          "metadata": {},
          "output_type": "execute_result"
        }
      ],
      "source": [
        "sequences = pad_sequences(sequences, maxlen= ml ,padding = 'pre')\n",
        "sequences[1]"
      ]
    },
    {
      "cell_type": "code",
      "execution_count": null,
      "metadata": {
        "colab": {
          "base_uri": "https://localhost:8080/"
        },
        "id": "OhFmkx_rhAWr",
        "outputId": "5c9872ef-deb7-4e63-9712-3d84d066d354"
      },
      "outputs": [
        {
          "data": {
            "text/plain": [
              "(4834, 18)"
            ]
          },
          "execution_count": 21,
          "metadata": {},
          "output_type": "execute_result"
        }
      ],
      "source": [
        "sequences.shape"
      ]
    },
    {
      "cell_type": "code",
      "execution_count": null,
      "metadata": {
        "id": "AKj6r-WkgttC"
      },
      "outputs": [],
      "source": [
        "sequences=np.array(sequences)\n",
        "x=sequences[:,:-1]\n",
        "y=sequences[:,-1]"
      ]
    },
    {
      "cell_type": "code",
      "execution_count": null,
      "metadata": {
        "id": "6kHWiWJAhCoT"
      },
      "outputs": [],
      "source": [
        "# y 원핫인코딩\n",
        "y = to_categorical(y,vocab_size)"
      ]
    },
    {
      "cell_type": "code",
      "execution_count": null,
      "metadata": {
        "colab": {
          "base_uri": "https://localhost:8080/"
        },
        "id": "0bVKc8ssjhCO",
        "outputId": "25c52580-3e80-4564-8de3-e76c41a1820f"
      },
      "outputs": [
        {
          "data": {
            "text/plain": [
              "(4834, 3391)"
            ]
          },
          "execution_count": 24,
          "metadata": {},
          "output_type": "execute_result"
        }
      ],
      "source": [
        "y.shape"
      ]
    },
    {
      "cell_type": "code",
      "execution_count": 42,
      "metadata": {
        "id": "zeYGoj_-hWLK"
      },
      "outputs": [],
      "source": [
        "# 예측모델\n",
        "model = Sequential()"
      ]
    },
    {
      "cell_type": "code",
      "execution_count": 43,
      "metadata": {
        "colab": {
          "base_uri": "https://localhost:8080/"
        },
        "id": "C1hub8inh5JW",
        "outputId": "d0ea6336-c02d-4647-b17f-4635e91d4499"
      },
      "outputs": [
        {
          "output_type": "stream",
          "name": "stdout",
          "text": [
            "Model: \"sequential_3\"\n",
            "_________________________________________________________________\n",
            " Layer (type)                Output Shape              Param #   \n",
            "=================================================================\n",
            " embedding_3 (Embedding)     (None, None, 15)          50865     \n",
            "                                                                 \n",
            " lstm_3 (LSTM)               (None, 300)               379200    \n",
            "                                                                 \n",
            " dense_3 (Dense)             (None, 3391)              1020691   \n",
            "                                                                 \n",
            "=================================================================\n",
            "Total params: 1,450,756\n",
            "Trainable params: 1,450,756\n",
            "Non-trainable params: 0\n",
            "_________________________________________________________________\n"
          ]
        }
      ],
      "source": [
        "# from tensorflow.keras.layers import Dense, Embedding, SimpleRNN, LSTM\n",
        "# vocab_size\n",
        "model.add(Embedding(vocab_size,15)) # 3620 -> 10차원으로 임베딩\n",
        "model.add(LSTM(300)) # 128 : 여기에 들어가는 숫자는 특성 갯수로 생각하면 됨\n",
        "#LSTM option : return_sequencese = False(마지막 값 만 출력)(default)\n",
        "# LSTM을 한 층 더 추가 하려면 return_sequencese = False 이거 써줘야 함, 밑에  LSTM은 True 해줘야한다.\n",
        "#return_sequencese = True(전체 출력)(번역할 때 사용)\n",
        "model.add(Dense(vocab_size,activation = 'softmax'))\n",
        "model.summary()"
      ]
    },
    {
      "cell_type": "code",
      "execution_count": 44,
      "metadata": {
        "id": "UVqKJRf7iwmH"
      },
      "outputs": [],
      "source": [
        "from keras.callbacks import EarlyStopping"
      ]
    },
    {
      "cell_type": "code",
      "execution_count": 45,
      "metadata": {
        "id": "3iVUOhixjNJ3"
      },
      "outputs": [],
      "source": [
        "es = EarlyStopping(monitor='val_accuracy', baseline=0.4)"
      ]
    },
    {
      "cell_type": "code",
      "execution_count": null,
      "metadata": {
        "colab": {
          "background_save": true,
          "base_uri": "https://localhost:8080/"
        },
        "id": "m4rWIByih-Ee",
        "outputId": "405e2b94-8d79-4cab-c7ab-d8796664a5ee"
      },
      "outputs": [
        {
          "name": "stdout",
          "output_type": "stream",
          "text": [
            "Epoch 1/200\n"
          ]
        },
        {
          "name": "stderr",
          "output_type": "stream",
          "text": [
            "WARNING:tensorflow:Early stopping conditioned on metric `val_accuracy` which is not available. Available metrics are: loss,accuracy\n"
          ]
        },
        {
          "name": "stdout",
          "output_type": "stream",
          "text": [
            "152/152 - 82s - loss: 8.1215 - accuracy: 0.0058 - 82s/epoch - 537ms/step\n",
            "Epoch 2/200\n"
          ]
        },
        {
          "name": "stderr",
          "output_type": "stream",
          "text": [
            "WARNING:tensorflow:Early stopping conditioned on metric `val_accuracy` which is not available. Available metrics are: loss,accuracy\n"
          ]
        },
        {
          "name": "stdout",
          "output_type": "stream",
          "text": [
            "152/152 - 2s - loss: 7.9231 - accuracy: 0.0079 - 2s/epoch - 10ms/step\n",
            "Epoch 3/200\n"
          ]
        },
        {
          "name": "stderr",
          "output_type": "stream",
          "text": [
            "WARNING:tensorflow:Early stopping conditioned on metric `val_accuracy` which is not available. Available metrics are: loss,accuracy\n"
          ]
        },
        {
          "name": "stdout",
          "output_type": "stream",
          "text": [
            "152/152 - 2s - loss: 7.6839 - accuracy: 0.0116 - 2s/epoch - 11ms/step\n",
            "Epoch 4/200\n"
          ]
        },
        {
          "name": "stderr",
          "output_type": "stream",
          "text": [
            "WARNING:tensorflow:Early stopping conditioned on metric `val_accuracy` which is not available. Available metrics are: loss,accuracy\n"
          ]
        },
        {
          "name": "stdout",
          "output_type": "stream",
          "text": [
            "152/152 - 2s - loss: 7.4886 - accuracy: 0.0151 - 2s/epoch - 16ms/step\n",
            "Epoch 5/200\n"
          ]
        },
        {
          "name": "stderr",
          "output_type": "stream",
          "text": [
            "WARNING:tensorflow:Early stopping conditioned on metric `val_accuracy` which is not available. Available metrics are: loss,accuracy\n"
          ]
        },
        {
          "name": "stdout",
          "output_type": "stream",
          "text": [
            "152/152 - 2s - loss: 7.2453 - accuracy: 0.0174 - 2s/epoch - 12ms/step\n",
            "Epoch 6/200\n"
          ]
        },
        {
          "name": "stderr",
          "output_type": "stream",
          "text": [
            "WARNING:tensorflow:Early stopping conditioned on metric `val_accuracy` which is not available. Available metrics are: loss,accuracy\n"
          ]
        },
        {
          "name": "stdout",
          "output_type": "stream",
          "text": [
            "152/152 - 1s - loss: 6.9298 - accuracy: 0.0197 - 1s/epoch - 7ms/step\n",
            "Epoch 7/200\n"
          ]
        },
        {
          "name": "stderr",
          "output_type": "stream",
          "text": [
            "WARNING:tensorflow:Early stopping conditioned on metric `val_accuracy` which is not available. Available metrics are: loss,accuracy\n"
          ]
        },
        {
          "name": "stdout",
          "output_type": "stream",
          "text": [
            "152/152 - 1s - loss: 6.5285 - accuracy: 0.0259 - 888ms/epoch - 6ms/step\n",
            "Epoch 8/200\n"
          ]
        },
        {
          "name": "stderr",
          "output_type": "stream",
          "text": [
            "WARNING:tensorflow:Early stopping conditioned on metric `val_accuracy` which is not available. Available metrics are: loss,accuracy\n"
          ]
        },
        {
          "name": "stdout",
          "output_type": "stream",
          "text": [
            "152/152 - 1s - loss: 6.0763 - accuracy: 0.0335 - 900ms/epoch - 6ms/step\n",
            "Epoch 9/200\n"
          ]
        },
        {
          "name": "stderr",
          "output_type": "stream",
          "text": [
            "WARNING:tensorflow:Early stopping conditioned on metric `val_accuracy` which is not available. Available metrics are: loss,accuracy\n"
          ]
        },
        {
          "name": "stdout",
          "output_type": "stream",
          "text": [
            "152/152 - 1s - loss: 5.6027 - accuracy: 0.0463 - 740ms/epoch - 5ms/step\n",
            "Epoch 10/200\n"
          ]
        },
        {
          "name": "stderr",
          "output_type": "stream",
          "text": [
            "WARNING:tensorflow:Early stopping conditioned on metric `val_accuracy` which is not available. Available metrics are: loss,accuracy\n"
          ]
        },
        {
          "name": "stdout",
          "output_type": "stream",
          "text": [
            "152/152 - 1s - loss: 5.1330 - accuracy: 0.0772 - 1s/epoch - 8ms/step\n",
            "Epoch 11/200\n"
          ]
        },
        {
          "name": "stderr",
          "output_type": "stream",
          "text": [
            "WARNING:tensorflow:Early stopping conditioned on metric `val_accuracy` which is not available. Available metrics are: loss,accuracy\n"
          ]
        },
        {
          "name": "stdout",
          "output_type": "stream",
          "text": [
            "152/152 - 1s - loss: 4.6873 - accuracy: 0.1258 - 719ms/epoch - 5ms/step\n",
            "Epoch 12/200\n"
          ]
        },
        {
          "name": "stderr",
          "output_type": "stream",
          "text": [
            "WARNING:tensorflow:Early stopping conditioned on metric `val_accuracy` which is not available. Available metrics are: loss,accuracy\n"
          ]
        },
        {
          "name": "stdout",
          "output_type": "stream",
          "text": [
            "152/152 - 1s - loss: 4.2748 - accuracy: 0.1895 - 715ms/epoch - 5ms/step\n",
            "Epoch 13/200\n"
          ]
        },
        {
          "name": "stderr",
          "output_type": "stream",
          "text": [
            "WARNING:tensorflow:Early stopping conditioned on metric `val_accuracy` which is not available. Available metrics are: loss,accuracy\n"
          ]
        },
        {
          "name": "stdout",
          "output_type": "stream",
          "text": [
            "152/152 - 1s - loss: 3.9025 - accuracy: 0.2507 - 877ms/epoch - 6ms/step\n",
            "Epoch 14/200\n"
          ]
        },
        {
          "name": "stderr",
          "output_type": "stream",
          "text": [
            "WARNING:tensorflow:Early stopping conditioned on metric `val_accuracy` which is not available. Available metrics are: loss,accuracy\n"
          ]
        },
        {
          "name": "stdout",
          "output_type": "stream",
          "text": [
            "152/152 - 1s - loss: 3.5608 - accuracy: 0.3169 - 894ms/epoch - 6ms/step\n",
            "Epoch 15/200\n"
          ]
        },
        {
          "name": "stderr",
          "output_type": "stream",
          "text": [
            "WARNING:tensorflow:Early stopping conditioned on metric `val_accuracy` which is not available. Available metrics are: loss,accuracy\n"
          ]
        },
        {
          "name": "stdout",
          "output_type": "stream",
          "text": [
            "152/152 - 1s - loss: 3.2685 - accuracy: 0.3784 - 875ms/epoch - 6ms/step\n",
            "Epoch 16/200\n"
          ]
        },
        {
          "name": "stderr",
          "output_type": "stream",
          "text": [
            "WARNING:tensorflow:Early stopping conditioned on metric `val_accuracy` which is not available. Available metrics are: loss,accuracy\n"
          ]
        },
        {
          "name": "stdout",
          "output_type": "stream",
          "text": [
            "152/152 - 1s - loss: 3.0174 - accuracy: 0.4197 - 1s/epoch - 7ms/step\n",
            "Epoch 17/200\n"
          ]
        },
        {
          "name": "stderr",
          "output_type": "stream",
          "text": [
            "WARNING:tensorflow:Early stopping conditioned on metric `val_accuracy` which is not available. Available metrics are: loss,accuracy\n"
          ]
        },
        {
          "name": "stdout",
          "output_type": "stream",
          "text": [
            "152/152 - 2s - loss: 2.7858 - accuracy: 0.4648 - 2s/epoch - 10ms/step\n",
            "Epoch 18/200\n"
          ]
        },
        {
          "name": "stderr",
          "output_type": "stream",
          "text": [
            "WARNING:tensorflow:Early stopping conditioned on metric `val_accuracy` which is not available. Available metrics are: loss,accuracy\n"
          ]
        },
        {
          "name": "stdout",
          "output_type": "stream",
          "text": [
            "152/152 - 2s - loss: 2.5803 - accuracy: 0.4992 - 2s/epoch - 10ms/step\n",
            "Epoch 19/200\n"
          ]
        },
        {
          "name": "stderr",
          "output_type": "stream",
          "text": [
            "WARNING:tensorflow:Early stopping conditioned on metric `val_accuracy` which is not available. Available metrics are: loss,accuracy\n"
          ]
        },
        {
          "name": "stdout",
          "output_type": "stream",
          "text": [
            "152/152 - 1s - loss: 2.4085 - accuracy: 0.5333 - 743ms/epoch - 5ms/step\n",
            "Epoch 20/200\n"
          ]
        },
        {
          "name": "stderr",
          "output_type": "stream",
          "text": [
            "WARNING:tensorflow:Early stopping conditioned on metric `val_accuracy` which is not available. Available metrics are: loss,accuracy\n"
          ]
        },
        {
          "name": "stdout",
          "output_type": "stream",
          "text": [
            "152/152 - 1s - loss: 2.2372 - accuracy: 0.5641 - 699ms/epoch - 5ms/step\n",
            "Epoch 21/200\n"
          ]
        },
        {
          "name": "stderr",
          "output_type": "stream",
          "text": [
            "WARNING:tensorflow:Early stopping conditioned on metric `val_accuracy` which is not available. Available metrics are: loss,accuracy\n"
          ]
        },
        {
          "name": "stdout",
          "output_type": "stream",
          "text": [
            "152/152 - 1s - loss: 2.0871 - accuracy: 0.5976 - 705ms/epoch - 5ms/step\n",
            "Epoch 22/200\n"
          ]
        },
        {
          "name": "stderr",
          "output_type": "stream",
          "text": [
            "WARNING:tensorflow:Early stopping conditioned on metric `val_accuracy` which is not available. Available metrics are: loss,accuracy\n"
          ]
        },
        {
          "name": "stdout",
          "output_type": "stream",
          "text": [
            "152/152 - 1s - loss: 1.9514 - accuracy: 0.6198 - 724ms/epoch - 5ms/step\n",
            "Epoch 23/200\n"
          ]
        },
        {
          "name": "stderr",
          "output_type": "stream",
          "text": [
            "WARNING:tensorflow:Early stopping conditioned on metric `val_accuracy` which is not available. Available metrics are: loss,accuracy\n"
          ]
        },
        {
          "name": "stdout",
          "output_type": "stream",
          "text": [
            "152/152 - 1s - loss: 1.8369 - accuracy: 0.6436 - 902ms/epoch - 6ms/step\n",
            "Epoch 24/200\n"
          ]
        },
        {
          "name": "stderr",
          "output_type": "stream",
          "text": [
            "WARNING:tensorflow:Early stopping conditioned on metric `val_accuracy` which is not available. Available metrics are: loss,accuracy\n"
          ]
        },
        {
          "name": "stdout",
          "output_type": "stream",
          "text": [
            "152/152 - 1s - loss: 1.7133 - accuracy: 0.6684 - 706ms/epoch - 5ms/step\n",
            "Epoch 25/200\n"
          ]
        },
        {
          "name": "stderr",
          "output_type": "stream",
          "text": [
            "WARNING:tensorflow:Early stopping conditioned on metric `val_accuracy` which is not available. Available metrics are: loss,accuracy\n"
          ]
        },
        {
          "name": "stdout",
          "output_type": "stream",
          "text": [
            "152/152 - 1s - loss: 1.6125 - accuracy: 0.6823 - 679ms/epoch - 4ms/step\n",
            "Epoch 26/200\n"
          ]
        },
        {
          "name": "stderr",
          "output_type": "stream",
          "text": [
            "WARNING:tensorflow:Early stopping conditioned on metric `val_accuracy` which is not available. Available metrics are: loss,accuracy\n"
          ]
        },
        {
          "name": "stdout",
          "output_type": "stream",
          "text": [
            "152/152 - 1s - loss: 1.5180 - accuracy: 0.6996 - 715ms/epoch - 5ms/step\n",
            "Epoch 27/200\n"
          ]
        },
        {
          "name": "stderr",
          "output_type": "stream",
          "text": [
            "WARNING:tensorflow:Early stopping conditioned on metric `val_accuracy` which is not available. Available metrics are: loss,accuracy\n"
          ]
        },
        {
          "name": "stdout",
          "output_type": "stream",
          "text": [
            "152/152 - 1s - loss: 1.4195 - accuracy: 0.7195 - 693ms/epoch - 5ms/step\n",
            "Epoch 28/200\n"
          ]
        },
        {
          "name": "stderr",
          "output_type": "stream",
          "text": [
            "WARNING:tensorflow:Early stopping conditioned on metric `val_accuracy` which is not available. Available metrics are: loss,accuracy\n"
          ]
        },
        {
          "name": "stdout",
          "output_type": "stream",
          "text": [
            "152/152 - 1s - loss: 1.3283 - accuracy: 0.7346 - 677ms/epoch - 4ms/step\n",
            "Epoch 29/200\n"
          ]
        },
        {
          "name": "stderr",
          "output_type": "stream",
          "text": [
            "WARNING:tensorflow:Early stopping conditioned on metric `val_accuracy` which is not available. Available metrics are: loss,accuracy\n"
          ]
        },
        {
          "name": "stdout",
          "output_type": "stream",
          "text": [
            "152/152 - 1s - loss: 1.2604 - accuracy: 0.7437 - 703ms/epoch - 5ms/step\n",
            "Epoch 30/200\n"
          ]
        },
        {
          "name": "stderr",
          "output_type": "stream",
          "text": [
            "WARNING:tensorflow:Early stopping conditioned on metric `val_accuracy` which is not available. Available metrics are: loss,accuracy\n"
          ]
        },
        {
          "name": "stdout",
          "output_type": "stream",
          "text": [
            "152/152 - 1s - loss: 1.1907 - accuracy: 0.7522 - 886ms/epoch - 6ms/step\n",
            "Epoch 31/200\n"
          ]
        },
        {
          "name": "stderr",
          "output_type": "stream",
          "text": [
            "WARNING:tensorflow:Early stopping conditioned on metric `val_accuracy` which is not available. Available metrics are: loss,accuracy\n"
          ]
        },
        {
          "name": "stdout",
          "output_type": "stream",
          "text": [
            "152/152 - 1s - loss: 1.1179 - accuracy: 0.7642 - 712ms/epoch - 5ms/step\n",
            "Epoch 32/200\n"
          ]
        },
        {
          "name": "stderr",
          "output_type": "stream",
          "text": [
            "WARNING:tensorflow:Early stopping conditioned on metric `val_accuracy` which is not available. Available metrics are: loss,accuracy\n"
          ]
        },
        {
          "name": "stdout",
          "output_type": "stream",
          "text": [
            "152/152 - 1s - loss: 1.0610 - accuracy: 0.7745 - 910ms/epoch - 6ms/step\n",
            "Epoch 33/200\n"
          ]
        },
        {
          "name": "stderr",
          "output_type": "stream",
          "text": [
            "WARNING:tensorflow:Early stopping conditioned on metric `val_accuracy` which is not available. Available metrics are: loss,accuracy\n"
          ]
        },
        {
          "name": "stdout",
          "output_type": "stream",
          "text": [
            "152/152 - 2s - loss: 1.0084 - accuracy: 0.7809 - 2s/epoch - 11ms/step\n",
            "Epoch 34/200\n"
          ]
        },
        {
          "name": "stderr",
          "output_type": "stream",
          "text": [
            "WARNING:tensorflow:Early stopping conditioned on metric `val_accuracy` which is not available. Available metrics are: loss,accuracy\n"
          ]
        },
        {
          "name": "stdout",
          "output_type": "stream",
          "text": [
            "152/152 - 1s - loss: 0.9476 - accuracy: 0.7929 - 999ms/epoch - 7ms/step\n",
            "Epoch 35/200\n"
          ]
        },
        {
          "name": "stderr",
          "output_type": "stream",
          "text": [
            "WARNING:tensorflow:Early stopping conditioned on metric `val_accuracy` which is not available. Available metrics are: loss,accuracy\n"
          ]
        },
        {
          "name": "stdout",
          "output_type": "stream",
          "text": [
            "152/152 - 1s - loss: 0.8913 - accuracy: 0.8043 - 809ms/epoch - 5ms/step\n",
            "Epoch 36/200\n"
          ]
        },
        {
          "name": "stderr",
          "output_type": "stream",
          "text": [
            "WARNING:tensorflow:Early stopping conditioned on metric `val_accuracy` which is not available. Available metrics are: loss,accuracy\n"
          ]
        },
        {
          "name": "stdout",
          "output_type": "stream",
          "text": [
            "152/152 - 1s - loss: 0.8537 - accuracy: 0.8132 - 701ms/epoch - 5ms/step\n",
            "Epoch 37/200\n"
          ]
        },
        {
          "name": "stderr",
          "output_type": "stream",
          "text": [
            "WARNING:tensorflow:Early stopping conditioned on metric `val_accuracy` which is not available. Available metrics are: loss,accuracy\n"
          ]
        },
        {
          "name": "stdout",
          "output_type": "stream",
          "text": [
            "152/152 - 1s - loss: 0.8000 - accuracy: 0.8235 - 687ms/epoch - 5ms/step\n",
            "Epoch 38/200\n"
          ]
        },
        {
          "name": "stderr",
          "output_type": "stream",
          "text": [
            "WARNING:tensorflow:Early stopping conditioned on metric `val_accuracy` which is not available. Available metrics are: loss,accuracy\n"
          ]
        },
        {
          "name": "stdout",
          "output_type": "stream",
          "text": [
            "152/152 - 1s - loss: 0.7555 - accuracy: 0.8349 - 687ms/epoch - 5ms/step\n",
            "Epoch 39/200\n"
          ]
        },
        {
          "name": "stderr",
          "output_type": "stream",
          "text": [
            "WARNING:tensorflow:Early stopping conditioned on metric `val_accuracy` which is not available. Available metrics are: loss,accuracy\n"
          ]
        },
        {
          "name": "stdout",
          "output_type": "stream",
          "text": [
            "152/152 - 1s - loss: 0.7080 - accuracy: 0.8482 - 885ms/epoch - 6ms/step\n",
            "Epoch 40/200\n"
          ]
        },
        {
          "name": "stderr",
          "output_type": "stream",
          "text": [
            "WARNING:tensorflow:Early stopping conditioned on metric `val_accuracy` which is not available. Available metrics are: loss,accuracy\n"
          ]
        },
        {
          "name": "stdout",
          "output_type": "stream",
          "text": [
            "152/152 - 1s - loss: 0.6626 - accuracy: 0.8537 - 692ms/epoch - 5ms/step\n",
            "Epoch 41/200\n"
          ]
        },
        {
          "name": "stderr",
          "output_type": "stream",
          "text": [
            "WARNING:tensorflow:Early stopping conditioned on metric `val_accuracy` which is not available. Available metrics are: loss,accuracy\n"
          ]
        },
        {
          "name": "stdout",
          "output_type": "stream",
          "text": [
            "152/152 - 1s - loss: 0.6239 - accuracy: 0.8691 - 898ms/epoch - 6ms/step\n",
            "Epoch 42/200\n"
          ]
        },
        {
          "name": "stderr",
          "output_type": "stream",
          "text": [
            "WARNING:tensorflow:Early stopping conditioned on metric `val_accuracy` which is not available. Available metrics are: loss,accuracy\n"
          ]
        },
        {
          "name": "stdout",
          "output_type": "stream",
          "text": [
            "152/152 - 1s - loss: 0.5839 - accuracy: 0.8771 - 688ms/epoch - 5ms/step\n",
            "Epoch 43/200\n"
          ]
        },
        {
          "name": "stderr",
          "output_type": "stream",
          "text": [
            "WARNING:tensorflow:Early stopping conditioned on metric `val_accuracy` which is not available. Available metrics are: loss,accuracy\n"
          ]
        },
        {
          "name": "stdout",
          "output_type": "stream",
          "text": [
            "152/152 - 1s - loss: 0.5560 - accuracy: 0.8815 - 706ms/epoch - 5ms/step\n",
            "Epoch 44/200\n"
          ]
        },
        {
          "name": "stderr",
          "output_type": "stream",
          "text": [
            "WARNING:tensorflow:Early stopping conditioned on metric `val_accuracy` which is not available. Available metrics are: loss,accuracy\n"
          ]
        },
        {
          "name": "stdout",
          "output_type": "stream",
          "text": [
            "152/152 - 1s - loss: 0.5194 - accuracy: 0.8895 - 886ms/epoch - 6ms/step\n",
            "Epoch 45/200\n"
          ]
        },
        {
          "name": "stderr",
          "output_type": "stream",
          "text": [
            "WARNING:tensorflow:Early stopping conditioned on metric `val_accuracy` which is not available. Available metrics are: loss,accuracy\n"
          ]
        },
        {
          "name": "stdout",
          "output_type": "stream",
          "text": [
            "152/152 - 1s - loss: 0.4761 - accuracy: 0.9055 - 689ms/epoch - 5ms/step\n",
            "Epoch 46/200\n"
          ]
        },
        {
          "name": "stderr",
          "output_type": "stream",
          "text": [
            "WARNING:tensorflow:Early stopping conditioned on metric `val_accuracy` which is not available. Available metrics are: loss,accuracy\n"
          ]
        },
        {
          "name": "stdout",
          "output_type": "stream",
          "text": [
            "152/152 - 1s - loss: 0.4467 - accuracy: 0.9034 - 746ms/epoch - 5ms/step\n",
            "Epoch 47/200\n"
          ]
        },
        {
          "name": "stderr",
          "output_type": "stream",
          "text": [
            "WARNING:tensorflow:Early stopping conditioned on metric `val_accuracy` which is not available. Available metrics are: loss,accuracy\n"
          ]
        },
        {
          "name": "stdout",
          "output_type": "stream",
          "text": [
            "152/152 - 1s - loss: 0.4142 - accuracy: 0.9123 - 700ms/epoch - 5ms/step\n",
            "Epoch 48/200\n"
          ]
        },
        {
          "name": "stderr",
          "output_type": "stream",
          "text": [
            "WARNING:tensorflow:Early stopping conditioned on metric `val_accuracy` which is not available. Available metrics are: loss,accuracy\n"
          ]
        },
        {
          "name": "stdout",
          "output_type": "stream",
          "text": [
            "152/152 - 1s - loss: 0.3892 - accuracy: 0.9108 - 1s/epoch - 8ms/step\n",
            "Epoch 49/200\n"
          ]
        },
        {
          "name": "stderr",
          "output_type": "stream",
          "text": [
            "WARNING:tensorflow:Early stopping conditioned on metric `val_accuracy` which is not available. Available metrics are: loss,accuracy\n"
          ]
        },
        {
          "name": "stdout",
          "output_type": "stream",
          "text": [
            "152/152 - 1s - loss: 0.3735 - accuracy: 0.9119 - 988ms/epoch - 6ms/step\n",
            "Epoch 50/200\n"
          ]
        },
        {
          "name": "stderr",
          "output_type": "stream",
          "text": [
            "WARNING:tensorflow:Early stopping conditioned on metric `val_accuracy` which is not available. Available metrics are: loss,accuracy\n"
          ]
        },
        {
          "name": "stdout",
          "output_type": "stream",
          "text": [
            "152/152 - 1s - loss: 0.3491 - accuracy: 0.9170 - 970ms/epoch - 6ms/step\n",
            "Epoch 51/200\n"
          ]
        },
        {
          "name": "stderr",
          "output_type": "stream",
          "text": [
            "WARNING:tensorflow:Early stopping conditioned on metric `val_accuracy` which is not available. Available metrics are: loss,accuracy\n"
          ]
        },
        {
          "name": "stdout",
          "output_type": "stream",
          "text": [
            "152/152 - 1s - loss: 0.3295 - accuracy: 0.9175 - 905ms/epoch - 6ms/step\n",
            "Epoch 52/200\n"
          ]
        },
        {
          "name": "stderr",
          "output_type": "stream",
          "text": [
            "WARNING:tensorflow:Early stopping conditioned on metric `val_accuracy` which is not available. Available metrics are: loss,accuracy\n"
          ]
        },
        {
          "name": "stdout",
          "output_type": "stream",
          "text": [
            "152/152 - 1s - loss: 0.3024 - accuracy: 0.9216 - 686ms/epoch - 5ms/step\n",
            "Epoch 53/200\n"
          ]
        },
        {
          "name": "stderr",
          "output_type": "stream",
          "text": [
            "WARNING:tensorflow:Early stopping conditioned on metric `val_accuracy` which is not available. Available metrics are: loss,accuracy\n"
          ]
        },
        {
          "name": "stdout",
          "output_type": "stream",
          "text": [
            "152/152 - 1s - loss: 0.2896 - accuracy: 0.9216 - 699ms/epoch - 5ms/step\n",
            "Epoch 54/200\n"
          ]
        },
        {
          "name": "stderr",
          "output_type": "stream",
          "text": [
            "WARNING:tensorflow:Early stopping conditioned on metric `val_accuracy` which is not available. Available metrics are: loss,accuracy\n"
          ]
        },
        {
          "name": "stdout",
          "output_type": "stream",
          "text": [
            "152/152 - 1s - loss: 0.2882 - accuracy: 0.9206 - 747ms/epoch - 5ms/step\n",
            "Epoch 55/200\n"
          ]
        },
        {
          "name": "stderr",
          "output_type": "stream",
          "text": [
            "WARNING:tensorflow:Early stopping conditioned on metric `val_accuracy` which is not available. Available metrics are: loss,accuracy\n"
          ]
        },
        {
          "name": "stdout",
          "output_type": "stream",
          "text": [
            "152/152 - 1s - loss: 0.2691 - accuracy: 0.9210 - 690ms/epoch - 5ms/step\n",
            "Epoch 56/200\n"
          ]
        },
        {
          "name": "stderr",
          "output_type": "stream",
          "text": [
            "WARNING:tensorflow:Early stopping conditioned on metric `val_accuracy` which is not available. Available metrics are: loss,accuracy\n"
          ]
        },
        {
          "name": "stdout",
          "output_type": "stream",
          "text": [
            "152/152 - 1s - loss: 0.2626 - accuracy: 0.9201 - 691ms/epoch - 5ms/step\n",
            "Epoch 57/200\n"
          ]
        },
        {
          "name": "stderr",
          "output_type": "stream",
          "text": [
            "WARNING:tensorflow:Early stopping conditioned on metric `val_accuracy` which is not available. Available metrics are: loss,accuracy\n"
          ]
        },
        {
          "name": "stdout",
          "output_type": "stream",
          "text": [
            "152/152 - 1s - loss: 0.2671 - accuracy: 0.9175 - 889ms/epoch - 6ms/step\n",
            "Epoch 58/200\n"
          ]
        },
        {
          "name": "stderr",
          "output_type": "stream",
          "text": [
            "WARNING:tensorflow:Early stopping conditioned on metric `val_accuracy` which is not available. Available metrics are: loss,accuracy\n"
          ]
        },
        {
          "name": "stdout",
          "output_type": "stream",
          "text": [
            "152/152 - 1s - loss: 0.2729 - accuracy: 0.9156 - 691ms/epoch - 5ms/step\n",
            "Epoch 59/200\n"
          ]
        },
        {
          "name": "stderr",
          "output_type": "stream",
          "text": [
            "WARNING:tensorflow:Early stopping conditioned on metric `val_accuracy` which is not available. Available metrics are: loss,accuracy\n"
          ]
        },
        {
          "name": "stdout",
          "output_type": "stream",
          "text": [
            "152/152 - 1s - loss: 0.2594 - accuracy: 0.9179 - 930ms/epoch - 6ms/step\n",
            "Epoch 60/200\n"
          ]
        },
        {
          "name": "stderr",
          "output_type": "stream",
          "text": [
            "WARNING:tensorflow:Early stopping conditioned on metric `val_accuracy` which is not available. Available metrics are: loss,accuracy\n"
          ]
        },
        {
          "name": "stdout",
          "output_type": "stream",
          "text": [
            "152/152 - 1s - loss: 0.2449 - accuracy: 0.9183 - 694ms/epoch - 5ms/step\n",
            "Epoch 61/200\n"
          ]
        },
        {
          "name": "stderr",
          "output_type": "stream",
          "text": [
            "WARNING:tensorflow:Early stopping conditioned on metric `val_accuracy` which is not available. Available metrics are: loss,accuracy\n"
          ]
        },
        {
          "name": "stdout",
          "output_type": "stream",
          "text": [
            "152/152 - 1s - loss: 0.2331 - accuracy: 0.9197 - 881ms/epoch - 6ms/step\n",
            "Epoch 62/200\n"
          ]
        },
        {
          "name": "stderr",
          "output_type": "stream",
          "text": [
            "WARNING:tensorflow:Early stopping conditioned on metric `val_accuracy` which is not available. Available metrics are: loss,accuracy\n"
          ]
        },
        {
          "name": "stdout",
          "output_type": "stream",
          "text": [
            "152/152 - 1s - loss: 0.2289 - accuracy: 0.9193 - 714ms/epoch - 5ms/step\n",
            "Epoch 63/200\n"
          ]
        },
        {
          "name": "stderr",
          "output_type": "stream",
          "text": [
            "WARNING:tensorflow:Early stopping conditioned on metric `val_accuracy` which is not available. Available metrics are: loss,accuracy\n"
          ]
        },
        {
          "name": "stdout",
          "output_type": "stream",
          "text": [
            "152/152 - 1s - loss: 0.2200 - accuracy: 0.9218 - 702ms/epoch - 5ms/step\n",
            "Epoch 64/200\n"
          ]
        },
        {
          "name": "stderr",
          "output_type": "stream",
          "text": [
            "WARNING:tensorflow:Early stopping conditioned on metric `val_accuracy` which is not available. Available metrics are: loss,accuracy\n"
          ]
        },
        {
          "name": "stdout",
          "output_type": "stream",
          "text": [
            "152/152 - 1s - loss: 0.2193 - accuracy: 0.9243 - 748ms/epoch - 5ms/step\n",
            "Epoch 65/200\n"
          ]
        },
        {
          "name": "stderr",
          "output_type": "stream",
          "text": [
            "WARNING:tensorflow:Early stopping conditioned on metric `val_accuracy` which is not available. Available metrics are: loss,accuracy\n"
          ]
        },
        {
          "name": "stdout",
          "output_type": "stream",
          "text": [
            "152/152 - 1s - loss: 0.2160 - accuracy: 0.9230 - 961ms/epoch - 6ms/step\n",
            "Epoch 66/200\n"
          ]
        },
        {
          "name": "stderr",
          "output_type": "stream",
          "text": [
            "WARNING:tensorflow:Early stopping conditioned on metric `val_accuracy` which is not available. Available metrics are: loss,accuracy\n"
          ]
        },
        {
          "name": "stdout",
          "output_type": "stream",
          "text": [
            "152/152 - 1s - loss: 0.2128 - accuracy: 0.9201 - 1000ms/epoch - 7ms/step\n",
            "Epoch 67/200\n"
          ]
        },
        {
          "name": "stderr",
          "output_type": "stream",
          "text": [
            "WARNING:tensorflow:Early stopping conditioned on metric `val_accuracy` which is not available. Available metrics are: loss,accuracy\n"
          ]
        },
        {
          "name": "stdout",
          "output_type": "stream",
          "text": [
            "152/152 - 1s - loss: 0.2117 - accuracy: 0.9218 - 978ms/epoch - 6ms/step\n",
            "Epoch 68/200\n"
          ]
        },
        {
          "name": "stderr",
          "output_type": "stream",
          "text": [
            "WARNING:tensorflow:Early stopping conditioned on metric `val_accuracy` which is not available. Available metrics are: loss,accuracy\n"
          ]
        },
        {
          "name": "stdout",
          "output_type": "stream",
          "text": [
            "152/152 - 1s - loss: 0.2095 - accuracy: 0.9216 - 801ms/epoch - 5ms/step\n",
            "Epoch 69/200\n"
          ]
        },
        {
          "name": "stderr",
          "output_type": "stream",
          "text": [
            "WARNING:tensorflow:Early stopping conditioned on metric `val_accuracy` which is not available. Available metrics are: loss,accuracy\n"
          ]
        },
        {
          "name": "stdout",
          "output_type": "stream",
          "text": [
            "152/152 - 1s - loss: 0.2062 - accuracy: 0.9230 - 702ms/epoch - 5ms/step\n",
            "Epoch 70/200\n"
          ]
        },
        {
          "name": "stderr",
          "output_type": "stream",
          "text": [
            "WARNING:tensorflow:Early stopping conditioned on metric `val_accuracy` which is not available. Available metrics are: loss,accuracy\n"
          ]
        },
        {
          "name": "stdout",
          "output_type": "stream",
          "text": [
            "152/152 - 1s - loss: 0.2038 - accuracy: 0.9226 - 698ms/epoch - 5ms/step\n",
            "Epoch 71/200\n"
          ]
        },
        {
          "name": "stderr",
          "output_type": "stream",
          "text": [
            "WARNING:tensorflow:Early stopping conditioned on metric `val_accuracy` which is not available. Available metrics are: loss,accuracy\n"
          ]
        },
        {
          "name": "stdout",
          "output_type": "stream",
          "text": [
            "152/152 - 1s - loss: 0.2079 - accuracy: 0.9210 - 696ms/epoch - 5ms/step\n",
            "Epoch 72/200\n"
          ]
        },
        {
          "name": "stderr",
          "output_type": "stream",
          "text": [
            "WARNING:tensorflow:Early stopping conditioned on metric `val_accuracy` which is not available. Available metrics are: loss,accuracy\n"
          ]
        },
        {
          "name": "stdout",
          "output_type": "stream",
          "text": [
            "152/152 - 1s - loss: 0.2016 - accuracy: 0.9212 - 715ms/epoch - 5ms/step\n",
            "Epoch 73/200\n"
          ]
        },
        {
          "name": "stderr",
          "output_type": "stream",
          "text": [
            "WARNING:tensorflow:Early stopping conditioned on metric `val_accuracy` which is not available. Available metrics are: loss,accuracy\n"
          ]
        },
        {
          "name": "stdout",
          "output_type": "stream",
          "text": [
            "152/152 - 1s - loss: 0.2031 - accuracy: 0.9191 - 898ms/epoch - 6ms/step\n",
            "Epoch 74/200\n"
          ]
        },
        {
          "name": "stderr",
          "output_type": "stream",
          "text": [
            "WARNING:tensorflow:Early stopping conditioned on metric `val_accuracy` which is not available. Available metrics are: loss,accuracy\n"
          ]
        },
        {
          "name": "stdout",
          "output_type": "stream",
          "text": [
            "152/152 - 1s - loss: 0.2017 - accuracy: 0.9210 - 687ms/epoch - 5ms/step\n",
            "Epoch 75/200\n"
          ]
        },
        {
          "name": "stderr",
          "output_type": "stream",
          "text": [
            "WARNING:tensorflow:Early stopping conditioned on metric `val_accuracy` which is not available. Available metrics are: loss,accuracy\n"
          ]
        },
        {
          "name": "stdout",
          "output_type": "stream",
          "text": [
            "152/152 - 1s - loss: 0.1982 - accuracy: 0.9220 - 706ms/epoch - 5ms/step\n",
            "Epoch 76/200\n"
          ]
        },
        {
          "name": "stderr",
          "output_type": "stream",
          "text": [
            "WARNING:tensorflow:Early stopping conditioned on metric `val_accuracy` which is not available. Available metrics are: loss,accuracy\n"
          ]
        },
        {
          "name": "stdout",
          "output_type": "stream",
          "text": [
            "152/152 - 1s - loss: 0.1980 - accuracy: 0.9208 - 694ms/epoch - 5ms/step\n",
            "Epoch 77/200\n"
          ]
        },
        {
          "name": "stderr",
          "output_type": "stream",
          "text": [
            "WARNING:tensorflow:Early stopping conditioned on metric `val_accuracy` which is not available. Available metrics are: loss,accuracy\n"
          ]
        },
        {
          "name": "stdout",
          "output_type": "stream",
          "text": [
            "152/152 - 1s - loss: 0.1954 - accuracy: 0.9235 - 710ms/epoch - 5ms/step\n",
            "Epoch 78/200\n"
          ]
        },
        {
          "name": "stderr",
          "output_type": "stream",
          "text": [
            "WARNING:tensorflow:Early stopping conditioned on metric `val_accuracy` which is not available. Available metrics are: loss,accuracy\n"
          ]
        },
        {
          "name": "stdout",
          "output_type": "stream",
          "text": [
            "152/152 - 1s - loss: 0.1965 - accuracy: 0.9206 - 696ms/epoch - 5ms/step\n",
            "Epoch 79/200\n"
          ]
        },
        {
          "name": "stderr",
          "output_type": "stream",
          "text": [
            "WARNING:tensorflow:Early stopping conditioned on metric `val_accuracy` which is not available. Available metrics are: loss,accuracy\n"
          ]
        },
        {
          "name": "stdout",
          "output_type": "stream",
          "text": [
            "152/152 - 1s - loss: 0.1933 - accuracy: 0.9226 - 703ms/epoch - 5ms/step\n",
            "Epoch 80/200\n"
          ]
        },
        {
          "name": "stderr",
          "output_type": "stream",
          "text": [
            "WARNING:tensorflow:Early stopping conditioned on metric `val_accuracy` which is not available. Available metrics are: loss,accuracy\n"
          ]
        },
        {
          "name": "stdout",
          "output_type": "stream",
          "text": [
            "152/152 - 1s - loss: 0.1933 - accuracy: 0.9208 - 706ms/epoch - 5ms/step\n",
            "Epoch 81/200\n"
          ]
        },
        {
          "name": "stderr",
          "output_type": "stream",
          "text": [
            "WARNING:tensorflow:Early stopping conditioned on metric `val_accuracy` which is not available. Available metrics are: loss,accuracy\n"
          ]
        },
        {
          "name": "stdout",
          "output_type": "stream",
          "text": [
            "152/152 - 1s - loss: 0.1925 - accuracy: 0.9206 - 713ms/epoch - 5ms/step\n",
            "Epoch 82/200\n"
          ]
        },
        {
          "name": "stderr",
          "output_type": "stream",
          "text": [
            "WARNING:tensorflow:Early stopping conditioned on metric `val_accuracy` which is not available. Available metrics are: loss,accuracy\n"
          ]
        },
        {
          "name": "stdout",
          "output_type": "stream",
          "text": [
            "152/152 - 1s - loss: 0.1979 - accuracy: 0.9195 - 963ms/epoch - 6ms/step\n",
            "Epoch 83/200\n"
          ]
        },
        {
          "name": "stderr",
          "output_type": "stream",
          "text": [
            "WARNING:tensorflow:Early stopping conditioned on metric `val_accuracy` which is not available. Available metrics are: loss,accuracy\n"
          ]
        },
        {
          "name": "stdout",
          "output_type": "stream",
          "text": [
            "152/152 - 1s - loss: 0.1913 - accuracy: 0.9204 - 1s/epoch - 7ms/step\n",
            "Epoch 84/200\n"
          ]
        },
        {
          "name": "stderr",
          "output_type": "stream",
          "text": [
            "WARNING:tensorflow:Early stopping conditioned on metric `val_accuracy` which is not available. Available metrics are: loss,accuracy\n"
          ]
        },
        {
          "name": "stdout",
          "output_type": "stream",
          "text": [
            "152/152 - 1s - loss: 0.1913 - accuracy: 0.9218 - 980ms/epoch - 6ms/step\n",
            "Epoch 85/200\n"
          ]
        },
        {
          "name": "stderr",
          "output_type": "stream",
          "text": [
            "WARNING:tensorflow:Early stopping conditioned on metric `val_accuracy` which is not available. Available metrics are: loss,accuracy\n"
          ]
        },
        {
          "name": "stdout",
          "output_type": "stream",
          "text": [
            "152/152 - 1s - loss: 0.1908 - accuracy: 0.9193 - 912ms/epoch - 6ms/step\n",
            "Epoch 86/200\n"
          ]
        },
        {
          "name": "stderr",
          "output_type": "stream",
          "text": [
            "WARNING:tensorflow:Early stopping conditioned on metric `val_accuracy` which is not available. Available metrics are: loss,accuracy\n"
          ]
        },
        {
          "name": "stdout",
          "output_type": "stream",
          "text": [
            "152/152 - 1s - loss: 0.1868 - accuracy: 0.9210 - 697ms/epoch - 5ms/step\n",
            "Epoch 87/200\n"
          ]
        },
        {
          "name": "stderr",
          "output_type": "stream",
          "text": [
            "WARNING:tensorflow:Early stopping conditioned on metric `val_accuracy` which is not available. Available metrics are: loss,accuracy\n"
          ]
        },
        {
          "name": "stdout",
          "output_type": "stream",
          "text": [
            "152/152 - 1s - loss: 0.1843 - accuracy: 0.9220 - 700ms/epoch - 5ms/step\n",
            "Epoch 88/200\n"
          ]
        },
        {
          "name": "stderr",
          "output_type": "stream",
          "text": [
            "WARNING:tensorflow:Early stopping conditioned on metric `val_accuracy` which is not available. Available metrics are: loss,accuracy\n"
          ]
        },
        {
          "name": "stdout",
          "output_type": "stream",
          "text": [
            "152/152 - 1s - loss: 0.1841 - accuracy: 0.9208 - 709ms/epoch - 5ms/step\n",
            "Epoch 89/200\n"
          ]
        },
        {
          "name": "stderr",
          "output_type": "stream",
          "text": [
            "WARNING:tensorflow:Early stopping conditioned on metric `val_accuracy` which is not available. Available metrics are: loss,accuracy\n"
          ]
        },
        {
          "name": "stdout",
          "output_type": "stream",
          "text": [
            "152/152 - 1s - loss: 0.1859 - accuracy: 0.9241 - 718ms/epoch - 5ms/step\n",
            "Epoch 90/200\n"
          ]
        },
        {
          "name": "stderr",
          "output_type": "stream",
          "text": [
            "WARNING:tensorflow:Early stopping conditioned on metric `val_accuracy` which is not available. Available metrics are: loss,accuracy\n"
          ]
        },
        {
          "name": "stdout",
          "output_type": "stream",
          "text": [
            "152/152 - 1s - loss: 0.2227 - accuracy: 0.9144 - 708ms/epoch - 5ms/step\n",
            "Epoch 91/200\n"
          ]
        },
        {
          "name": "stderr",
          "output_type": "stream",
          "text": [
            "WARNING:tensorflow:Early stopping conditioned on metric `val_accuracy` which is not available. Available metrics are: loss,accuracy\n"
          ]
        },
        {
          "name": "stdout",
          "output_type": "stream",
          "text": [
            "152/152 - 1s - loss: 0.2695 - accuracy: 0.9005 - 699ms/epoch - 5ms/step\n",
            "Epoch 92/200\n"
          ]
        },
        {
          "name": "stderr",
          "output_type": "stream",
          "text": [
            "WARNING:tensorflow:Early stopping conditioned on metric `val_accuracy` which is not available. Available metrics are: loss,accuracy\n"
          ]
        },
        {
          "name": "stdout",
          "output_type": "stream",
          "text": [
            "152/152 - 1s - loss: 0.2084 - accuracy: 0.9179 - 727ms/epoch - 5ms/step\n",
            "Epoch 93/200\n"
          ]
        },
        {
          "name": "stderr",
          "output_type": "stream",
          "text": [
            "WARNING:tensorflow:Early stopping conditioned on metric `val_accuracy` which is not available. Available metrics are: loss,accuracy\n"
          ]
        },
        {
          "name": "stdout",
          "output_type": "stream",
          "text": [
            "152/152 - 1s - loss: 0.1885 - accuracy: 0.9214 - 700ms/epoch - 5ms/step\n",
            "Epoch 94/200\n"
          ]
        },
        {
          "name": "stderr",
          "output_type": "stream",
          "text": [
            "WARNING:tensorflow:Early stopping conditioned on metric `val_accuracy` which is not available. Available metrics are: loss,accuracy\n"
          ]
        },
        {
          "name": "stdout",
          "output_type": "stream",
          "text": [
            "152/152 - 1s - loss: 0.1822 - accuracy: 0.9210 - 702ms/epoch - 5ms/step\n",
            "Epoch 95/200\n"
          ]
        },
        {
          "name": "stderr",
          "output_type": "stream",
          "text": [
            "WARNING:tensorflow:Early stopping conditioned on metric `val_accuracy` which is not available. Available metrics are: loss,accuracy\n"
          ]
        },
        {
          "name": "stdout",
          "output_type": "stream",
          "text": [
            "152/152 - 1s - loss: 0.1803 - accuracy: 0.9245 - 718ms/epoch - 5ms/step\n",
            "Epoch 96/200\n"
          ]
        },
        {
          "name": "stderr",
          "output_type": "stream",
          "text": [
            "WARNING:tensorflow:Early stopping conditioned on metric `val_accuracy` which is not available. Available metrics are: loss,accuracy\n"
          ]
        },
        {
          "name": "stdout",
          "output_type": "stream",
          "text": [
            "152/152 - 1s - loss: 0.1793 - accuracy: 0.9218 - 715ms/epoch - 5ms/step\n",
            "Epoch 97/200\n"
          ]
        },
        {
          "name": "stderr",
          "output_type": "stream",
          "text": [
            "WARNING:tensorflow:Early stopping conditioned on metric `val_accuracy` which is not available. Available metrics are: loss,accuracy\n"
          ]
        },
        {
          "name": "stdout",
          "output_type": "stream",
          "text": [
            "152/152 - 1s - loss: 0.1797 - accuracy: 0.9214 - 689ms/epoch - 5ms/step\n",
            "Epoch 98/200\n"
          ]
        },
        {
          "name": "stderr",
          "output_type": "stream",
          "text": [
            "WARNING:tensorflow:Early stopping conditioned on metric `val_accuracy` which is not available. Available metrics are: loss,accuracy\n"
          ]
        },
        {
          "name": "stdout",
          "output_type": "stream",
          "text": [
            "152/152 - 1s - loss: 0.1798 - accuracy: 0.9233 - 729ms/epoch - 5ms/step\n",
            "Epoch 99/200\n"
          ]
        },
        {
          "name": "stderr",
          "output_type": "stream",
          "text": [
            "WARNING:tensorflow:Early stopping conditioned on metric `val_accuracy` which is not available. Available metrics are: loss,accuracy\n"
          ]
        },
        {
          "name": "stdout",
          "output_type": "stream",
          "text": [
            "152/152 - 1s - loss: 0.1783 - accuracy: 0.9218 - 864ms/epoch - 6ms/step\n",
            "Epoch 100/200\n"
          ]
        },
        {
          "name": "stderr",
          "output_type": "stream",
          "text": [
            "WARNING:tensorflow:Early stopping conditioned on metric `val_accuracy` which is not available. Available metrics are: loss,accuracy\n"
          ]
        },
        {
          "name": "stdout",
          "output_type": "stream",
          "text": [
            "152/152 - 1s - loss: 0.1783 - accuracy: 0.9201 - 973ms/epoch - 6ms/step\n",
            "Epoch 101/200\n"
          ]
        },
        {
          "name": "stderr",
          "output_type": "stream",
          "text": [
            "WARNING:tensorflow:Early stopping conditioned on metric `val_accuracy` which is not available. Available metrics are: loss,accuracy\n"
          ]
        },
        {
          "name": "stdout",
          "output_type": "stream",
          "text": [
            "152/152 - 1s - loss: 0.1840 - accuracy: 0.9201 - 946ms/epoch - 6ms/step\n",
            "Epoch 102/200\n"
          ]
        },
        {
          "name": "stderr",
          "output_type": "stream",
          "text": [
            "WARNING:tensorflow:Early stopping conditioned on metric `val_accuracy` which is not available. Available metrics are: loss,accuracy\n"
          ]
        },
        {
          "name": "stdout",
          "output_type": "stream",
          "text": [
            "152/152 - 1s - loss: 0.1781 - accuracy: 0.9226 - 1s/epoch - 7ms/step\n",
            "Epoch 103/200\n"
          ]
        },
        {
          "name": "stderr",
          "output_type": "stream",
          "text": [
            "WARNING:tensorflow:Early stopping conditioned on metric `val_accuracy` which is not available. Available metrics are: loss,accuracy\n"
          ]
        },
        {
          "name": "stdout",
          "output_type": "stream",
          "text": [
            "152/152 - 1s - loss: 0.1757 - accuracy: 0.9241 - 709ms/epoch - 5ms/step\n",
            "Epoch 104/200\n"
          ]
        },
        {
          "name": "stderr",
          "output_type": "stream",
          "text": [
            "WARNING:tensorflow:Early stopping conditioned on metric `val_accuracy` which is not available. Available metrics are: loss,accuracy\n"
          ]
        },
        {
          "name": "stdout",
          "output_type": "stream",
          "text": [
            "152/152 - 1s - loss: 0.1756 - accuracy: 0.9228 - 702ms/epoch - 5ms/step\n",
            "Epoch 105/200\n"
          ]
        },
        {
          "name": "stderr",
          "output_type": "stream",
          "text": [
            "WARNING:tensorflow:Early stopping conditioned on metric `val_accuracy` which is not available. Available metrics are: loss,accuracy\n"
          ]
        },
        {
          "name": "stdout",
          "output_type": "stream",
          "text": [
            "152/152 - 1s - loss: 0.1778 - accuracy: 0.9206 - 709ms/epoch - 5ms/step\n",
            "Epoch 106/200\n"
          ]
        },
        {
          "name": "stderr",
          "output_type": "stream",
          "text": [
            "WARNING:tensorflow:Early stopping conditioned on metric `val_accuracy` which is not available. Available metrics are: loss,accuracy\n"
          ]
        },
        {
          "name": "stdout",
          "output_type": "stream",
          "text": [
            "152/152 - 1s - loss: 0.1748 - accuracy: 0.9222 - 690ms/epoch - 5ms/step\n",
            "Epoch 107/200\n"
          ]
        },
        {
          "name": "stderr",
          "output_type": "stream",
          "text": [
            "WARNING:tensorflow:Early stopping conditioned on metric `val_accuracy` which is not available. Available metrics are: loss,accuracy\n"
          ]
        },
        {
          "name": "stdout",
          "output_type": "stream",
          "text": [
            "152/152 - 1s - loss: 0.1754 - accuracy: 0.9222 - 693ms/epoch - 5ms/step\n",
            "Epoch 108/200\n"
          ]
        },
        {
          "name": "stderr",
          "output_type": "stream",
          "text": [
            "WARNING:tensorflow:Early stopping conditioned on metric `val_accuracy` which is not available. Available metrics are: loss,accuracy\n"
          ]
        },
        {
          "name": "stdout",
          "output_type": "stream",
          "text": [
            "152/152 - 1s - loss: 0.1737 - accuracy: 0.9204 - 713ms/epoch - 5ms/step\n",
            "Epoch 109/200\n"
          ]
        },
        {
          "name": "stderr",
          "output_type": "stream",
          "text": [
            "WARNING:tensorflow:Early stopping conditioned on metric `val_accuracy` which is not available. Available metrics are: loss,accuracy\n"
          ]
        },
        {
          "name": "stdout",
          "output_type": "stream",
          "text": [
            "152/152 - 1s - loss: 0.1733 - accuracy: 0.9220 - 702ms/epoch - 5ms/step\n",
            "Epoch 110/200\n"
          ]
        },
        {
          "name": "stderr",
          "output_type": "stream",
          "text": [
            "WARNING:tensorflow:Early stopping conditioned on metric `val_accuracy` which is not available. Available metrics are: loss,accuracy\n"
          ]
        },
        {
          "name": "stdout",
          "output_type": "stream",
          "text": [
            "152/152 - 1s - loss: 0.1744 - accuracy: 0.9210 - 710ms/epoch - 5ms/step\n",
            "Epoch 111/200\n"
          ]
        },
        {
          "name": "stderr",
          "output_type": "stream",
          "text": [
            "WARNING:tensorflow:Early stopping conditioned on metric `val_accuracy` which is not available. Available metrics are: loss,accuracy\n"
          ]
        },
        {
          "name": "stdout",
          "output_type": "stream",
          "text": [
            "152/152 - 1s - loss: 0.1740 - accuracy: 0.9212 - 719ms/epoch - 5ms/step\n",
            "Epoch 112/200\n"
          ]
        },
        {
          "name": "stderr",
          "output_type": "stream",
          "text": [
            "WARNING:tensorflow:Early stopping conditioned on metric `val_accuracy` which is not available. Available metrics are: loss,accuracy\n"
          ]
        },
        {
          "name": "stdout",
          "output_type": "stream",
          "text": [
            "152/152 - 1s - loss: 0.1755 - accuracy: 0.9193 - 714ms/epoch - 5ms/step\n",
            "Epoch 113/200\n"
          ]
        },
        {
          "name": "stderr",
          "output_type": "stream",
          "text": [
            "WARNING:tensorflow:Early stopping conditioned on metric `val_accuracy` which is not available. Available metrics are: loss,accuracy\n"
          ]
        },
        {
          "name": "stdout",
          "output_type": "stream",
          "text": [
            "152/152 - 1s - loss: 0.1726 - accuracy: 0.9226 - 724ms/epoch - 5ms/step\n",
            "Epoch 114/200\n"
          ]
        },
        {
          "name": "stderr",
          "output_type": "stream",
          "text": [
            "WARNING:tensorflow:Early stopping conditioned on metric `val_accuracy` which is not available. Available metrics are: loss,accuracy\n"
          ]
        },
        {
          "name": "stdout",
          "output_type": "stream",
          "text": [
            "152/152 - 1s - loss: 0.1720 - accuracy: 0.9201 - 695ms/epoch - 5ms/step\n",
            "Epoch 115/200\n"
          ]
        },
        {
          "name": "stderr",
          "output_type": "stream",
          "text": [
            "WARNING:tensorflow:Early stopping conditioned on metric `val_accuracy` which is not available. Available metrics are: loss,accuracy\n"
          ]
        },
        {
          "name": "stdout",
          "output_type": "stream",
          "text": [
            "152/152 - 1s - loss: 0.1729 - accuracy: 0.9204 - 692ms/epoch - 5ms/step\n",
            "Epoch 116/200\n"
          ]
        },
        {
          "name": "stderr",
          "output_type": "stream",
          "text": [
            "WARNING:tensorflow:Early stopping conditioned on metric `val_accuracy` which is not available. Available metrics are: loss,accuracy\n"
          ]
        },
        {
          "name": "stdout",
          "output_type": "stream",
          "text": [
            "152/152 - 1s - loss: 0.1723 - accuracy: 0.9226 - 691ms/epoch - 5ms/step\n",
            "Epoch 117/200\n"
          ]
        },
        {
          "name": "stderr",
          "output_type": "stream",
          "text": [
            "WARNING:tensorflow:Early stopping conditioned on metric `val_accuracy` which is not available. Available metrics are: loss,accuracy\n"
          ]
        },
        {
          "name": "stdout",
          "output_type": "stream",
          "text": [
            "152/152 - 1s - loss: 0.1718 - accuracy: 0.9230 - 946ms/epoch - 6ms/step\n",
            "Epoch 118/200\n"
          ]
        },
        {
          "name": "stderr",
          "output_type": "stream",
          "text": [
            "WARNING:tensorflow:Early stopping conditioned on metric `val_accuracy` which is not available. Available metrics are: loss,accuracy\n"
          ]
        },
        {
          "name": "stdout",
          "output_type": "stream",
          "text": [
            "152/152 - 1s - loss: 0.1714 - accuracy: 0.9230 - 933ms/epoch - 6ms/step\n",
            "Epoch 119/200\n"
          ]
        },
        {
          "name": "stderr",
          "output_type": "stream",
          "text": [
            "WARNING:tensorflow:Early stopping conditioned on metric `val_accuracy` which is not available. Available metrics are: loss,accuracy\n"
          ]
        },
        {
          "name": "stdout",
          "output_type": "stream",
          "text": [
            "152/152 - 1s - loss: 0.1723 - accuracy: 0.9226 - 938ms/epoch - 6ms/step\n",
            "Epoch 120/200\n"
          ]
        },
        {
          "name": "stderr",
          "output_type": "stream",
          "text": [
            "WARNING:tensorflow:Early stopping conditioned on metric `val_accuracy` which is not available. Available metrics are: loss,accuracy\n"
          ]
        },
        {
          "name": "stdout",
          "output_type": "stream",
          "text": [
            "152/152 - 1s - loss: 0.1749 - accuracy: 0.9199 - 883ms/epoch - 6ms/step\n",
            "Epoch 121/200\n"
          ]
        },
        {
          "name": "stderr",
          "output_type": "stream",
          "text": [
            "WARNING:tensorflow:Early stopping conditioned on metric `val_accuracy` which is not available. Available metrics are: loss,accuracy\n"
          ]
        },
        {
          "name": "stdout",
          "output_type": "stream",
          "text": [
            "152/152 - 1s - loss: 0.1749 - accuracy: 0.9228 - 700ms/epoch - 5ms/step\n",
            "Epoch 122/200\n"
          ]
        },
        {
          "name": "stderr",
          "output_type": "stream",
          "text": [
            "WARNING:tensorflow:Early stopping conditioned on metric `val_accuracy` which is not available. Available metrics are: loss,accuracy\n"
          ]
        },
        {
          "name": "stdout",
          "output_type": "stream",
          "text": [
            "152/152 - 1s - loss: 0.1722 - accuracy: 0.9214 - 880ms/epoch - 6ms/step\n",
            "Epoch 123/200\n"
          ]
        },
        {
          "name": "stderr",
          "output_type": "stream",
          "text": [
            "WARNING:tensorflow:Early stopping conditioned on metric `val_accuracy` which is not available. Available metrics are: loss,accuracy\n"
          ]
        },
        {
          "name": "stdout",
          "output_type": "stream",
          "text": [
            "152/152 - 1s - loss: 0.1744 - accuracy: 0.9224 - 693ms/epoch - 5ms/step\n",
            "Epoch 124/200\n"
          ]
        },
        {
          "name": "stderr",
          "output_type": "stream",
          "text": [
            "WARNING:tensorflow:Early stopping conditioned on metric `val_accuracy` which is not available. Available metrics are: loss,accuracy\n"
          ]
        },
        {
          "name": "stdout",
          "output_type": "stream",
          "text": [
            "152/152 - 1s - loss: 0.1716 - accuracy: 0.9210 - 698ms/epoch - 5ms/step\n",
            "Epoch 125/200\n"
          ]
        },
        {
          "name": "stderr",
          "output_type": "stream",
          "text": [
            "WARNING:tensorflow:Early stopping conditioned on metric `val_accuracy` which is not available. Available metrics are: loss,accuracy\n"
          ]
        },
        {
          "name": "stdout",
          "output_type": "stream",
          "text": [
            "152/152 - 1s - loss: 0.1702 - accuracy: 0.9222 - 714ms/epoch - 5ms/step\n",
            "Epoch 126/200\n"
          ]
        },
        {
          "name": "stderr",
          "output_type": "stream",
          "text": [
            "WARNING:tensorflow:Early stopping conditioned on metric `val_accuracy` which is not available. Available metrics are: loss,accuracy\n"
          ]
        },
        {
          "name": "stdout",
          "output_type": "stream",
          "text": [
            "152/152 - 1s - loss: 0.1696 - accuracy: 0.9201 - 702ms/epoch - 5ms/step\n",
            "Epoch 127/200\n"
          ]
        },
        {
          "name": "stderr",
          "output_type": "stream",
          "text": [
            "WARNING:tensorflow:Early stopping conditioned on metric `val_accuracy` which is not available. Available metrics are: loss,accuracy\n"
          ]
        },
        {
          "name": "stdout",
          "output_type": "stream",
          "text": [
            "152/152 - 1s - loss: 0.1685 - accuracy: 0.9237 - 733ms/epoch - 5ms/step\n",
            "Epoch 128/200\n"
          ]
        },
        {
          "name": "stderr",
          "output_type": "stream",
          "text": [
            "WARNING:tensorflow:Early stopping conditioned on metric `val_accuracy` which is not available. Available metrics are: loss,accuracy\n"
          ]
        },
        {
          "name": "stdout",
          "output_type": "stream",
          "text": [
            "152/152 - 1s - loss: 0.1675 - accuracy: 0.9224 - 713ms/epoch - 5ms/step\n",
            "Epoch 129/200\n"
          ]
        },
        {
          "name": "stderr",
          "output_type": "stream",
          "text": [
            "WARNING:tensorflow:Early stopping conditioned on metric `val_accuracy` which is not available. Available metrics are: loss,accuracy\n"
          ]
        },
        {
          "name": "stdout",
          "output_type": "stream",
          "text": [
            "152/152 - 1s - loss: 0.1669 - accuracy: 0.9222 - 686ms/epoch - 5ms/step\n",
            "Epoch 130/200\n"
          ]
        },
        {
          "name": "stderr",
          "output_type": "stream",
          "text": [
            "WARNING:tensorflow:Early stopping conditioned on metric `val_accuracy` which is not available. Available metrics are: loss,accuracy\n"
          ]
        },
        {
          "name": "stdout",
          "output_type": "stream",
          "text": [
            "152/152 - 1s - loss: 0.1664 - accuracy: 0.9212 - 709ms/epoch - 5ms/step\n",
            "Epoch 131/200\n"
          ]
        },
        {
          "name": "stderr",
          "output_type": "stream",
          "text": [
            "WARNING:tensorflow:Early stopping conditioned on metric `val_accuracy` which is not available. Available metrics are: loss,accuracy\n"
          ]
        },
        {
          "name": "stdout",
          "output_type": "stream",
          "text": [
            "152/152 - 1s - loss: 0.1677 - accuracy: 0.9208 - 707ms/epoch - 5ms/step\n",
            "Epoch 132/200\n"
          ]
        },
        {
          "name": "stderr",
          "output_type": "stream",
          "text": [
            "WARNING:tensorflow:Early stopping conditioned on metric `val_accuracy` which is not available. Available metrics are: loss,accuracy\n"
          ]
        },
        {
          "name": "stdout",
          "output_type": "stream",
          "text": [
            "152/152 - 1s - loss: 0.1681 - accuracy: 0.9214 - 737ms/epoch - 5ms/step\n",
            "Epoch 133/200\n"
          ]
        },
        {
          "name": "stderr",
          "output_type": "stream",
          "text": [
            "WARNING:tensorflow:Early stopping conditioned on metric `val_accuracy` which is not available. Available metrics are: loss,accuracy\n"
          ]
        },
        {
          "name": "stdout",
          "output_type": "stream",
          "text": [
            "152/152 - 1s - loss: 0.1680 - accuracy: 0.9220 - 712ms/epoch - 5ms/step\n",
            "Epoch 134/200\n"
          ]
        },
        {
          "name": "stderr",
          "output_type": "stream",
          "text": [
            "WARNING:tensorflow:Early stopping conditioned on metric `val_accuracy` which is not available. Available metrics are: loss,accuracy\n"
          ]
        },
        {
          "name": "stdout",
          "output_type": "stream",
          "text": [
            "152/152 - 1s - loss: 0.1658 - accuracy: 0.9210 - 867ms/epoch - 6ms/step\n",
            "Epoch 135/200\n"
          ]
        },
        {
          "name": "stderr",
          "output_type": "stream",
          "text": [
            "WARNING:tensorflow:Early stopping conditioned on metric `val_accuracy` which is not available. Available metrics are: loss,accuracy\n"
          ]
        },
        {
          "name": "stdout",
          "output_type": "stream",
          "text": [
            "152/152 - 1s - loss: 0.1667 - accuracy: 0.9212 - 977ms/epoch - 6ms/step\n",
            "Epoch 136/200\n"
          ]
        },
        {
          "name": "stderr",
          "output_type": "stream",
          "text": [
            "WARNING:tensorflow:Early stopping conditioned on metric `val_accuracy` which is not available. Available metrics are: loss,accuracy\n"
          ]
        },
        {
          "name": "stdout",
          "output_type": "stream",
          "text": [
            "152/152 - 1s - loss: 0.1654 - accuracy: 0.9216 - 968ms/epoch - 6ms/step\n",
            "Epoch 137/200\n"
          ]
        },
        {
          "name": "stderr",
          "output_type": "stream",
          "text": [
            "WARNING:tensorflow:Early stopping conditioned on metric `val_accuracy` which is not available. Available metrics are: loss,accuracy\n"
          ]
        },
        {
          "name": "stdout",
          "output_type": "stream",
          "text": [
            "152/152 - 1s - loss: 0.1715 - accuracy: 0.9179 - 940ms/epoch - 6ms/step\n",
            "Epoch 138/200\n"
          ]
        },
        {
          "name": "stderr",
          "output_type": "stream",
          "text": [
            "WARNING:tensorflow:Early stopping conditioned on metric `val_accuracy` which is not available. Available metrics are: loss,accuracy\n"
          ]
        },
        {
          "name": "stdout",
          "output_type": "stream",
          "text": [
            "152/152 - 1s - loss: 0.1808 - accuracy: 0.9160 - 906ms/epoch - 6ms/step\n",
            "Epoch 139/200\n"
          ]
        },
        {
          "name": "stderr",
          "output_type": "stream",
          "text": [
            "WARNING:tensorflow:Early stopping conditioned on metric `val_accuracy` which is not available. Available metrics are: loss,accuracy\n"
          ]
        },
        {
          "name": "stdout",
          "output_type": "stream",
          "text": [
            "152/152 - 1s - loss: 0.2010 - accuracy: 0.9150 - 690ms/epoch - 5ms/step\n",
            "Epoch 140/200\n"
          ]
        },
        {
          "name": "stderr",
          "output_type": "stream",
          "text": [
            "WARNING:tensorflow:Early stopping conditioned on metric `val_accuracy` which is not available. Available metrics are: loss,accuracy\n"
          ]
        },
        {
          "name": "stdout",
          "output_type": "stream",
          "text": [
            "152/152 - 1s - loss: 0.1849 - accuracy: 0.9185 - 724ms/epoch - 5ms/step\n",
            "Epoch 141/200\n"
          ]
        },
        {
          "name": "stderr",
          "output_type": "stream",
          "text": [
            "WARNING:tensorflow:Early stopping conditioned on metric `val_accuracy` which is not available. Available metrics are: loss,accuracy\n"
          ]
        },
        {
          "name": "stdout",
          "output_type": "stream",
          "text": [
            "152/152 - 1s - loss: 0.1693 - accuracy: 0.9201 - 711ms/epoch - 5ms/step\n",
            "Epoch 142/200\n"
          ]
        },
        {
          "name": "stderr",
          "output_type": "stream",
          "text": [
            "WARNING:tensorflow:Early stopping conditioned on metric `val_accuracy` which is not available. Available metrics are: loss,accuracy\n"
          ]
        },
        {
          "name": "stdout",
          "output_type": "stream",
          "text": [
            "152/152 - 1s - loss: 0.1641 - accuracy: 0.9216 - 713ms/epoch - 5ms/step\n",
            "Epoch 143/200\n"
          ]
        },
        {
          "name": "stderr",
          "output_type": "stream",
          "text": [
            "WARNING:tensorflow:Early stopping conditioned on metric `val_accuracy` which is not available. Available metrics are: loss,accuracy\n"
          ]
        },
        {
          "name": "stdout",
          "output_type": "stream",
          "text": [
            "152/152 - 1s - loss: 0.1637 - accuracy: 0.9224 - 690ms/epoch - 5ms/step\n",
            "Epoch 144/200\n"
          ]
        },
        {
          "name": "stderr",
          "output_type": "stream",
          "text": [
            "WARNING:tensorflow:Early stopping conditioned on metric `val_accuracy` which is not available. Available metrics are: loss,accuracy\n"
          ]
        },
        {
          "name": "stdout",
          "output_type": "stream",
          "text": [
            "152/152 - 1s - loss: 0.1626 - accuracy: 0.9226 - 700ms/epoch - 5ms/step\n",
            "Epoch 145/200\n"
          ]
        },
        {
          "name": "stderr",
          "output_type": "stream",
          "text": [
            "WARNING:tensorflow:Early stopping conditioned on metric `val_accuracy` which is not available. Available metrics are: loss,accuracy\n"
          ]
        },
        {
          "name": "stdout",
          "output_type": "stream",
          "text": [
            "152/152 - 1s - loss: 0.1617 - accuracy: 0.9235 - 700ms/epoch - 5ms/step\n",
            "Epoch 146/200\n"
          ]
        },
        {
          "name": "stderr",
          "output_type": "stream",
          "text": [
            "WARNING:tensorflow:Early stopping conditioned on metric `val_accuracy` which is not available. Available metrics are: loss,accuracy\n"
          ]
        },
        {
          "name": "stdout",
          "output_type": "stream",
          "text": [
            "152/152 - 1s - loss: 0.1626 - accuracy: 0.9212 - 682ms/epoch - 4ms/step\n",
            "Epoch 147/200\n"
          ]
        },
        {
          "name": "stderr",
          "output_type": "stream",
          "text": [
            "WARNING:tensorflow:Early stopping conditioned on metric `val_accuracy` which is not available. Available metrics are: loss,accuracy\n"
          ]
        },
        {
          "name": "stdout",
          "output_type": "stream",
          "text": [
            "152/152 - 1s - loss: 0.1631 - accuracy: 0.9193 - 724ms/epoch - 5ms/step\n",
            "Epoch 148/200\n"
          ]
        },
        {
          "name": "stderr",
          "output_type": "stream",
          "text": [
            "WARNING:tensorflow:Early stopping conditioned on metric `val_accuracy` which is not available. Available metrics are: loss,accuracy\n"
          ]
        },
        {
          "name": "stdout",
          "output_type": "stream",
          "text": [
            "152/152 - 1s - loss: 0.1628 - accuracy: 0.9224 - 717ms/epoch - 5ms/step\n",
            "Epoch 149/200\n"
          ]
        },
        {
          "name": "stderr",
          "output_type": "stream",
          "text": [
            "WARNING:tensorflow:Early stopping conditioned on metric `val_accuracy` which is not available. Available metrics are: loss,accuracy\n"
          ]
        },
        {
          "name": "stdout",
          "output_type": "stream",
          "text": [
            "152/152 - 1s - loss: 0.1623 - accuracy: 0.9206 - 698ms/epoch - 5ms/step\n",
            "Epoch 150/200\n"
          ]
        },
        {
          "name": "stderr",
          "output_type": "stream",
          "text": [
            "WARNING:tensorflow:Early stopping conditioned on metric `val_accuracy` which is not available. Available metrics are: loss,accuracy\n"
          ]
        },
        {
          "name": "stdout",
          "output_type": "stream",
          "text": [
            "152/152 - 1s - loss: 0.1627 - accuracy: 0.9208 - 713ms/epoch - 5ms/step\n",
            "Epoch 151/200\n"
          ]
        },
        {
          "name": "stderr",
          "output_type": "stream",
          "text": [
            "WARNING:tensorflow:Early stopping conditioned on metric `val_accuracy` which is not available. Available metrics are: loss,accuracy\n"
          ]
        },
        {
          "name": "stdout",
          "output_type": "stream",
          "text": [
            "152/152 - 1s - loss: 0.1637 - accuracy: 0.9249 - 849ms/epoch - 6ms/step\n",
            "Epoch 152/200\n"
          ]
        },
        {
          "name": "stderr",
          "output_type": "stream",
          "text": [
            "WARNING:tensorflow:Early stopping conditioned on metric `val_accuracy` which is not available. Available metrics are: loss,accuracy\n"
          ]
        },
        {
          "name": "stdout",
          "output_type": "stream",
          "text": [
            "152/152 - 1s - loss: 0.1632 - accuracy: 0.9222 - 968ms/epoch - 6ms/step\n",
            "Epoch 153/200\n"
          ]
        },
        {
          "name": "stderr",
          "output_type": "stream",
          "text": [
            "WARNING:tensorflow:Early stopping conditioned on metric `val_accuracy` which is not available. Available metrics are: loss,accuracy\n"
          ]
        },
        {
          "name": "stdout",
          "output_type": "stream",
          "text": [
            "152/152 - 1s - loss: 0.1615 - accuracy: 0.9220 - 943ms/epoch - 6ms/step\n",
            "Epoch 154/200\n"
          ]
        },
        {
          "name": "stderr",
          "output_type": "stream",
          "text": [
            "WARNING:tensorflow:Early stopping conditioned on metric `val_accuracy` which is not available. Available metrics are: loss,accuracy\n"
          ]
        },
        {
          "name": "stdout",
          "output_type": "stream",
          "text": [
            "152/152 - 1s - loss: 0.1623 - accuracy: 0.9224 - 948ms/epoch - 6ms/step\n",
            "Epoch 155/200\n"
          ]
        },
        {
          "name": "stderr",
          "output_type": "stream",
          "text": [
            "WARNING:tensorflow:Early stopping conditioned on metric `val_accuracy` which is not available. Available metrics are: loss,accuracy\n"
          ]
        },
        {
          "name": "stdout",
          "output_type": "stream",
          "text": [
            "152/152 - 1s - loss: 0.1618 - accuracy: 0.9222 - 725ms/epoch - 5ms/step\n",
            "Epoch 156/200\n"
          ]
        },
        {
          "name": "stderr",
          "output_type": "stream",
          "text": [
            "WARNING:tensorflow:Early stopping conditioned on metric `val_accuracy` which is not available. Available metrics are: loss,accuracy\n"
          ]
        },
        {
          "name": "stdout",
          "output_type": "stream",
          "text": [
            "152/152 - 1s - loss: 0.1625 - accuracy: 0.9212 - 698ms/epoch - 5ms/step\n",
            "Epoch 157/200\n"
          ]
        },
        {
          "name": "stderr",
          "output_type": "stream",
          "text": [
            "WARNING:tensorflow:Early stopping conditioned on metric `val_accuracy` which is not available. Available metrics are: loss,accuracy\n"
          ]
        },
        {
          "name": "stdout",
          "output_type": "stream",
          "text": [
            "152/152 - 1s - loss: 0.1612 - accuracy: 0.9237 - 699ms/epoch - 5ms/step\n",
            "Epoch 158/200\n"
          ]
        },
        {
          "name": "stderr",
          "output_type": "stream",
          "text": [
            "WARNING:tensorflow:Early stopping conditioned on metric `val_accuracy` which is not available. Available metrics are: loss,accuracy\n"
          ]
        },
        {
          "name": "stdout",
          "output_type": "stream",
          "text": [
            "152/152 - 1s - loss: 0.1608 - accuracy: 0.9204 - 696ms/epoch - 5ms/step\n",
            "Epoch 159/200\n"
          ]
        },
        {
          "name": "stderr",
          "output_type": "stream",
          "text": [
            "WARNING:tensorflow:Early stopping conditioned on metric `val_accuracy` which is not available. Available metrics are: loss,accuracy\n"
          ]
        },
        {
          "name": "stdout",
          "output_type": "stream",
          "text": [
            "152/152 - 1s - loss: 0.1610 - accuracy: 0.9222 - 709ms/epoch - 5ms/step\n",
            "Epoch 160/200\n"
          ]
        },
        {
          "name": "stderr",
          "output_type": "stream",
          "text": [
            "WARNING:tensorflow:Early stopping conditioned on metric `val_accuracy` which is not available. Available metrics are: loss,accuracy\n"
          ]
        },
        {
          "name": "stdout",
          "output_type": "stream",
          "text": [
            "152/152 - 1s - loss: 0.1602 - accuracy: 0.9224 - 729ms/epoch - 5ms/step\n",
            "Epoch 161/200\n"
          ]
        },
        {
          "name": "stderr",
          "output_type": "stream",
          "text": [
            "WARNING:tensorflow:Early stopping conditioned on metric `val_accuracy` which is not available. Available metrics are: loss,accuracy\n"
          ]
        },
        {
          "name": "stdout",
          "output_type": "stream",
          "text": [
            "152/152 - 1s - loss: 0.1604 - accuracy: 0.9216 - 723ms/epoch - 5ms/step\n",
            "Epoch 162/200\n"
          ]
        },
        {
          "name": "stderr",
          "output_type": "stream",
          "text": [
            "WARNING:tensorflow:Early stopping conditioned on metric `val_accuracy` which is not available. Available metrics are: loss,accuracy\n"
          ]
        },
        {
          "name": "stdout",
          "output_type": "stream",
          "text": [
            "152/152 - 1s - loss: 0.1605 - accuracy: 0.9210 - 700ms/epoch - 5ms/step\n",
            "Epoch 163/200\n"
          ]
        },
        {
          "name": "stderr",
          "output_type": "stream",
          "text": [
            "WARNING:tensorflow:Early stopping conditioned on metric `val_accuracy` which is not available. Available metrics are: loss,accuracy\n"
          ]
        },
        {
          "name": "stdout",
          "output_type": "stream",
          "text": [
            "152/152 - 1s - loss: 0.1610 - accuracy: 0.9212 - 722ms/epoch - 5ms/step\n",
            "Epoch 164/200\n"
          ]
        },
        {
          "name": "stderr",
          "output_type": "stream",
          "text": [
            "WARNING:tensorflow:Early stopping conditioned on metric `val_accuracy` which is not available. Available metrics are: loss,accuracy\n"
          ]
        },
        {
          "name": "stdout",
          "output_type": "stream",
          "text": [
            "152/152 - 1s - loss: 0.1597 - accuracy: 0.9230 - 694ms/epoch - 5ms/step\n",
            "Epoch 165/200\n"
          ]
        },
        {
          "name": "stderr",
          "output_type": "stream",
          "text": [
            "WARNING:tensorflow:Early stopping conditioned on metric `val_accuracy` which is not available. Available metrics are: loss,accuracy\n"
          ]
        },
        {
          "name": "stdout",
          "output_type": "stream",
          "text": [
            "152/152 - 1s - loss: 0.1610 - accuracy: 0.9197 - 690ms/epoch - 5ms/step\n",
            "Epoch 166/200\n"
          ]
        },
        {
          "name": "stderr",
          "output_type": "stream",
          "text": [
            "WARNING:tensorflow:Early stopping conditioned on metric `val_accuracy` which is not available. Available metrics are: loss,accuracy\n"
          ]
        },
        {
          "name": "stdout",
          "output_type": "stream",
          "text": [
            "152/152 - 1s - loss: 0.1595 - accuracy: 0.9230 - 717ms/epoch - 5ms/step\n",
            "Epoch 167/200\n"
          ]
        },
        {
          "name": "stderr",
          "output_type": "stream",
          "text": [
            "WARNING:tensorflow:Early stopping conditioned on metric `val_accuracy` which is not available. Available metrics are: loss,accuracy\n"
          ]
        },
        {
          "name": "stdout",
          "output_type": "stream",
          "text": [
            "152/152 - 1s - loss: 0.1597 - accuracy: 0.9233 - 732ms/epoch - 5ms/step\n",
            "Epoch 168/200\n"
          ]
        },
        {
          "name": "stderr",
          "output_type": "stream",
          "text": [
            "WARNING:tensorflow:Early stopping conditioned on metric `val_accuracy` which is not available. Available metrics are: loss,accuracy\n"
          ]
        },
        {
          "name": "stdout",
          "output_type": "stream",
          "text": [
            "152/152 - 1s - loss: 0.1595 - accuracy: 0.9214 - 724ms/epoch - 5ms/step\n",
            "Epoch 169/200\n"
          ]
        },
        {
          "name": "stderr",
          "output_type": "stream",
          "text": [
            "WARNING:tensorflow:Early stopping conditioned on metric `val_accuracy` which is not available. Available metrics are: loss,accuracy\n"
          ]
        },
        {
          "name": "stdout",
          "output_type": "stream",
          "text": [
            "152/152 - 1s - loss: 0.1593 - accuracy: 0.9208 - 953ms/epoch - 6ms/step\n",
            "Epoch 170/200\n"
          ]
        },
        {
          "name": "stderr",
          "output_type": "stream",
          "text": [
            "WARNING:tensorflow:Early stopping conditioned on metric `val_accuracy` which is not available. Available metrics are: loss,accuracy\n"
          ]
        },
        {
          "name": "stdout",
          "output_type": "stream",
          "text": [
            "152/152 - 1s - loss: 0.1594 - accuracy: 0.9201 - 964ms/epoch - 6ms/step\n",
            "Epoch 171/200\n"
          ]
        },
        {
          "name": "stderr",
          "output_type": "stream",
          "text": [
            "WARNING:tensorflow:Early stopping conditioned on metric `val_accuracy` which is not available. Available metrics are: loss,accuracy\n"
          ]
        },
        {
          "name": "stdout",
          "output_type": "stream",
          "text": [
            "152/152 - 1s - loss: 0.1581 - accuracy: 0.9220 - 965ms/epoch - 6ms/step\n",
            "Epoch 172/200\n"
          ]
        },
        {
          "name": "stderr",
          "output_type": "stream",
          "text": [
            "WARNING:tensorflow:Early stopping conditioned on metric `val_accuracy` which is not available. Available metrics are: loss,accuracy\n"
          ]
        },
        {
          "name": "stdout",
          "output_type": "stream",
          "text": [
            "152/152 - 1s - loss: 0.1587 - accuracy: 0.9210 - 875ms/epoch - 6ms/step\n",
            "Epoch 173/200\n"
          ]
        },
        {
          "name": "stderr",
          "output_type": "stream",
          "text": [
            "WARNING:tensorflow:Early stopping conditioned on metric `val_accuracy` which is not available. Available metrics are: loss,accuracy\n"
          ]
        },
        {
          "name": "stdout",
          "output_type": "stream",
          "text": [
            "152/152 - 1s - loss: 0.1588 - accuracy: 0.9226 - 713ms/epoch - 5ms/step\n",
            "Epoch 174/200\n"
          ]
        },
        {
          "name": "stderr",
          "output_type": "stream",
          "text": [
            "WARNING:tensorflow:Early stopping conditioned on metric `val_accuracy` which is not available. Available metrics are: loss,accuracy\n"
          ]
        },
        {
          "name": "stdout",
          "output_type": "stream",
          "text": [
            "152/152 - 1s - loss: 0.1606 - accuracy: 0.9214 - 702ms/epoch - 5ms/step\n",
            "Epoch 175/200\n"
          ]
        },
        {
          "name": "stderr",
          "output_type": "stream",
          "text": [
            "WARNING:tensorflow:Early stopping conditioned on metric `val_accuracy` which is not available. Available metrics are: loss,accuracy\n"
          ]
        },
        {
          "name": "stdout",
          "output_type": "stream",
          "text": [
            "152/152 - 1s - loss: 0.1597 - accuracy: 0.9208 - 700ms/epoch - 5ms/step\n",
            "Epoch 176/200\n"
          ]
        },
        {
          "name": "stderr",
          "output_type": "stream",
          "text": [
            "WARNING:tensorflow:Early stopping conditioned on metric `val_accuracy` which is not available. Available metrics are: loss,accuracy\n"
          ]
        },
        {
          "name": "stdout",
          "output_type": "stream",
          "text": [
            "152/152 - 1s - loss: 0.1586 - accuracy: 0.9222 - 704ms/epoch - 5ms/step\n",
            "Epoch 177/200\n"
          ]
        },
        {
          "name": "stderr",
          "output_type": "stream",
          "text": [
            "WARNING:tensorflow:Early stopping conditioned on metric `val_accuracy` which is not available. Available metrics are: loss,accuracy\n"
          ]
        },
        {
          "name": "stdout",
          "output_type": "stream",
          "text": [
            "152/152 - 1s - loss: 0.1575 - accuracy: 0.9235 - 690ms/epoch - 5ms/step\n",
            "Epoch 178/200\n"
          ]
        },
        {
          "name": "stderr",
          "output_type": "stream",
          "text": [
            "WARNING:tensorflow:Early stopping conditioned on metric `val_accuracy` which is not available. Available metrics are: loss,accuracy\n"
          ]
        },
        {
          "name": "stdout",
          "output_type": "stream",
          "text": [
            "152/152 - 1s - loss: 0.1586 - accuracy: 0.9228 - 689ms/epoch - 5ms/step\n",
            "Epoch 179/200\n"
          ]
        },
        {
          "name": "stderr",
          "output_type": "stream",
          "text": [
            "WARNING:tensorflow:Early stopping conditioned on metric `val_accuracy` which is not available. Available metrics are: loss,accuracy\n"
          ]
        },
        {
          "name": "stdout",
          "output_type": "stream",
          "text": [
            "152/152 - 1s - loss: 0.1570 - accuracy: 0.9208 - 900ms/epoch - 6ms/step\n",
            "Epoch 180/200\n"
          ]
        },
        {
          "name": "stderr",
          "output_type": "stream",
          "text": [
            "WARNING:tensorflow:Early stopping conditioned on metric `val_accuracy` which is not available. Available metrics are: loss,accuracy\n"
          ]
        },
        {
          "name": "stdout",
          "output_type": "stream",
          "text": [
            "152/152 - 1s - loss: 0.1567 - accuracy: 0.9220 - 699ms/epoch - 5ms/step\n",
            "Epoch 181/200\n"
          ]
        },
        {
          "name": "stderr",
          "output_type": "stream",
          "text": [
            "WARNING:tensorflow:Early stopping conditioned on metric `val_accuracy` which is not available. Available metrics are: loss,accuracy\n"
          ]
        },
        {
          "name": "stdout",
          "output_type": "stream",
          "text": [
            "152/152 - 1s - loss: 0.1568 - accuracy: 0.9222 - 717ms/epoch - 5ms/step\n",
            "Epoch 182/200\n"
          ]
        },
        {
          "name": "stderr",
          "output_type": "stream",
          "text": [
            "WARNING:tensorflow:Early stopping conditioned on metric `val_accuracy` which is not available. Available metrics are: loss,accuracy\n"
          ]
        },
        {
          "name": "stdout",
          "output_type": "stream",
          "text": [
            "152/152 - 1s - loss: 0.1569 - accuracy: 0.9233 - 701ms/epoch - 5ms/step\n",
            "Epoch 183/200\n"
          ]
        },
        {
          "name": "stderr",
          "output_type": "stream",
          "text": [
            "WARNING:tensorflow:Early stopping conditioned on metric `val_accuracy` which is not available. Available metrics are: loss,accuracy\n"
          ]
        },
        {
          "name": "stdout",
          "output_type": "stream",
          "text": [
            "152/152 - 1s - loss: 0.1570 - accuracy: 0.9249 - 689ms/epoch - 5ms/step\n",
            "Epoch 184/200\n"
          ]
        },
        {
          "name": "stderr",
          "output_type": "stream",
          "text": [
            "WARNING:tensorflow:Early stopping conditioned on metric `val_accuracy` which is not available. Available metrics are: loss,accuracy\n"
          ]
        },
        {
          "name": "stdout",
          "output_type": "stream",
          "text": [
            "152/152 - 1s - loss: 0.1563 - accuracy: 0.9222 - 683ms/epoch - 4ms/step\n",
            "Epoch 185/200\n"
          ]
        },
        {
          "name": "stderr",
          "output_type": "stream",
          "text": [
            "WARNING:tensorflow:Early stopping conditioned on metric `val_accuracy` which is not available. Available metrics are: loss,accuracy\n"
          ]
        },
        {
          "name": "stdout",
          "output_type": "stream",
          "text": [
            "152/152 - 1s - loss: 0.1563 - accuracy: 0.9230 - 701ms/epoch - 5ms/step\n",
            "Epoch 186/200\n"
          ]
        },
        {
          "name": "stderr",
          "output_type": "stream",
          "text": [
            "WARNING:tensorflow:Early stopping conditioned on metric `val_accuracy` which is not available. Available metrics are: loss,accuracy\n"
          ]
        },
        {
          "name": "stdout",
          "output_type": "stream",
          "text": [
            "152/152 - 1s - loss: 0.1566 - accuracy: 0.9224 - 881ms/epoch - 6ms/step\n",
            "Epoch 187/200\n"
          ]
        },
        {
          "name": "stderr",
          "output_type": "stream",
          "text": [
            "WARNING:tensorflow:Early stopping conditioned on metric `val_accuracy` which is not available. Available metrics are: loss,accuracy\n"
          ]
        },
        {
          "name": "stdout",
          "output_type": "stream",
          "text": [
            "152/152 - 1s - loss: 0.1568 - accuracy: 0.9216 - 954ms/epoch - 6ms/step\n",
            "Epoch 188/200\n"
          ]
        },
        {
          "name": "stderr",
          "output_type": "stream",
          "text": [
            "WARNING:tensorflow:Early stopping conditioned on metric `val_accuracy` which is not available. Available metrics are: loss,accuracy\n"
          ]
        },
        {
          "name": "stdout",
          "output_type": "stream",
          "text": [
            "152/152 - 1s - loss: 0.1617 - accuracy: 0.9193 - 975ms/epoch - 6ms/step\n",
            "Epoch 189/200\n"
          ]
        },
        {
          "name": "stderr",
          "output_type": "stream",
          "text": [
            "WARNING:tensorflow:Early stopping conditioned on metric `val_accuracy` which is not available. Available metrics are: loss,accuracy\n"
          ]
        },
        {
          "name": "stdout",
          "output_type": "stream",
          "text": [
            "152/152 - 1s - loss: 0.1596 - accuracy: 0.9228 - 996ms/epoch - 7ms/step\n",
            "Epoch 190/200\n"
          ]
        },
        {
          "name": "stderr",
          "output_type": "stream",
          "text": [
            "WARNING:tensorflow:Early stopping conditioned on metric `val_accuracy` which is not available. Available metrics are: loss,accuracy\n"
          ]
        },
        {
          "name": "stdout",
          "output_type": "stream",
          "text": [
            "152/152 - 1s - loss: 0.1876 - accuracy: 0.9148 - 710ms/epoch - 5ms/step\n",
            "Epoch 191/200\n"
          ]
        },
        {
          "name": "stderr",
          "output_type": "stream",
          "text": [
            "WARNING:tensorflow:Early stopping conditioned on metric `val_accuracy` which is not available. Available metrics are: loss,accuracy\n"
          ]
        },
        {
          "name": "stdout",
          "output_type": "stream",
          "text": [
            "152/152 - 1s - loss: 0.2333 - accuracy: 0.9065 - 695ms/epoch - 5ms/step\n",
            "Epoch 192/200\n"
          ]
        },
        {
          "name": "stderr",
          "output_type": "stream",
          "text": [
            "WARNING:tensorflow:Early stopping conditioned on metric `val_accuracy` which is not available. Available metrics are: loss,accuracy\n"
          ]
        },
        {
          "name": "stdout",
          "output_type": "stream",
          "text": [
            "152/152 - 1s - loss: 0.1599 - accuracy: 0.9224 - 687ms/epoch - 5ms/step\n",
            "Epoch 193/200\n"
          ]
        },
        {
          "name": "stderr",
          "output_type": "stream",
          "text": [
            "WARNING:tensorflow:Early stopping conditioned on metric `val_accuracy` which is not available. Available metrics are: loss,accuracy\n"
          ]
        },
        {
          "name": "stdout",
          "output_type": "stream",
          "text": [
            "152/152 - 1s - loss: 0.1552 - accuracy: 0.9220 - 715ms/epoch - 5ms/step\n",
            "Epoch 194/200\n"
          ]
        },
        {
          "name": "stderr",
          "output_type": "stream",
          "text": [
            "WARNING:tensorflow:Early stopping conditioned on metric `val_accuracy` which is not available. Available metrics are: loss,accuracy\n"
          ]
        },
        {
          "name": "stdout",
          "output_type": "stream",
          "text": [
            "152/152 - 1s - loss: 0.1543 - accuracy: 0.9226 - 704ms/epoch - 5ms/step\n",
            "Epoch 195/200\n"
          ]
        },
        {
          "name": "stderr",
          "output_type": "stream",
          "text": [
            "WARNING:tensorflow:Early stopping conditioned on metric `val_accuracy` which is not available. Available metrics are: loss,accuracy\n"
          ]
        },
        {
          "name": "stdout",
          "output_type": "stream",
          "text": [
            "152/152 - 1s - loss: 0.1541 - accuracy: 0.9224 - 699ms/epoch - 5ms/step\n",
            "Epoch 196/200\n"
          ]
        },
        {
          "name": "stderr",
          "output_type": "stream",
          "text": [
            "WARNING:tensorflow:Early stopping conditioned on metric `val_accuracy` which is not available. Available metrics are: loss,accuracy\n"
          ]
        },
        {
          "name": "stdout",
          "output_type": "stream",
          "text": [
            "152/152 - 1s - loss: 0.1544 - accuracy: 0.9208 - 693ms/epoch - 5ms/step\n",
            "Epoch 197/200\n"
          ]
        },
        {
          "name": "stderr",
          "output_type": "stream",
          "text": [
            "WARNING:tensorflow:Early stopping conditioned on metric `val_accuracy` which is not available. Available metrics are: loss,accuracy\n"
          ]
        },
        {
          "name": "stdout",
          "output_type": "stream",
          "text": [
            "152/152 - 1s - loss: 0.1537 - accuracy: 0.9237 - 717ms/epoch - 5ms/step\n",
            "Epoch 198/200\n"
          ]
        },
        {
          "name": "stderr",
          "output_type": "stream",
          "text": [
            "WARNING:tensorflow:Early stopping conditioned on metric `val_accuracy` which is not available. Available metrics are: loss,accuracy\n"
          ]
        },
        {
          "name": "stdout",
          "output_type": "stream",
          "text": [
            "152/152 - 1s - loss: 0.1538 - accuracy: 0.9230 - 704ms/epoch - 5ms/step\n",
            "Epoch 199/200\n"
          ]
        },
        {
          "name": "stderr",
          "output_type": "stream",
          "text": [
            "WARNING:tensorflow:Early stopping conditioned on metric `val_accuracy` which is not available. Available metrics are: loss,accuracy\n"
          ]
        },
        {
          "name": "stdout",
          "output_type": "stream",
          "text": [
            "152/152 - 1s - loss: 0.1538 - accuracy: 0.9220 - 734ms/epoch - 5ms/step\n",
            "Epoch 200/200\n"
          ]
        },
        {
          "name": "stderr",
          "output_type": "stream",
          "text": [
            "WARNING:tensorflow:Early stopping conditioned on metric `val_accuracy` which is not available. Available metrics are: loss,accuracy\n"
          ]
        },
        {
          "name": "stdout",
          "output_type": "stream",
          "text": [
            "152/152 - 1s - loss: 0.1537 - accuracy: 0.9220 - 706ms/epoch - 5ms/step\n"
          ]
        },
        {
          "data": {
            "text/plain": [
              "<keras.callbacks.History at 0x7b28a8ea1fc0>"
            ]
          },
          "execution_count": 41,
          "metadata": {},
          "output_type": "execute_result"
        }
      ],
      "source": [
        "model.compile(loss = 'categorical_crossentropy',\n",
        "              optimizer = 'adam',\n",
        "              metrics = ['accuracy'],\n",
        "              )\n",
        "\n",
        "model.fit(x,y,epochs=200,verbose=2,callbacks = [es])"
      ]
    },
    {
      "cell_type": "code",
      "execution_count": null,
      "metadata": {
        "colab": {
          "base_uri": "https://localhost:8080/",
          "height": 1000
        },
        "id": "fP-jAdyzmdXD",
        "outputId": "13933e33-f31c-4264-ef97-c6427d9f8536"
      },
      "outputs": [
        {
          "name": "stdout",
          "output_type": "stream",
          "text": [
            "Epoch 1/200\n",
            "152/152 - 4s - loss: 7.6923 - accuracy: 0.0083 - 4s/epoch - 28ms/step\n",
            "Epoch 2/200\n",
            "152/152 - 1s - loss: 7.6921 - accuracy: 0.0083 - 1s/epoch - 9ms/step\n",
            "Epoch 3/200\n",
            "152/152 - 1s - loss: 7.6920 - accuracy: 0.0083 - 1s/epoch - 8ms/step\n",
            "Epoch 4/200\n",
            "152/152 - 1s - loss: 7.6919 - accuracy: 0.0083 - 1s/epoch - 10ms/step\n",
            "Epoch 5/200\n",
            "152/152 - 1s - loss: 7.6916 - accuracy: 0.0083 - 835ms/epoch - 5ms/step\n",
            "Epoch 6/200\n",
            "152/152 - 1s - loss: 7.6914 - accuracy: 0.0083 - 720ms/epoch - 5ms/step\n",
            "Epoch 7/200\n",
            "152/152 - 1s - loss: 7.6913 - accuracy: 0.0083 - 787ms/epoch - 5ms/step\n",
            "Epoch 8/200\n",
            "152/152 - 1s - loss: 7.6912 - accuracy: 0.0083 - 744ms/epoch - 5ms/step\n",
            "Epoch 9/200\n",
            "152/152 - 1s - loss: 7.6909 - accuracy: 0.0083 - 785ms/epoch - 5ms/step\n",
            "Epoch 10/200\n",
            "152/152 - 1s - loss: 7.6908 - accuracy: 0.0083 - 704ms/epoch - 5ms/step\n",
            "Epoch 11/200\n",
            "152/152 - 1s - loss: 7.6908 - accuracy: 0.0083 - 771ms/epoch - 5ms/step\n",
            "Epoch 12/200\n",
            "152/152 - 1s - loss: 7.6907 - accuracy: 0.0083 - 878ms/epoch - 6ms/step\n",
            "Epoch 13/200\n",
            "152/152 - 1s - loss: 7.6904 - accuracy: 0.0083 - 720ms/epoch - 5ms/step\n",
            "Epoch 14/200\n",
            "152/152 - 1s - loss: 7.6903 - accuracy: 0.0083 - 757ms/epoch - 5ms/step\n",
            "Epoch 15/200\n",
            "152/152 - 1s - loss: 7.6902 - accuracy: 0.0083 - 751ms/epoch - 5ms/step\n",
            "Epoch 16/200\n",
            "152/152 - 1s - loss: 7.6900 - accuracy: 0.0083 - 704ms/epoch - 5ms/step\n",
            "Epoch 17/200\n",
            "152/152 - 1s - loss: 7.6899 - accuracy: 0.0083 - 690ms/epoch - 5ms/step\n",
            "Epoch 18/200\n",
            "152/152 - 1s - loss: 7.6898 - accuracy: 0.0083 - 920ms/epoch - 6ms/step\n",
            "Epoch 19/200\n",
            "152/152 - 1s - loss: 7.6897 - accuracy: 0.0083 - 958ms/epoch - 6ms/step\n",
            "Epoch 20/200\n",
            "152/152 - 1s - loss: 7.6895 - accuracy: 0.0083 - 1s/epoch - 7ms/step\n",
            "Epoch 21/200\n",
            "152/152 - 1s - loss: 7.6894 - accuracy: 0.0083 - 964ms/epoch - 6ms/step\n",
            "Epoch 22/200\n",
            "152/152 - 1s - loss: 7.6895 - accuracy: 0.0083 - 742ms/epoch - 5ms/step\n",
            "Epoch 23/200\n",
            "152/152 - 1s - loss: 7.6892 - accuracy: 0.0083 - 711ms/epoch - 5ms/step\n",
            "Epoch 24/200\n",
            "152/152 - 1s - loss: 7.6889 - accuracy: 0.0083 - 703ms/epoch - 5ms/step\n",
            "Epoch 25/200\n",
            "152/152 - 1s - loss: 7.6889 - accuracy: 0.0083 - 704ms/epoch - 5ms/step\n",
            "Epoch 26/200\n",
            "152/152 - 1s - loss: 7.6887 - accuracy: 0.0083 - 704ms/epoch - 5ms/step\n",
            "Epoch 27/200\n",
            "152/152 - 1s - loss: 7.6888 - accuracy: 0.0083 - 696ms/epoch - 5ms/step\n",
            "Epoch 28/200\n",
            "152/152 - 1s - loss: 7.6888 - accuracy: 0.0083 - 692ms/epoch - 5ms/step\n",
            "Epoch 29/200\n",
            "152/152 - 1s - loss: 7.6885 - accuracy: 0.0083 - 712ms/epoch - 5ms/step\n",
            "Epoch 30/200\n",
            "152/152 - 1s - loss: 7.6884 - accuracy: 0.0083 - 701ms/epoch - 5ms/step\n",
            "Epoch 31/200\n",
            "152/152 - 1s - loss: 7.6883 - accuracy: 0.0083 - 712ms/epoch - 5ms/step\n",
            "Epoch 32/200\n",
            "152/152 - 1s - loss: 7.6881 - accuracy: 0.0083 - 695ms/epoch - 5ms/step\n",
            "Epoch 33/200\n",
            "152/152 - 1s - loss: 7.6882 - accuracy: 0.0083 - 694ms/epoch - 5ms/step\n",
            "Epoch 34/200\n",
            "152/152 - 1s - loss: 7.6879 - accuracy: 0.0083 - 705ms/epoch - 5ms/step\n",
            "Epoch 35/200\n",
            "152/152 - 1s - loss: 7.6878 - accuracy: 0.0083 - 819ms/epoch - 5ms/step\n",
            "Epoch 36/200\n",
            "152/152 - 1s - loss: 7.6879 - accuracy: 0.0083 - 940ms/epoch - 6ms/step\n",
            "Epoch 37/200\n",
            "152/152 - 1s - loss: 7.6875 - accuracy: 0.0083 - 980ms/epoch - 6ms/step\n",
            "Epoch 38/200\n",
            "152/152 - 1s - loss: 7.6874 - accuracy: 0.0083 - 1s/epoch - 7ms/step\n",
            "Epoch 39/200\n",
            "152/152 - 1s - loss: 7.6874 - accuracy: 0.0083 - 731ms/epoch - 5ms/step\n",
            "Epoch 40/200\n",
            "152/152 - 1s - loss: 7.6873 - accuracy: 0.0083 - 708ms/epoch - 5ms/step\n",
            "Epoch 41/200\n",
            "152/152 - 1s - loss: 7.6872 - accuracy: 0.0083 - 700ms/epoch - 5ms/step\n",
            "Epoch 42/200\n",
            "152/152 - 1s - loss: 7.6874 - accuracy: 0.0083 - 735ms/epoch - 5ms/step\n",
            "Epoch 43/200\n",
            "152/152 - 1s - loss: 7.6872 - accuracy: 0.0083 - 1s/epoch - 7ms/step\n",
            "Epoch 44/200\n",
            "152/152 - 1s - loss: 7.6871 - accuracy: 0.0083 - 707ms/epoch - 5ms/step\n",
            "Epoch 45/200\n",
            "152/152 - 1s - loss: 7.6869 - accuracy: 0.0083 - 719ms/epoch - 5ms/step\n",
            "Epoch 46/200\n",
            "152/152 - 1s - loss: 7.6870 - accuracy: 0.0083 - 722ms/epoch - 5ms/step\n",
            "Epoch 47/200\n",
            "152/152 - 1s - loss: 7.6867 - accuracy: 0.0083 - 783ms/epoch - 5ms/step\n",
            "Epoch 48/200\n",
            "152/152 - 1s - loss: 7.6867 - accuracy: 0.0083 - 742ms/epoch - 5ms/step\n",
            "Epoch 49/200\n",
            "152/152 - 1s - loss: 7.6864 - accuracy: 0.0083 - 741ms/epoch - 5ms/step\n",
            "Epoch 50/200\n",
            "152/152 - 1s - loss: 7.6864 - accuracy: 0.0083 - 779ms/epoch - 5ms/step\n",
            "Epoch 51/200\n",
            "152/152 - 1s - loss: 7.6863 - accuracy: 0.0083 - 697ms/epoch - 5ms/step\n",
            "Epoch 52/200\n",
            "152/152 - 1s - loss: 7.6862 - accuracy: 0.0083 - 944ms/epoch - 6ms/step\n",
            "Epoch 53/200\n",
            "152/152 - 1s - loss: 7.6862 - accuracy: 0.0083 - 1s/epoch - 7ms/step\n",
            "Epoch 54/200\n",
            "152/152 - 1s - loss: 7.6862 - accuracy: 0.0083 - 985ms/epoch - 6ms/step\n",
            "Epoch 55/200\n",
            "152/152 - 1s - loss: 7.6862 - accuracy: 0.0083 - 921ms/epoch - 6ms/step\n",
            "Epoch 56/200\n",
            "152/152 - 1s - loss: 7.6861 - accuracy: 0.0083 - 744ms/epoch - 5ms/step\n",
            "Epoch 57/200\n",
            "152/152 - 1s - loss: 7.6862 - accuracy: 0.0081 - 722ms/epoch - 5ms/step\n",
            "Epoch 58/200\n",
            "152/152 - 1s - loss: 7.6859 - accuracy: 0.0083 - 704ms/epoch - 5ms/step\n",
            "Epoch 59/200\n",
            "152/152 - 1s - loss: 7.6858 - accuracy: 0.0083 - 731ms/epoch - 5ms/step\n",
            "Epoch 60/200\n",
            "152/152 - 1s - loss: 7.6859 - accuracy: 0.0083 - 759ms/epoch - 5ms/step\n",
            "Epoch 61/200\n",
            "152/152 - 1s - loss: 7.6855 - accuracy: 0.0083 - 735ms/epoch - 5ms/step\n",
            "Epoch 62/200\n",
            "152/152 - 1s - loss: 7.6855 - accuracy: 0.0083 - 730ms/epoch - 5ms/step\n",
            "Epoch 63/200\n",
            "152/152 - 1s - loss: 7.6855 - accuracy: 0.0083 - 742ms/epoch - 5ms/step\n",
            "Epoch 64/200\n",
            "152/152 - 1s - loss: 7.6854 - accuracy: 0.0083 - 714ms/epoch - 5ms/step\n",
            "Epoch 65/200\n",
            "152/152 - 1s - loss: 7.6854 - accuracy: 0.0083 - 834ms/epoch - 5ms/step\n",
            "Epoch 66/200\n",
            "152/152 - 1s - loss: 7.6853 - accuracy: 0.0083 - 972ms/epoch - 6ms/step\n",
            "Epoch 67/200\n",
            "152/152 - 1s - loss: 7.6852 - accuracy: 0.0083 - 729ms/epoch - 5ms/step\n",
            "Epoch 68/200\n",
            "152/152 - 1s - loss: 7.6851 - accuracy: 0.0083 - 821ms/epoch - 5ms/step\n",
            "Epoch 69/200\n",
            "152/152 - 1s - loss: 7.6850 - accuracy: 0.0083 - 963ms/epoch - 6ms/step\n",
            "Epoch 70/200\n",
            "152/152 - 1s - loss: 7.6849 - accuracy: 0.0083 - 1s/epoch - 7ms/step\n",
            "Epoch 71/200\n",
            "152/152 - 1s - loss: 7.6848 - accuracy: 0.0083 - 1s/epoch - 7ms/step\n",
            "Epoch 72/200\n",
            "152/152 - 1s - loss: 7.6847 - accuracy: 0.0083 - 820ms/epoch - 5ms/step\n",
            "Epoch 73/200\n",
            "152/152 - 1s - loss: 7.6846 - accuracy: 0.0083 - 722ms/epoch - 5ms/step\n",
            "Epoch 74/200\n",
            "152/152 - 1s - loss: 7.6847 - accuracy: 0.0083 - 726ms/epoch - 5ms/step\n",
            "Epoch 75/200\n",
            "152/152 - 1s - loss: 7.6846 - accuracy: 0.0083 - 728ms/epoch - 5ms/step\n",
            "Epoch 76/200\n",
            "152/152 - 1s - loss: 7.6845 - accuracy: 0.0083 - 778ms/epoch - 5ms/step\n",
            "Epoch 77/200\n",
            "152/152 - 1s - loss: 7.6844 - accuracy: 0.0083 - 721ms/epoch - 5ms/step\n",
            "Epoch 78/200\n",
            "152/152 - 1s - loss: 7.6843 - accuracy: 0.0083 - 722ms/epoch - 5ms/step\n",
            "Epoch 79/200\n",
            "152/152 - 1s - loss: 7.6843 - accuracy: 0.0083 - 739ms/epoch - 5ms/step\n",
            "Epoch 80/200\n",
            "152/152 - 1s - loss: 7.6842 - accuracy: 0.0083 - 717ms/epoch - 5ms/step\n",
            "Epoch 81/200\n",
            "152/152 - 1s - loss: 7.6843 - accuracy: 0.0083 - 714ms/epoch - 5ms/step\n",
            "Epoch 82/200\n",
            "152/152 - 1s - loss: 7.6843 - accuracy: 0.0083 - 735ms/epoch - 5ms/step\n",
            "Epoch 83/200\n",
            "152/152 - 1s - loss: 7.6842 - accuracy: 0.0083 - 709ms/epoch - 5ms/step\n",
            "Epoch 84/200\n",
            "152/152 - 1s - loss: 7.6840 - accuracy: 0.0083 - 729ms/epoch - 5ms/step\n",
            "Epoch 85/200\n",
            "152/152 - 1s - loss: 7.6842 - accuracy: 0.0068 - 719ms/epoch - 5ms/step\n",
            "Epoch 86/200\n",
            "152/152 - 1s - loss: 7.6840 - accuracy: 0.0083 - 1s/epoch - 7ms/step\n",
            "Epoch 87/200\n",
            "152/152 - 1s - loss: 7.6839 - accuracy: 0.0083 - 987ms/epoch - 6ms/step\n",
            "Epoch 88/200\n",
            "152/152 - 1s - loss: 7.6838 - accuracy: 0.0083 - 966ms/epoch - 6ms/step\n",
            "Epoch 89/200\n",
            "152/152 - 1s - loss: 7.6837 - accuracy: 0.0083 - 881ms/epoch - 6ms/step\n",
            "Epoch 90/200\n",
            "152/152 - 1s - loss: 7.6837 - accuracy: 0.0083 - 728ms/epoch - 5ms/step\n",
            "Epoch 91/200\n",
            "152/152 - 1s - loss: 7.6839 - accuracy: 0.0083 - 718ms/epoch - 5ms/step\n",
            "Epoch 92/200\n",
            "152/152 - 1s - loss: 7.6837 - accuracy: 0.0083 - 700ms/epoch - 5ms/step\n",
            "Epoch 93/200\n",
            "152/152 - 1s - loss: 7.6837 - accuracy: 0.0083 - 701ms/epoch - 5ms/step\n",
            "Epoch 94/200\n",
            "152/152 - 1s - loss: 7.6835 - accuracy: 0.0083 - 723ms/epoch - 5ms/step\n",
            "Epoch 95/200\n",
            "152/152 - 1s - loss: 7.6835 - accuracy: 0.0083 - 761ms/epoch - 5ms/step\n",
            "Epoch 96/200\n",
            "152/152 - 1s - loss: 7.6835 - accuracy: 0.0083 - 773ms/epoch - 5ms/step\n",
            "Epoch 97/200\n",
            "152/152 - 1s - loss: 7.6834 - accuracy: 0.0083 - 699ms/epoch - 5ms/step\n",
            "Epoch 98/200\n"
          ]
        },
        {
          "ename": "KeyboardInterrupt",
          "evalue": "ignored",
          "output_type": "error",
          "traceback": [
            "\u001b[0;31m---------------------------------------------------------------------------\u001b[0m",
            "\u001b[0;31mKeyboardInterrupt\u001b[0m                         Traceback (most recent call last)",
            "\u001b[0;32m<ipython-input-36-609fc65c2476>\u001b[0m in \u001b[0;36m<cell line: 6>\u001b[0;34m()\u001b[0m\n\u001b[1;32m      4\u001b[0m               )\n\u001b[1;32m      5\u001b[0m \u001b[0;34m\u001b[0m\u001b[0m\n\u001b[0;32m----> 6\u001b[0;31m \u001b[0mmodel\u001b[0m\u001b[0;34m.\u001b[0m\u001b[0mfit\u001b[0m\u001b[0;34m(\u001b[0m\u001b[0mx\u001b[0m\u001b[0;34m,\u001b[0m\u001b[0my\u001b[0m\u001b[0;34m,\u001b[0m\u001b[0mepochs\u001b[0m\u001b[0;34m=\u001b[0m\u001b[0;36m200\u001b[0m\u001b[0;34m,\u001b[0m\u001b[0mverbose\u001b[0m\u001b[0;34m=\u001b[0m\u001b[0;36m2\u001b[0m\u001b[0;34m)\u001b[0m\u001b[0;34m\u001b[0m\u001b[0;34m\u001b[0m\u001b[0m\n\u001b[0m",
            "\u001b[0;32m/usr/local/lib/python3.10/dist-packages/keras/utils/traceback_utils.py\u001b[0m in \u001b[0;36merror_handler\u001b[0;34m(*args, **kwargs)\u001b[0m\n\u001b[1;32m     63\u001b[0m         \u001b[0mfiltered_tb\u001b[0m \u001b[0;34m=\u001b[0m \u001b[0;32mNone\u001b[0m\u001b[0;34m\u001b[0m\u001b[0;34m\u001b[0m\u001b[0m\n\u001b[1;32m     64\u001b[0m         \u001b[0;32mtry\u001b[0m\u001b[0;34m:\u001b[0m\u001b[0;34m\u001b[0m\u001b[0;34m\u001b[0m\u001b[0m\n\u001b[0;32m---> 65\u001b[0;31m             \u001b[0;32mreturn\u001b[0m \u001b[0mfn\u001b[0m\u001b[0;34m(\u001b[0m\u001b[0;34m*\u001b[0m\u001b[0margs\u001b[0m\u001b[0;34m,\u001b[0m \u001b[0;34m**\u001b[0m\u001b[0mkwargs\u001b[0m\u001b[0;34m)\u001b[0m\u001b[0;34m\u001b[0m\u001b[0;34m\u001b[0m\u001b[0m\n\u001b[0m\u001b[1;32m     66\u001b[0m         \u001b[0;32mexcept\u001b[0m \u001b[0mException\u001b[0m \u001b[0;32mas\u001b[0m \u001b[0me\u001b[0m\u001b[0;34m:\u001b[0m\u001b[0;34m\u001b[0m\u001b[0;34m\u001b[0m\u001b[0m\n\u001b[1;32m     67\u001b[0m             \u001b[0mfiltered_tb\u001b[0m \u001b[0;34m=\u001b[0m \u001b[0m_process_traceback_frames\u001b[0m\u001b[0;34m(\u001b[0m\u001b[0me\u001b[0m\u001b[0;34m.\u001b[0m\u001b[0m__traceback__\u001b[0m\u001b[0;34m)\u001b[0m\u001b[0;34m\u001b[0m\u001b[0;34m\u001b[0m\u001b[0m\n",
            "\u001b[0;32m/usr/local/lib/python3.10/dist-packages/keras/engine/training.py\u001b[0m in \u001b[0;36mfit\u001b[0;34m(self, x, y, batch_size, epochs, verbose, callbacks, validation_split, validation_data, shuffle, class_weight, sample_weight, initial_epoch, steps_per_epoch, validation_steps, validation_batch_size, validation_freq, max_queue_size, workers, use_multiprocessing)\u001b[0m\n\u001b[1;32m   1683\u001b[0m                         ):\n\u001b[1;32m   1684\u001b[0m                             \u001b[0mcallbacks\u001b[0m\u001b[0;34m.\u001b[0m\u001b[0mon_train_batch_begin\u001b[0m\u001b[0;34m(\u001b[0m\u001b[0mstep\u001b[0m\u001b[0;34m)\u001b[0m\u001b[0;34m\u001b[0m\u001b[0;34m\u001b[0m\u001b[0m\n\u001b[0;32m-> 1685\u001b[0;31m                             \u001b[0mtmp_logs\u001b[0m \u001b[0;34m=\u001b[0m \u001b[0mself\u001b[0m\u001b[0;34m.\u001b[0m\u001b[0mtrain_function\u001b[0m\u001b[0;34m(\u001b[0m\u001b[0miterator\u001b[0m\u001b[0;34m)\u001b[0m\u001b[0;34m\u001b[0m\u001b[0;34m\u001b[0m\u001b[0m\n\u001b[0m\u001b[1;32m   1686\u001b[0m                             \u001b[0;32mif\u001b[0m \u001b[0mdata_handler\u001b[0m\u001b[0;34m.\u001b[0m\u001b[0mshould_sync\u001b[0m\u001b[0;34m:\u001b[0m\u001b[0;34m\u001b[0m\u001b[0;34m\u001b[0m\u001b[0m\n\u001b[1;32m   1687\u001b[0m                                 \u001b[0mcontext\u001b[0m\u001b[0;34m.\u001b[0m\u001b[0masync_wait\u001b[0m\u001b[0;34m(\u001b[0m\u001b[0;34m)\u001b[0m\u001b[0;34m\u001b[0m\u001b[0;34m\u001b[0m\u001b[0m\n",
            "\u001b[0;32m/usr/local/lib/python3.10/dist-packages/tensorflow/python/util/traceback_utils.py\u001b[0m in \u001b[0;36merror_handler\u001b[0;34m(*args, **kwargs)\u001b[0m\n\u001b[1;32m    148\u001b[0m     \u001b[0mfiltered_tb\u001b[0m \u001b[0;34m=\u001b[0m \u001b[0;32mNone\u001b[0m\u001b[0;34m\u001b[0m\u001b[0;34m\u001b[0m\u001b[0m\n\u001b[1;32m    149\u001b[0m     \u001b[0;32mtry\u001b[0m\u001b[0;34m:\u001b[0m\u001b[0;34m\u001b[0m\u001b[0;34m\u001b[0m\u001b[0m\n\u001b[0;32m--> 150\u001b[0;31m       \u001b[0;32mreturn\u001b[0m \u001b[0mfn\u001b[0m\u001b[0;34m(\u001b[0m\u001b[0;34m*\u001b[0m\u001b[0margs\u001b[0m\u001b[0;34m,\u001b[0m \u001b[0;34m**\u001b[0m\u001b[0mkwargs\u001b[0m\u001b[0;34m)\u001b[0m\u001b[0;34m\u001b[0m\u001b[0;34m\u001b[0m\u001b[0m\n\u001b[0m\u001b[1;32m    151\u001b[0m     \u001b[0;32mexcept\u001b[0m \u001b[0mException\u001b[0m \u001b[0;32mas\u001b[0m \u001b[0me\u001b[0m\u001b[0;34m:\u001b[0m\u001b[0;34m\u001b[0m\u001b[0;34m\u001b[0m\u001b[0m\n\u001b[1;32m    152\u001b[0m       \u001b[0mfiltered_tb\u001b[0m \u001b[0;34m=\u001b[0m \u001b[0m_process_traceback_frames\u001b[0m\u001b[0;34m(\u001b[0m\u001b[0me\u001b[0m\u001b[0;34m.\u001b[0m\u001b[0m__traceback__\u001b[0m\u001b[0;34m)\u001b[0m\u001b[0;34m\u001b[0m\u001b[0;34m\u001b[0m\u001b[0m\n",
            "\u001b[0;32m/usr/local/lib/python3.10/dist-packages/tensorflow/python/eager/polymorphic_function/polymorphic_function.py\u001b[0m in \u001b[0;36m__call__\u001b[0;34m(self, *args, **kwds)\u001b[0m\n\u001b[1;32m    892\u001b[0m \u001b[0;34m\u001b[0m\u001b[0m\n\u001b[1;32m    893\u001b[0m       \u001b[0;32mwith\u001b[0m \u001b[0mOptionalXlaContext\u001b[0m\u001b[0;34m(\u001b[0m\u001b[0mself\u001b[0m\u001b[0;34m.\u001b[0m\u001b[0m_jit_compile\u001b[0m\u001b[0;34m)\u001b[0m\u001b[0;34m:\u001b[0m\u001b[0;34m\u001b[0m\u001b[0;34m\u001b[0m\u001b[0m\n\u001b[0;32m--> 894\u001b[0;31m         \u001b[0mresult\u001b[0m \u001b[0;34m=\u001b[0m \u001b[0mself\u001b[0m\u001b[0;34m.\u001b[0m\u001b[0m_call\u001b[0m\u001b[0;34m(\u001b[0m\u001b[0;34m*\u001b[0m\u001b[0margs\u001b[0m\u001b[0;34m,\u001b[0m \u001b[0;34m**\u001b[0m\u001b[0mkwds\u001b[0m\u001b[0;34m)\u001b[0m\u001b[0;34m\u001b[0m\u001b[0;34m\u001b[0m\u001b[0m\n\u001b[0m\u001b[1;32m    895\u001b[0m \u001b[0;34m\u001b[0m\u001b[0m\n\u001b[1;32m    896\u001b[0m       \u001b[0mnew_tracing_count\u001b[0m \u001b[0;34m=\u001b[0m \u001b[0mself\u001b[0m\u001b[0;34m.\u001b[0m\u001b[0mexperimental_get_tracing_count\u001b[0m\u001b[0;34m(\u001b[0m\u001b[0;34m)\u001b[0m\u001b[0;34m\u001b[0m\u001b[0;34m\u001b[0m\u001b[0m\n",
            "\u001b[0;32m/usr/local/lib/python3.10/dist-packages/tensorflow/python/eager/polymorphic_function/polymorphic_function.py\u001b[0m in \u001b[0;36m_call\u001b[0;34m(self, *args, **kwds)\u001b[0m\n\u001b[1;32m    924\u001b[0m       \u001b[0;31m# In this case we have created variables on the first call, so we run the\u001b[0m\u001b[0;34m\u001b[0m\u001b[0;34m\u001b[0m\u001b[0m\n\u001b[1;32m    925\u001b[0m       \u001b[0;31m# defunned version which is guaranteed to never create variables.\u001b[0m\u001b[0;34m\u001b[0m\u001b[0;34m\u001b[0m\u001b[0m\n\u001b[0;32m--> 926\u001b[0;31m       \u001b[0;32mreturn\u001b[0m \u001b[0mself\u001b[0m\u001b[0;34m.\u001b[0m\u001b[0m_no_variable_creation_fn\u001b[0m\u001b[0;34m(\u001b[0m\u001b[0;34m*\u001b[0m\u001b[0margs\u001b[0m\u001b[0;34m,\u001b[0m \u001b[0;34m**\u001b[0m\u001b[0mkwds\u001b[0m\u001b[0;34m)\u001b[0m  \u001b[0;31m# pylint: disable=not-callable\u001b[0m\u001b[0;34m\u001b[0m\u001b[0;34m\u001b[0m\u001b[0m\n\u001b[0m\u001b[1;32m    927\u001b[0m     \u001b[0;32melif\u001b[0m \u001b[0mself\u001b[0m\u001b[0;34m.\u001b[0m\u001b[0m_variable_creation_fn\u001b[0m \u001b[0;32mis\u001b[0m \u001b[0;32mnot\u001b[0m \u001b[0;32mNone\u001b[0m\u001b[0;34m:\u001b[0m\u001b[0;34m\u001b[0m\u001b[0;34m\u001b[0m\u001b[0m\n\u001b[1;32m    928\u001b[0m       \u001b[0;31m# Release the lock early so that multiple threads can perform the call\u001b[0m\u001b[0;34m\u001b[0m\u001b[0;34m\u001b[0m\u001b[0m\n",
            "\u001b[0;32m/usr/local/lib/python3.10/dist-packages/tensorflow/python/eager/polymorphic_function/tracing_compiler.py\u001b[0m in \u001b[0;36m__call__\u001b[0;34m(self, *args, **kwargs)\u001b[0m\n\u001b[1;32m    141\u001b[0m       (concrete_function,\n\u001b[1;32m    142\u001b[0m        filtered_flat_args) = self._maybe_define_function(args, kwargs)\n\u001b[0;32m--> 143\u001b[0;31m     return concrete_function._call_flat(\n\u001b[0m\u001b[1;32m    144\u001b[0m         filtered_flat_args, captured_inputs=concrete_function.captured_inputs)  # pylint: disable=protected-access\n\u001b[1;32m    145\u001b[0m \u001b[0;34m\u001b[0m\u001b[0m\n",
            "\u001b[0;32m/usr/local/lib/python3.10/dist-packages/tensorflow/python/eager/polymorphic_function/monomorphic_function.py\u001b[0m in \u001b[0;36m_call_flat\u001b[0;34m(self, args, captured_inputs, cancellation_manager)\u001b[0m\n\u001b[1;32m   1755\u001b[0m         and executing_eagerly):\n\u001b[1;32m   1756\u001b[0m       \u001b[0;31m# No tape is watching; skip to running the function.\u001b[0m\u001b[0;34m\u001b[0m\u001b[0;34m\u001b[0m\u001b[0m\n\u001b[0;32m-> 1757\u001b[0;31m       return self._build_call_outputs(self._inference_function.call(\n\u001b[0m\u001b[1;32m   1758\u001b[0m           ctx, args, cancellation_manager=cancellation_manager))\n\u001b[1;32m   1759\u001b[0m     forward_backward = self._select_forward_and_backward_functions(\n",
            "\u001b[0;32m/usr/local/lib/python3.10/dist-packages/tensorflow/python/eager/polymorphic_function/monomorphic_function.py\u001b[0m in \u001b[0;36mcall\u001b[0;34m(self, ctx, args, cancellation_manager)\u001b[0m\n\u001b[1;32m    379\u001b[0m       \u001b[0;32mwith\u001b[0m \u001b[0m_InterpolateFunctionError\u001b[0m\u001b[0;34m(\u001b[0m\u001b[0mself\u001b[0m\u001b[0;34m)\u001b[0m\u001b[0;34m:\u001b[0m\u001b[0;34m\u001b[0m\u001b[0;34m\u001b[0m\u001b[0m\n\u001b[1;32m    380\u001b[0m         \u001b[0;32mif\u001b[0m \u001b[0mcancellation_manager\u001b[0m \u001b[0;32mis\u001b[0m \u001b[0;32mNone\u001b[0m\u001b[0;34m:\u001b[0m\u001b[0;34m\u001b[0m\u001b[0;34m\u001b[0m\u001b[0m\n\u001b[0;32m--> 381\u001b[0;31m           outputs = execute.execute(\n\u001b[0m\u001b[1;32m    382\u001b[0m               \u001b[0mstr\u001b[0m\u001b[0;34m(\u001b[0m\u001b[0mself\u001b[0m\u001b[0;34m.\u001b[0m\u001b[0msignature\u001b[0m\u001b[0;34m.\u001b[0m\u001b[0mname\u001b[0m\u001b[0;34m)\u001b[0m\u001b[0;34m,\u001b[0m\u001b[0;34m\u001b[0m\u001b[0;34m\u001b[0m\u001b[0m\n\u001b[1;32m    383\u001b[0m               \u001b[0mnum_outputs\u001b[0m\u001b[0;34m=\u001b[0m\u001b[0mself\u001b[0m\u001b[0;34m.\u001b[0m\u001b[0m_num_outputs\u001b[0m\u001b[0;34m,\u001b[0m\u001b[0;34m\u001b[0m\u001b[0;34m\u001b[0m\u001b[0m\n",
            "\u001b[0;32m/usr/local/lib/python3.10/dist-packages/tensorflow/python/eager/execute.py\u001b[0m in \u001b[0;36mquick_execute\u001b[0;34m(op_name, num_outputs, inputs, attrs, ctx, name)\u001b[0m\n\u001b[1;32m     50\u001b[0m   \u001b[0;32mtry\u001b[0m\u001b[0;34m:\u001b[0m\u001b[0;34m\u001b[0m\u001b[0;34m\u001b[0m\u001b[0m\n\u001b[1;32m     51\u001b[0m     \u001b[0mctx\u001b[0m\u001b[0;34m.\u001b[0m\u001b[0mensure_initialized\u001b[0m\u001b[0;34m(\u001b[0m\u001b[0;34m)\u001b[0m\u001b[0;34m\u001b[0m\u001b[0;34m\u001b[0m\u001b[0m\n\u001b[0;32m---> 52\u001b[0;31m     tensors = pywrap_tfe.TFE_Py_Execute(ctx._handle, device_name, op_name,\n\u001b[0m\u001b[1;32m     53\u001b[0m                                         inputs, attrs, num_outputs)\n\u001b[1;32m     54\u001b[0m   \u001b[0;32mexcept\u001b[0m \u001b[0mcore\u001b[0m\u001b[0;34m.\u001b[0m\u001b[0m_NotOkStatusException\u001b[0m \u001b[0;32mas\u001b[0m \u001b[0me\u001b[0m\u001b[0;34m:\u001b[0m\u001b[0;34m\u001b[0m\u001b[0;34m\u001b[0m\u001b[0m\n",
            "\u001b[0;31mKeyboardInterrupt\u001b[0m: "
          ]
        }
      ],
      "source": [
        "# model.compile(loss = 'categorical_crossentropy',\n",
        "#               optimizer = 'sgd',\n",
        "#               metrics = ['accuracy'],\n",
        "#               )\n",
        "\n",
        "# model.fit(x,y,epochs=200,verbose=2)"
      ]
    },
    {
      "cell_type": "code",
      "execution_count": null,
      "metadata": {
        "id": "PidPdiksjV5-"
      },
      "outputs": [],
      "source": []
    }
  ],
  "metadata": {
    "accelerator": "GPU",
    "colab": {
      "provenance": [],
      "mount_file_id": "1ZDrr59Qyzspek4I_xgOI1wHZ4Z96XBqu",
      "authorship_tag": "ABX9TyOIEQkBoh+mHvC8qD2cNpIO",
      "include_colab_link": true
    },
    "kernelspec": {
      "display_name": "Python 3",
      "name": "python3"
    },
    "language_info": {
      "name": "python"
    }
  },
  "nbformat": 4,
  "nbformat_minor": 0
}