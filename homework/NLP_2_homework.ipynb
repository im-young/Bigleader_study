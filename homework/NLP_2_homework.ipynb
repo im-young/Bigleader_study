{
 "cells": [
  {
   "cell_type": "code",
   "execution_count": 6,
   "metadata": {},
   "outputs": [],
   "source": [
    "from selenium import webdriver\n",
    "import time, os, sys\n",
    "from selenium.webdriver.common.by import By\n",
    "from bs4 import BeautifulSoup\n"
   ]
  },
  {
   "cell_type": "code",
   "execution_count": 7,
   "metadata": {},
   "outputs": [],
   "source": [
    "# 웹사이트 오픈\n",
    "driver = webdriver.Chrome() \n",
    "driver.get('https://n.news.naver.com/mnews/article/056/0011532452?sid=103')\n",
    "\n",
    "# 크롤링 \n",
    "soup = BeautifulSoup(driver.page_source, 'html.parser')\n",
    "script = soup.find('div',id=\"dic_area\")\n",
    "script = script.get_text()"
   ]
  },
  {
   "cell_type": "code",
   "execution_count": 20,
   "metadata": {},
   "outputs": [
    {
     "data": {
      "text/plain": [
       "'\\n\\n\\n\\n\\n\\n\\n\\n\\n\\n\\n\\n\\n\\n\\n[KBS 청주] 종일 비가 오락가락하는 가운데 폭염이 기승입니다. 충북 전 지역에는 폭염주의보가 내려졌는데요. 앞으로 기온은 더 오르겠습니다. 내일 청주 한낮기온 31도,  목요일인 모레는 33도까지 오르며 무더위는 더욱 기세를 올리겠는데요. 밤사이에도  한낮의 열기가 식지 않고 열대야가 이어지겠습니다. 밤낮 할 것 없는 더위에 지치지 않도록 건강 잘 챙기시기 바랍니다. 비는 오늘 밤사이 대부분 그치겠지만 북부 지역은 내일 아침까지 이어지는 곳이 있겠는데요. 예상되는 비의 양은 5에서 40mm 정도 고요.  돌풍이 불겠고  벼락이 치는 곳도 있겠습니다. 비가 그쳐도 소나기가 이어져 우산은 계속 챙겨 다니셔야겠는데요. 내일 오전부터 저녁 사이 돌풍과 벼락을 동반한 소나기가 내리겠습니다. 예상 강수량은 5에서 60mm,  많은 곳은 80mm 이상입니다. 다음은 자세한 지역별 내일 날씨입니다. 내일 아침 기온 청주 25도, 충주와 진천 23도, 제천은 22도로 출발합니다. 한낮 기온은 청주와 충주 31도, 제천과 보은은 30도까지 올라 무덥겠습니다.  당분간 폭염과 열대야가 이어지겠고요. 소나기 소식이 잦겠습니다. 토요일에는 한차례 비가 내리겠습니다. 날씨였습니다.\\n'"
      ]
     },
     "execution_count": 20,
     "metadata": {},
     "output_type": "execute_result"
    }
   ],
   "source": [
    "script"
   ]
  },
  {
   "cell_type": "code",
   "execution_count": 23,
   "metadata": {},
   "outputs": [],
   "source": [
    "# 특정 단어 추출\n",
    "import re\n",
    "mm = re.findall('[a-zA-Z0-9]+', script)"
   ]
  },
  {
   "cell_type": "code",
   "execution_count": 24,
   "metadata": {},
   "outputs": [
    {
     "name": "stdout",
     "output_type": "stream",
     "text": [
      "['KBS', '31', '33', '5', '40mm', '5', '60mm', '80mm', '25', '23', '22', '31', '30']\n"
     ]
    }
   ],
   "source": [
    "print(str(mm))"
   ]
  },
  {
   "cell_type": "code",
   "execution_count": 28,
   "metadata": {},
   "outputs": [
    {
     "data": {
      "text/plain": [
       "'print1234'"
      ]
     },
     "execution_count": 28,
     "metadata": {},
     "output_type": "execute_result"
    }
   ],
   "source": [
    "m = re.match('(?P<func>[a-zA-Z_][a-zA-Z0-9_]+)\\((?P<arg>\\w+)\\)', 'print(1234)')\n",
    "\n",
    "# m.group(1)\n",
    "# m.group(2)\n",
    "\n",
    "# m.group('func')  # 그룹이 이름 \n",
    "\n",
    "m.group(1)+m.group(2)"
   ]
  },
  {
   "cell_type": "code",
   "execution_count": 29,
   "metadata": {},
   "outputs": [
    {
     "data": {
      "text/plain": [
       "'1'"
      ]
     },
     "execution_count": 29,
     "metadata": {},
     "output_type": "execute_result"
    }
   ],
   "source": [
    "m = re.match('([0-9]+) ([0-9]+)', '10 295')\n",
    "m.group(1)\n",
    "m.group()[0]"
   ]
  },
  {
   "cell_type": "code",
   "execution_count": 37,
   "metadata": {},
   "outputs": [
    {
     "ename": "AttributeError",
     "evalue": "'NoneType' object has no attribute 'group'",
     "output_type": "error",
     "traceback": [
      "\u001b[1;31m---------------------------------------------------------------------------\u001b[0m",
      "\u001b[1;31mAttributeError\u001b[0m                            Traceback (most recent call last)",
      "Cell \u001b[1;32mIn[37], line 3\u001b[0m\n\u001b[0;32m      1\u001b[0m \u001b[39m# 숫자뒤 단위까지 추출\u001b[39;00m\n\u001b[0;32m      2\u001b[0m a \u001b[39m=\u001b[39mre\u001b[39m.\u001b[39mmatch(\u001b[39m'\u001b[39m\u001b[39m(?P<int>\u001b[39m\u001b[39m\\\u001b[39m\u001b[39md+)\u001b[39m\u001b[39m\\\u001b[39m\u001b[39m((?P<str>\u001b[39m\u001b[39m\\\u001b[39m\u001b[39mw +)\u001b[39m\u001b[39m\\\u001b[39m\u001b[39m)\u001b[39m\u001b[39m'\u001b[39m, script)\n\u001b[1;32m----> 3\u001b[0m a\u001b[39m.\u001b[39;49mgroup(\u001b[39m'\u001b[39m\u001b[39mstr\u001b[39m\u001b[39m'\u001b[39m)\n",
      "\u001b[1;31mAttributeError\u001b[0m: 'NoneType' object has no attribute 'group'"
     ]
    }
   ],
   "source": [
    "# 숫자뒤 단위까지 추출\n",
    "a =re.match('(?P<int>\\d+)\\((?P<str>\\w +)\\)', script)\n",
    "a.group(1)"
   ]
  },
  {
   "cell_type": "code",
   "execution_count": null,
   "metadata": {},
   "outputs": [],
   "source": []
  }
 ],
 "metadata": {
  "kernelspec": {
   "display_name": "main",
   "language": "python",
   "name": "python3"
  },
  "language_info": {
   "codemirror_mode": {
    "name": "ipython",
    "version": 3
   },
   "file_extension": ".py",
   "mimetype": "text/x-python",
   "name": "python",
   "nbconvert_exporter": "python",
   "pygments_lexer": "ipython3",
   "version": "3.9.16"
  },
  "orig_nbformat": 4
 },
 "nbformat": 4,
 "nbformat_minor": 2
}
